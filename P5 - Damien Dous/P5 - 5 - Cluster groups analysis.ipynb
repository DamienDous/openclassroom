{
 "cells": [
  {
   "cell_type": "code",
   "execution_count": 1,
   "id": "e5263791",
   "metadata": {
    "ExecuteTime": {
     "end_time": "2022-04-25T10:37:41.144619Z",
     "start_time": "2022-04-25T10:37:41.141487Z"
    }
   },
   "outputs": [],
   "source": [
    "#%reset"
   ]
  },
  {
   "cell_type": "code",
   "execution_count": 2,
   "id": "d9147fe8",
   "metadata": {
    "ExecuteTime": {
     "end_time": "2022-04-25T10:37:44.449421Z",
     "start_time": "2022-04-25T10:37:41.147894Z"
    }
   },
   "outputs": [
    {
     "name": "stdout",
     "output_type": "stream",
     "text": [
      "Populating the interactive namespace from numpy and matplotlib\n"
     ]
    }
   ],
   "source": [
    "import pandas as pd\n",
    "%pylab inline\n",
    "import seaborn as sns\n",
    "sns.set(style=\"darkgrid\")"
   ]
  },
  {
   "cell_type": "markdown",
   "id": "b9f745e5",
   "metadata": {},
   "source": [
    "# Load data"
   ]
  },
  {
   "cell_type": "code",
   "execution_count": 3,
   "id": "4e7a6e39",
   "metadata": {
    "ExecuteTime": {
     "end_time": "2022-04-25T10:37:45.188257Z",
     "start_time": "2022-04-25T10:37:44.452728Z"
    }
   },
   "outputs": [],
   "source": [
    "customers_data = pd.read_csv('customers_data.csv', decimal=',', index_col=0)"
   ]
  },
  {
   "cell_type": "code",
   "execution_count": 4,
   "id": "0528cb04",
   "metadata": {
    "ExecuteTime": {
     "end_time": "2022-04-25T10:37:45.199669Z",
     "start_time": "2022-04-25T10:37:45.190513Z"
    }
   },
   "outputs": [
    {
     "data": {
      "text/plain": [
       "0        2017-09-13 08:59:02\n",
       "1        2017-06-28 11:52:20\n",
       "2        2018-05-18 10:25:53\n",
       "3        2017-08-01 18:38:42\n",
       "4        2017-08-10 21:48:40\n",
       "                ...         \n",
       "94715    2017-09-03 17:20:56\n",
       "94716    2018-07-23 16:24:27\n",
       "94717    2018-07-26 09:13:04\n",
       "94718    2017-08-11 10:15:22\n",
       "94719    2018-04-12 19:47:40\n",
       "Name: order_purchase_timestamp, Length: 94720, dtype: object"
      ]
     },
     "execution_count": 4,
     "metadata": {},
     "output_type": "execute_result"
    }
   ],
   "source": [
    "customers_data['order_purchase_timestamp']"
   ]
  },
  {
   "cell_type": "markdown",
   "id": "9146533c",
   "metadata": {
    "ExecuteTime": {
     "end_time": "2022-04-05T12:20:16.275125Z",
     "start_time": "2022-04-05T12:20:16.272691Z"
    }
   },
   "source": [
    "## Decompose columns in groups"
   ]
  },
  {
   "cell_type": "code",
   "execution_count": 5,
   "id": "a9e39a04",
   "metadata": {
    "ExecuteTime": {
     "end_time": "2022-04-25T10:37:45.206807Z",
     "start_time": "2022-04-25T10:37:45.202241Z"
    }
   },
   "outputs": [],
   "source": [
    "selected_columns = ['order_id', 'order_item_id', 'freight_value', 'review_score', \n",
    "                    'dist_to_seller', 'payment_value', 'product_photos_qty', \n",
    "                    'comment_propensity']\n",
    "\n",
    "# Define clusters number\n",
    "clusters_n = 7"
   ]
  },
  {
   "cell_type": "markdown",
   "id": "b31a7390",
   "metadata": {},
   "source": [
    "# Evaluate columns type impact on clustering"
   ]
  },
  {
   "cell_type": "markdown",
   "id": "a206cb24",
   "metadata": {},
   "source": [
    "## Kmeans on variable with Kmeans result high dispersion"
   ]
  },
  {
   "cell_type": "code",
   "execution_count": 6,
   "id": "5913cffe",
   "metadata": {
    "ExecuteTime": {
     "end_time": "2022-04-25T10:37:46.280149Z",
     "start_time": "2022-04-25T10:37:45.208919Z"
    },
    "scrolled": false
   },
   "outputs": [],
   "source": [
    "from sklearn.cluster import KMeans\n",
    "from sklearn import preprocessing\n",
    "\n",
    "# Create scaled dataframe\n",
    "dataframe = customers_data[selected_columns]\n",
    "dataframe_scaled = preprocessing.StandardScaler().fit_transform(dataframe)\n",
    "dataframe_scaled = pd.DataFrame(dataframe_scaled, columns=dataframe.columns)\n",
    "\n",
    "# Apply KMeans on scaled dataframe\n",
    "clusterer = KMeans(n_clusters=clusters_n).fit(dataframe_scaled)"
   ]
  },
  {
   "cell_type": "markdown",
   "id": "8c62cce6",
   "metadata": {},
   "source": [
    "# Create customer groups from clustering"
   ]
  },
  {
   "cell_type": "code",
   "execution_count": 7,
   "id": "e9f8d7e5",
   "metadata": {
    "ExecuteTime": {
     "end_time": "2022-04-25T10:37:46.642652Z",
     "start_time": "2022-04-25T10:37:46.282814Z"
    },
    "run_control": {
     "marked": false
    },
    "scrolled": true
   },
   "outputs": [
    {
     "data": {
      "text/html": [
       "<style type=\"text/css\">\n",
       "#T_0a694_row0_col8, #T_0a694_row1_col7, #T_0a694_row2_col1, #T_0a694_row2_col2, #T_0a694_row3_col6, #T_0a694_row4_col4, #T_0a694_row5_col0, #T_0a694_row6_col2, #T_0a694_row6_col5 {\n",
       "  background: lightgreen;\n",
       "}\n",
       "#T_0a694_row1_col3 {\n",
       "  background: coral;\n",
       "}\n",
       "</style>\n",
       "<table id=\"T_0a694_\">\n",
       "  <thead>\n",
       "    <tr>\n",
       "      <th class=\"blank level0\" >&nbsp;</th>\n",
       "      <th class=\"col_heading level0 col0\" >order_id</th>\n",
       "      <th class=\"col_heading level0 col1\" >order_item_id</th>\n",
       "      <th class=\"col_heading level0 col2\" >freight_value</th>\n",
       "      <th class=\"col_heading level0 col3\" >review_score</th>\n",
       "      <th class=\"col_heading level0 col4\" >dist_to_seller</th>\n",
       "      <th class=\"col_heading level0 col5\" >payment_value</th>\n",
       "      <th class=\"col_heading level0 col6\" >product_photos_qty</th>\n",
       "      <th class=\"col_heading level0 col7\" >comment_propensity</th>\n",
       "      <th class=\"col_heading level0 col8\" >cluster_size</th>\n",
       "    </tr>\n",
       "  </thead>\n",
       "  <tbody>\n",
       "    <tr>\n",
       "      <th id=\"T_0a694_level0_row0\" class=\"row_heading level0 row0\" >0</th>\n",
       "      <td id=\"T_0a694_row0_col0\" class=\"data row0 col0\" >1.000000</td>\n",
       "      <td id=\"T_0a694_row0_col1\" class=\"data row0 col1\" >1.064596</td>\n",
       "      <td id=\"T_0a694_row0_col2\" class=\"data row0 col2\" >17.980504</td>\n",
       "      <td id=\"T_0a694_row0_col3\" class=\"data row0 col3\" >4.612659</td>\n",
       "      <td id=\"T_0a694_row0_col4\" class=\"data row0 col4\" >405.393021</td>\n",
       "      <td id=\"T_0a694_row0_col5\" class=\"data row0 col5\" >126.702403</td>\n",
       "      <td id=\"T_0a694_row0_col6\" class=\"data row0 col6\" >1.542651</td>\n",
       "      <td id=\"T_0a694_row0_col7\" class=\"data row0 col7\" >2.256596</td>\n",
       "      <td id=\"T_0a694_row0_col8\" class=\"data row0 col8\" >51474</td>\n",
       "    </tr>\n",
       "    <tr>\n",
       "      <th id=\"T_0a694_level0_row1\" class=\"row_heading level0 row1\" >1</th>\n",
       "      <td id=\"T_0a694_row1_col0\" class=\"data row1 col0\" >1.000000</td>\n",
       "      <td id=\"T_0a694_row1_col1\" class=\"data row1 col1\" >1.151344</td>\n",
       "      <td id=\"T_0a694_row1_col2\" class=\"data row1 col2\" >21.784248</td>\n",
       "      <td id=\"T_0a694_row1_col3\" class=\"data row1 col3\" >1.820591</td>\n",
       "      <td id=\"T_0a694_row1_col4\" class=\"data row1 col4\" >530.261737</td>\n",
       "      <td id=\"T_0a694_row1_col5\" class=\"data row1 col5\" >151.905408</td>\n",
       "      <td id=\"T_0a694_row1_col6\" class=\"data row1 col6\" >1.957538</td>\n",
       "      <td id=\"T_0a694_row1_col7\" class=\"data row1 col7\" >17.785230</td>\n",
       "      <td id=\"T_0a694_row1_col8\" class=\"data row1 col8\" >13433</td>\n",
       "    </tr>\n",
       "    <tr>\n",
       "      <th id=\"T_0a694_level0_row2\" class=\"row_heading level0 row2\" >2</th>\n",
       "      <td id=\"T_0a694_row2_col0\" class=\"data row2 col0\" >1.015093</td>\n",
       "      <td id=\"T_0a694_row2_col1\" class=\"data row2 col1\" >3.738072</td>\n",
       "      <td id=\"T_0a694_row2_col2\" class=\"data row2 col2\" >70.535891</td>\n",
       "      <td id=\"T_0a694_row2_col3\" class=\"data row2 col3\" >3.407254</td>\n",
       "      <td id=\"T_0a694_row2_col4\" class=\"data row2 col4\" >560.835388</td>\n",
       "      <td id=\"T_0a694_row2_col5\" class=\"data row2 col5\" >337.414830</td>\n",
       "      <td id=\"T_0a694_row2_col6\" class=\"data row2 col6\" >1.830098</td>\n",
       "      <td id=\"T_0a694_row2_col7\" class=\"data row2 col7\" >8.097614</td>\n",
       "      <td id=\"T_0a694_row2_col8\" class=\"data row2 col8\" >2054</td>\n",
       "    </tr>\n",
       "    <tr>\n",
       "      <th id=\"T_0a694_level0_row3\" class=\"row_heading level0 row3\" >3</th>\n",
       "      <td id=\"T_0a694_row3_col0\" class=\"data row3 col0\" >1.000074</td>\n",
       "      <td id=\"T_0a694_row3_col1\" class=\"data row3 col1\" >1.047475</td>\n",
       "      <td id=\"T_0a694_row3_col2\" class=\"data row3 col2\" >18.653441</td>\n",
       "      <td id=\"T_0a694_row3_col3\" class=\"data row3 col3\" >4.469359</td>\n",
       "      <td id=\"T_0a694_row3_col4\" class=\"data row3 col4\" >441.715783</td>\n",
       "      <td id=\"T_0a694_row3_col5\" class=\"data row3 col5\" >136.755543</td>\n",
       "      <td id=\"T_0a694_row3_col6\" class=\"data row3 col6\" >5.388748</td>\n",
       "      <td id=\"T_0a694_row3_col7\" class=\"data row3 col7\" >2.979105</td>\n",
       "      <td id=\"T_0a694_row3_col8\" class=\"data row3 col8\" >13544</td>\n",
       "    </tr>\n",
       "    <tr>\n",
       "      <th id=\"T_0a694_level0_row4\" class=\"row_heading level0 row4\" >4</th>\n",
       "      <td id=\"T_0a694_row4_col0\" class=\"data row4 col0\" >1.000000</td>\n",
       "      <td id=\"T_0a694_row4_col1\" class=\"data row4 col1\" >1.056188</td>\n",
       "      <td id=\"T_0a694_row4_col2\" class=\"data row4 col2\" >35.258204</td>\n",
       "      <td id=\"T_0a694_row4_col3\" class=\"data row4 col3\" >4.202703</td>\n",
       "      <td id=\"T_0a694_row4_col4\" class=\"data row4 col4\" >1917.693899</td>\n",
       "      <td id=\"T_0a694_row4_col5\" class=\"data row4 col5\" >179.096035</td>\n",
       "      <td id=\"T_0a694_row4_col6\" class=\"data row4 col6\" >2.140356</td>\n",
       "      <td id=\"T_0a694_row4_col7\" class=\"data row4 col7\" >3.849726</td>\n",
       "      <td id=\"T_0a694_row4_col8\" class=\"data row4 col8\" >9842</td>\n",
       "    </tr>\n",
       "    <tr>\n",
       "      <th id=\"T_0a694_level0_row5\" class=\"row_heading level0 row5\" >5</th>\n",
       "      <td id=\"T_0a694_row5_col0\" class=\"data row5 col0\" >2.115629</td>\n",
       "      <td id=\"T_0a694_row5_col1\" class=\"data row5 col1\" >1.170777</td>\n",
       "      <td id=\"T_0a694_row5_col2\" class=\"data row5 col2\" >22.473823</td>\n",
       "      <td id=\"T_0a694_row5_col3\" class=\"data row5 col3\" >4.169305</td>\n",
       "      <td id=\"T_0a694_row5_col4\" class=\"data row5 col4\" >556.077754</td>\n",
       "      <td id=\"T_0a694_row5_col5\" class=\"data row5 col5\" >139.860392</td>\n",
       "      <td id=\"T_0a694_row5_col6\" class=\"data row5 col6\" >2.074897</td>\n",
       "      <td id=\"T_0a694_row5_col7\" class=\"data row5 col7\" >4.575732</td>\n",
       "      <td id=\"T_0a694_row5_col8\" class=\"data row5 col8\" >2828</td>\n",
       "    </tr>\n",
       "    <tr>\n",
       "      <th id=\"T_0a694_level0_row6\" class=\"row_heading level0 row6\" >6</th>\n",
       "      <td id=\"T_0a694_row6_col0\" class=\"data row6 col0\" >1.005825</td>\n",
       "      <td id=\"T_0a694_row6_col1\" class=\"data row6 col1\" >1.281553</td>\n",
       "      <td id=\"T_0a694_row6_col2\" class=\"data row6 col2\" >99.722472</td>\n",
       "      <td id=\"T_0a694_row6_col3\" class=\"data row6 col3\" >3.894498</td>\n",
       "      <td id=\"T_0a694_row6_col4\" class=\"data row6 col4\" >899.368632</td>\n",
       "      <td id=\"T_0a694_row6_col5\" class=\"data row6 col5\" >1338.742456</td>\n",
       "      <td id=\"T_0a694_row6_col6\" class=\"data row6 col6\" >2.727110</td>\n",
       "      <td id=\"T_0a694_row6_col7\" class=\"data row6 col7\" >7.196440</td>\n",
       "      <td id=\"T_0a694_row6_col8\" class=\"data row6 col8\" >1545</td>\n",
       "    </tr>\n",
       "  </tbody>\n",
       "</table>\n"
      ],
      "text/plain": [
       "<pandas.io.formats.style.Styler at 0x7fed082b1df0>"
      ]
     },
     "execution_count": 7,
     "metadata": {},
     "output_type": "execute_result"
    }
   ],
   "source": [
    "groups_data = [(id, dataframe[clusterer.labels_ == id])\n",
    "               for id in set(clusterer.labels_)]\n",
    "group_descriptions = [(group[0], group[1].describe())\n",
    "                      for group in groups_data]\n",
    "\n",
    "group_mean = pd.DataFrame()\n",
    "\n",
    "for col in dataframe.columns:\n",
    "    for des in group_descriptions:\n",
    "        group_mean.loc[des[0], col] = des[1].loc['mean', col]\n",
    "\n",
    "group_mean['cluster_size'] = [sum(clusterer.labels_ == id)\n",
    "                              for id in set(clusterer.labels_)]\n",
    "\n",
    "mean_std_df = pd.DataFrame(index=['mean', 'std'], columns=dataframe.columns)\n",
    "mean_std_df.loc['mean', :] = dataframe.mean().values\n",
    "mean_std_df.loc['std', :] = dataframe.std().values\n",
    "mean_std_df.loc['mean','cluster_size'] = group_mean['cluster_size'].mean()\n",
    "mean_std_df.loc['std','cluster_size'] = group_mean['cluster_size'].std()\n",
    "\n",
    "group_mean.style.apply(\n",
    "    lambda x: [\"background: lightgreen\"\n",
    "               if v > (mean_std_df.loc['mean', x.name] + mean_std_df.loc['std', x.name])\n",
    "               else \"\" for v in x], axis=0).apply(\n",
    "    lambda x: [\"background: coral\"\n",
    "               if v < (mean_std_df.loc['mean', x.name] - mean_std_df.loc['std', x.name])\n",
    "               else \"\" for v in x], axis=0)"
   ]
  },
  {
   "cell_type": "markdown",
   "id": "66d0dae2",
   "metadata": {},
   "source": [
    "# Update Frequency"
   ]
  },
  {
   "cell_type": "code",
   "execution_count": 8,
   "id": "f8507d33",
   "metadata": {
    "ExecuteTime": {
     "end_time": "2022-04-25T10:37:47.947201Z",
     "start_time": "2022-04-25T10:37:46.644822Z"
    },
    "run_control": {
     "marked": false
    }
   },
   "outputs": [],
   "source": [
    "from sklearn.cluster import KMeans\n",
    "from sklearn import preprocessing\n",
    "from datetime import datetime\n",
    "from datetime import timedelta\n",
    "\n",
    "def object_to_datetime(_x):\n",
    "    if pd.isnull(_x) == False:\n",
    "        return datetime.strptime(_x, '%Y-%m-%d %H:%M:%S')\n",
    "    else:\n",
    "        return np.nan\n",
    "\n",
    "customers_data['date'] = customers_data['order_purchase_timestamp'].apply(\n",
    "    lambda x: object_to_datetime(x))"
   ]
  },
  {
   "cell_type": "code",
   "execution_count": 9,
   "id": "5553f846",
   "metadata": {
    "ExecuteTime": {
     "end_time": "2022-04-25T10:37:52.077390Z",
     "start_time": "2022-04-25T10:37:47.952491Z"
    },
    "scrolled": false
   },
   "outputs": [
    {
     "data": {
      "text/html": [
       "<div>\n",
       "<style scoped>\n",
       "    .dataframe tbody tr th:only-of-type {\n",
       "        vertical-align: middle;\n",
       "    }\n",
       "\n",
       "    .dataframe tbody tr th {\n",
       "        vertical-align: top;\n",
       "    }\n",
       "\n",
       "    .dataframe thead th {\n",
       "        text-align: right;\n",
       "    }\n",
       "</style>\n",
       "<table border=\"1\" class=\"dataframe\">\n",
       "  <thead>\n",
       "    <tr style=\"text-align: right;\">\n",
       "      <th></th>\n",
       "      <th>begin</th>\n",
       "      <th>end</th>\n",
       "      <th>size</th>\n",
       "      <th>similarity score</th>\n",
       "    </tr>\n",
       "  </thead>\n",
       "  <tbody>\n",
       "    <tr>\n",
       "      <th>0</th>\n",
       "      <td>2017-09-04</td>\n",
       "      <td>2017-09-19</td>\n",
       "      <td>2104</td>\n",
       "      <td>0.950165</td>\n",
       "    </tr>\n",
       "    <tr>\n",
       "      <th>1</th>\n",
       "      <td>2017-09-19</td>\n",
       "      <td>2017-10-04</td>\n",
       "      <td>2011</td>\n",
       "      <td>0.959747</td>\n",
       "    </tr>\n",
       "    <tr>\n",
       "      <th>2</th>\n",
       "      <td>2017-10-04</td>\n",
       "      <td>2017-10-19</td>\n",
       "      <td>2168</td>\n",
       "      <td>0.731722</td>\n",
       "    </tr>\n",
       "    <tr>\n",
       "      <th>3</th>\n",
       "      <td>2017-10-19</td>\n",
       "      <td>2017-11-03</td>\n",
       "      <td>1966</td>\n",
       "      <td>0.957593</td>\n",
       "    </tr>\n",
       "    <tr>\n",
       "      <th>4</th>\n",
       "      <td>2017-11-03</td>\n",
       "      <td>2017-11-18</td>\n",
       "      <td>2469</td>\n",
       "      <td>0.983538</td>\n",
       "    </tr>\n",
       "    <tr>\n",
       "      <th>5</th>\n",
       "      <td>2017-11-18</td>\n",
       "      <td>2017-12-03</td>\n",
       "      <td>4933</td>\n",
       "      <td>0.925995</td>\n",
       "    </tr>\n",
       "    <tr>\n",
       "      <th>6</th>\n",
       "      <td>2017-12-03</td>\n",
       "      <td>2017-12-18</td>\n",
       "      <td>3166</td>\n",
       "      <td>0.945074</td>\n",
       "    </tr>\n",
       "    <tr>\n",
       "      <th>7</th>\n",
       "      <td>2017-12-18</td>\n",
       "      <td>2018-01-02</td>\n",
       "      <td>1848</td>\n",
       "      <td>0.966764</td>\n",
       "    </tr>\n",
       "    <tr>\n",
       "      <th>8</th>\n",
       "      <td>2018-01-02</td>\n",
       "      <td>2018-01-17</td>\n",
       "      <td>3546</td>\n",
       "      <td>0.962058</td>\n",
       "    </tr>\n",
       "    <tr>\n",
       "      <th>9</th>\n",
       "      <td>2018-01-17</td>\n",
       "      <td>2018-02-01</td>\n",
       "      <td>3313</td>\n",
       "      <td>0.976001</td>\n",
       "    </tr>\n",
       "    <tr>\n",
       "      <th>10</th>\n",
       "      <td>2018-02-01</td>\n",
       "      <td>2018-02-16</td>\n",
       "      <td>3271</td>\n",
       "      <td>0.950292</td>\n",
       "    </tr>\n",
       "    <tr>\n",
       "      <th>11</th>\n",
       "      <td>2018-02-16</td>\n",
       "      <td>2018-03-03</td>\n",
       "      <td>3630</td>\n",
       "      <td>0.811393</td>\n",
       "    </tr>\n",
       "    <tr>\n",
       "      <th>12</th>\n",
       "      <td>2018-03-03</td>\n",
       "      <td>2018-03-18</td>\n",
       "      <td>3314</td>\n",
       "      <td>0.768759</td>\n",
       "    </tr>\n",
       "    <tr>\n",
       "      <th>13</th>\n",
       "      <td>2018-03-18</td>\n",
       "      <td>2018-04-02</td>\n",
       "      <td>3280</td>\n",
       "      <td>0.963795</td>\n",
       "    </tr>\n",
       "    <tr>\n",
       "      <th>14</th>\n",
       "      <td>2018-04-02</td>\n",
       "      <td>2018-04-17</td>\n",
       "      <td>3298</td>\n",
       "      <td>0.97843</td>\n",
       "    </tr>\n",
       "    <tr>\n",
       "      <th>15</th>\n",
       "      <td>2018-04-17</td>\n",
       "      <td>2018-05-02</td>\n",
       "      <td>3442</td>\n",
       "      <td>0.947071</td>\n",
       "    </tr>\n",
       "    <tr>\n",
       "      <th>16</th>\n",
       "      <td>2018-05-02</td>\n",
       "      <td>2018-05-17</td>\n",
       "      <td>4176</td>\n",
       "      <td>0.984273</td>\n",
       "    </tr>\n",
       "    <tr>\n",
       "      <th>17</th>\n",
       "      <td>2018-05-17</td>\n",
       "      <td>2018-06-01</td>\n",
       "      <td>2188</td>\n",
       "      <td>0.974133</td>\n",
       "    </tr>\n",
       "    <tr>\n",
       "      <th>18</th>\n",
       "      <td>2018-06-01</td>\n",
       "      <td>2018-06-16</td>\n",
       "      <td>3057</td>\n",
       "      <td>0.971216</td>\n",
       "    </tr>\n",
       "    <tr>\n",
       "      <th>19</th>\n",
       "      <td>2018-06-16</td>\n",
       "      <td>2018-07-01</td>\n",
       "      <td>2915</td>\n",
       "      <td>0.961476</td>\n",
       "    </tr>\n",
       "    <tr>\n",
       "      <th>20</th>\n",
       "      <td>2018-07-01</td>\n",
       "      <td>2018-07-16</td>\n",
       "      <td>2274</td>\n",
       "      <td>0.930786</td>\n",
       "    </tr>\n",
       "    <tr>\n",
       "      <th>21</th>\n",
       "      <td>2018-07-16</td>\n",
       "      <td>2018-07-31</td>\n",
       "      <td>3485</td>\n",
       "      <td>0.967583</td>\n",
       "    </tr>\n",
       "    <tr>\n",
       "      <th>22</th>\n",
       "      <td>2018-07-31</td>\n",
       "      <td>2018-08-15</td>\n",
       "      <td>4227</td>\n",
       "      <td>0.979448</td>\n",
       "    </tr>\n",
       "    <tr>\n",
       "      <th>23</th>\n",
       "      <td>2018-08-15</td>\n",
       "      <td>2018-08-30</td>\n",
       "      <td>2354</td>\n",
       "      <td>0.819385</td>\n",
       "    </tr>\n",
       "  </tbody>\n",
       "</table>\n",
       "</div>"
      ],
      "text/plain": [
       "         begin         end  size similarity score\n",
       "0   2017-09-04  2017-09-19  2104         0.950165\n",
       "1   2017-09-19  2017-10-04  2011         0.959747\n",
       "2   2017-10-04  2017-10-19  2168         0.731722\n",
       "3   2017-10-19  2017-11-03  1966         0.957593\n",
       "4   2017-11-03  2017-11-18  2469         0.983538\n",
       "5   2017-11-18  2017-12-03  4933         0.925995\n",
       "6   2017-12-03  2017-12-18  3166         0.945074\n",
       "7   2017-12-18  2018-01-02  1848         0.966764\n",
       "8   2018-01-02  2018-01-17  3546         0.962058\n",
       "9   2018-01-17  2018-02-01  3313         0.976001\n",
       "10  2018-02-01  2018-02-16  3271         0.950292\n",
       "11  2018-02-16  2018-03-03  3630         0.811393\n",
       "12  2018-03-03  2018-03-18  3314         0.768759\n",
       "13  2018-03-18  2018-04-02  3280         0.963795\n",
       "14  2018-04-02  2018-04-17  3298          0.97843\n",
       "15  2018-04-17  2018-05-02  3442         0.947071\n",
       "16  2018-05-02  2018-05-17  4176         0.984273\n",
       "17  2018-05-17  2018-06-01  2188         0.974133\n",
       "18  2018-06-01  2018-06-16  3057         0.971216\n",
       "19  2018-06-16  2018-07-01  2915         0.961476\n",
       "20  2018-07-01  2018-07-16  2274         0.930786\n",
       "21  2018-07-16  2018-07-31  3485         0.967583\n",
       "22  2018-07-31  2018-08-15  4227         0.979448\n",
       "23  2018-08-15  2018-08-30  2354         0.819385"
      ]
     },
     "execution_count": 9,
     "metadata": {},
     "output_type": "execute_result"
    }
   ],
   "source": [
    "from sklearn.metrics.cluster import adjusted_rand_score\n",
    "\n",
    "# Get first and last purchase dates\n",
    "first_date = customers_data['date'].min()\n",
    "last_date = customers_data['date'].max()\n",
    "# Process middle purchase date\n",
    "middle_date = first_date + (last_date-first_date)/2\n",
    "\n",
    "# APPLY CLUSTERING ON INITIAL DATA\n",
    "# Get first half dataframe according purchase date\n",
    "initial_df = customers_data.loc[customers_data['date']\n",
    "                                < middle_date, selected_columns]\n",
    "# Create scaled dataframe\n",
    "initial_df_scaled = preprocessing.StandardScaler(\n",
    ").fit_transform(initial_df)\n",
    "initial_df_scaled = pd.DataFrame(\n",
    "    initial_df_scaled, columns=initial_df.columns)\n",
    "# Apply KMeans on scaled dataframe\n",
    "initial_clusterer = KMeans(n_clusters=clusters_n,\n",
    "                           random_state=0).fit(initial_df_scaled)\n",
    "\n",
    "# WHILE LOOP to create dataframe with 15 days more and compare labelisation\n",
    "# between initial clusterer and current clusterer\n",
    "results = pd.DataFrame(columns=['begin', 'end', 'size', 'similarity score'])\n",
    "current_date = middle_date\n",
    "cpt = 0\n",
    "cluster_params = pd.DataFrame(columns=['date', 'group id', 'param', 'mean'])\n",
    "while current_date < last_date:\n",
    "    # Save precedent date\n",
    "    precedent_date = current_date\n",
    "    # Add 15 day to current day\n",
    "    current_date = current_date + timedelta(days=15)\n",
    "\n",
    "    # TRAIN CLUSTERER ON CURRENT DATA\n",
    "    # Create current df with data of the last 15 days\n",
    "    current_df = customers_data.loc[(precedent_date < customers_data['date']) & (\n",
    "        customers_data['date'] < current_date), selected_columns]\n",
    "    # if case when current dataframe is too small\n",
    "    if len(current_df) < 7:\n",
    "        continue\n",
    "    # Create scaled current df\n",
    "    current_df_scaled = preprocessing.StandardScaler().fit_transform(current_df)\n",
    "    current_df_scaled = pd.DataFrame(\n",
    "        current_df_scaled, columns=dataframe.columns)\n",
    "    # Apply KMeans on scaled df that have data of the last 15 days\n",
    "    current_clusterer = KMeans(\n",
    "        n_clusters=clusters_n, random_state=0).fit(current_df_scaled)\n",
    "\n",
    "    # PREDICT WITH INITIAL AND CURRENT CLUSTERER\n",
    "    # Predict label for the df of the last 15 days with initial clusterer\n",
    "    label_with_initial = initial_clusterer.predict(current_df_scaled)\n",
    "    # Predict label for the df of the last 15 days with current clusterer\n",
    "    label_with_current = current_clusterer.predict(current_df_scaled)\n",
    "\n",
    "    # COMPARE RESULTS\n",
    "    # Get score to compare labels lists of initial and current clusterer\n",
    "    score = adjusted_rand_score(label_with_initial, label_with_current)\n",
    "    # Save results\n",
    "    results.loc[cpt, :] = [precedent_date.date(), current_date.date(),\n",
    "                           len(current_df_scaled), score]\n",
    "\n",
    "    cpt = cpt+1\n",
    "\n",
    "results"
   ]
  },
  {
   "cell_type": "code",
   "execution_count": 10,
   "id": "c59ec814",
   "metadata": {
    "ExecuteTime": {
     "end_time": "2022-04-25T10:37:52.501529Z",
     "start_time": "2022-04-25T10:37:52.080265Z"
    },
    "scrolled": true
   },
   "outputs": [
    {
     "data": {
      "image/png": "[encoded data removed]",
      "text/plain": [
       "<Figure size 1152x576 with 1 Axes>"
      ]
     },
     "metadata": {},
     "output_type": "display_data"
    }
   ],
   "source": [
    "# create figure and axis objects with subplots()\n",
    "fig, ax = plt.subplots(nrows=1, ncols=1, figsize=(16, 8))\n",
    "\n",
    "# First plot\n",
    "ax.plot(results['begin'],\n",
    "        results['similarity score'], color='red', marker='o', label='score')\n",
    "plt.yticks(size=20)\n",
    "\n",
    "\n",
    "plt.xticks(size=20, rotation=90)\n",
    "\n",
    "# X tick label shapping\n",
    "ax.set_xlabel('Dates', fontsize=20)\n",
    "\n",
    "# Add legend\n",
    "ax.legend(fontsize=20)\n",
    "\n",
    "# Add title\n",
    "plt.title('Similarity score on new time delta', fontsize=20)\n",
    "ax.set_ylim(ymin=0)\n",
    "plt.show()"
   ]
  },
  {
   "cell_type": "code",
   "execution_count": 11,
   "id": "d19dfa9f",
   "metadata": {
    "ExecuteTime": {
     "end_time": "2022-04-25T10:37:52.575188Z",
     "start_time": "2022-04-25T10:37:52.503731Z"
    }
   },
   "outputs": [
    {
     "name": "stdout",
     "output_type": "stream",
     "text": [
      "   order_id  order_item_id  freight_value  review_score  dist_to_seller  \\\n",
      "0  1.000000       1.064596      17.980504      4.612659      405.393021   \n",
      "1  1.000000       1.151344      21.784248      1.820591      530.261737   \n",
      "2  1.015093       3.738072      70.535891      3.407254      560.835388   \n",
      "3  1.000074       1.047475      18.653441      4.469359      441.715783   \n",
      "4  1.000000       1.056188      35.258204      4.202703     1917.693899   \n",
      "5  2.115629       1.170777      22.473823      4.169305      556.077754   \n",
      "6  1.005825       1.281553      99.722472      3.894498      899.368632   \n",
      "\n",
      "   payment_value  product_photos_qty  comment_propensity  cluster_size  \n",
      "0     126.702403            1.542651            2.256596         51474  \n",
      "1     151.905408            1.957538           17.785230         13433  \n",
      "2     337.414830            1.830098            8.097614          2054  \n",
      "3     136.755543            5.388748            2.979105         13544  \n",
      "4     179.096035            2.140356            3.849726          9842  \n",
      "5     139.860392            2.074897            4.575732          2828  \n",
      "6    1338.742456            2.727110            7.196440          1545  \n"
     ]
    }
   ],
   "source": [
    "# Draft\n",
    "high_value_bool_df = group_mean.apply(lambda x: [True if v > (\n",
    "    mean_std_df.loc['mean', x.name] + mean_std_df.loc['std', x.name]) else False for v in x])\n",
    "low_value_bool_df = group_mean.apply(lambda x: [True if v < (\n",
    "    mean_std_df.loc['mean', x.name] - mean_std_df.loc['std', x.name]) else False for v in x])\n",
    "\n",
    "cluster_params = pd.DataFrame(columns=['group id', 'param', 'mean'])\n",
    "for id in group_mean.index:\n",
    "    if high_value_bool_df.loc[id, :].sum():\n",
    "        for param in list(group_mean.loc[id, high_value_bool_df.loc[id, :]].index):\n",
    "            new_row = pd.Series(data={'group id': id, 'param': param,\n",
    "                                'mean': group_mean.loc[id, high_value_bool_df.loc[id, :]][param]})\n",
    "            cluster_params = cluster_params.append(new_row, ignore_index=True)\n",
    "\n",
    "    if low_value_bool_df.loc[id,:].sum():\n",
    "        for param in list(group_mean.loc[id, low_value_bool_df.loc[id, :]].index):\n",
    "            new_row = pd.Series(data={'group id': id, 'param': param,\n",
    "                                'mean': group_mean.loc[id, low_value_bool_df.loc[id, :]][param]})\n",
    "            cluster_params = cluster_params.append(new_row, ignore_index=True)\n",
    "\n",
    "\n",
    "print(group_mean)"
   ]
  },
  {
   "cell_type": "code",
   "execution_count": null,
   "id": "cf89aafd",
   "metadata": {},
   "outputs": [],
   "source": []
  }
 ],
 "metadata": {
  "hide_input": false,
  "kernelspec": {
   "display_name": "Python 3 (ipykernel)",
   "language": "python",
   "name": "python3"
  },
  "language_info": {
   "codemirror_mode": {
    "name": "ipython",
    "version": 3
   },
   "file_extension": ".py",
   "mimetype": "text/x-python",
   "name": "python",
   "nbconvert_exporter": "python",
   "pygments_lexer": "ipython3",
   "version": "3.9.12"
  },
  "toc": {
   "base_numbering": 1,
   "nav_menu": {},
   "number_sections": true,
   "sideBar": true,
   "skip_h1_title": false,
   "title_cell": "Table of Contents",
   "title_sidebar": "Contents",
   "toc_cell": false,
   "toc_position": {
    "height": "calc(100% - 180px)",
    "left": "10px",
    "top": "150px",
    "width": "336px"
   },
   "toc_section_display": true,
   "toc_window_display": true
  },
  "varInspector": {
   "cols": {
    "lenName": 16,
    "lenType": 16,
    "lenVar": 40
   },
   "kernels_config": {
    "python": {
     "delete_cmd_postfix": "",
     "delete_cmd_prefix": "del ",
     "library": "var_list.py",
     "varRefreshCmd": "print(var_dic_list())"
    },
    "r": {
     "delete_cmd_postfix": ") ",
     "delete_cmd_prefix": "rm(",
     "library": "var_list.r",
     "varRefreshCmd": "cat(var_dic_list()) "
    }
   },
   "position": {
    "height": "662px",
    "left": "740px",
    "right": "20px",
    "top": "179px",
    "width": "800px"
   },
   "types_to_exclude": [
    "module",
    "function",
    "builtin_function_or_method",
    "instance",
    "_Feature"
   ],
   "window_display": false
  }
 },
 "nbformat": 4,
 "nbformat_minor": 5
}
