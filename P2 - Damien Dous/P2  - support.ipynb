{
 "cells": [
  {
   "cell_type": "markdown",
   "id": "fc547631",
   "metadata": {
    "ExecuteTime": {
     "end_time": "2021-12-15T14:24:02.837382Z",
     "start_time": "2021-12-15T14:24:02.834716Z"
    }
   },
   "source": [
    "# Get and clean data"
   ]
  },
  {
   "cell_type": "code",
   "execution_count": 1,
   "id": "2176f1df",
   "metadata": {
    "ExecuteTime": {
     "end_time": "2022-07-28T15:45:40.906266Z",
     "start_time": "2022-07-28T15:45:34.585512Z"
    }
   },
   "outputs": [],
   "source": [
    "import pandas as pd\n",
    "\n",
    "# load education data\n",
    "data = pd.read_csv('Projet_Python_Dataset_Edstats_csv/EdStatsData.csv')"
   ]
  },
  {
   "cell_type": "code",
   "execution_count": 2,
   "id": "99f30e05",
   "metadata": {
    "ExecuteTime": {
     "end_time": "2022-07-28T15:45:47.774733Z",
     "start_time": "2022-07-28T15:45:40.914097Z"
    }
   },
   "outputs": [
    {
     "ename": "NameError",
     "evalue": "name 'np' is not defined",
     "output_type": "error",
     "traceback": [
      "\u001b[0;31m---------------------------------------------------------------------------\u001b[0m",
      "\u001b[0;31mNameError\u001b[0m                                 Traceback (most recent call last)",
      "Input \u001b[0;32mIn [2]\u001b[0m, in \u001b[0;36m<cell line: 16>\u001b[0;34m()\u001b[0m\n\u001b[1;32m     13\u001b[0m     \u001b[38;5;28;01melse\u001b[39;00m:\n\u001b[1;32m     14\u001b[0m         \u001b[38;5;28;01mreturn\u001b[39;00m columns_num[argmax], row_numeric[argmax]\n\u001b[0;32m---> 16\u001b[0m data[\u001b[38;5;124m'\u001b[39m\u001b[38;5;124mlast_element_year\u001b[39m\u001b[38;5;124m'\u001b[39m], data[\u001b[38;5;124m'\u001b[39m\u001b[38;5;124mlast_element_value\u001b[39m\u001b[38;5;124m'\u001b[39m] \u001b[38;5;241m=\u001b[39m \u001b[38;5;28mzip\u001b[39m(\u001b[38;5;241m*\u001b[39m\u001b[43mdata\u001b[49m\u001b[38;5;241;43m.\u001b[39;49m\u001b[43mapply\u001b[49m\u001b[43m(\u001b[49m\u001b[43m \u001b[49m\u001b[43m\\\u001b[49m\n\u001b[1;32m     17\u001b[0m \u001b[43m                            \u001b[49m\u001b[38;5;28;43;01mlambda\u001b[39;49;00m\u001b[43m \u001b[49m\u001b[43mrow\u001b[49m\u001b[43m \u001b[49m\u001b[43m:\u001b[49m\u001b[43m \u001b[49m\u001b[43mget_last_element_value\u001b[49m\u001b[43m(\u001b[49m\u001b[43mrow\u001b[49m\u001b[43m)\u001b[49m\u001b[43m,\u001b[49m\u001b[43m \u001b[49m\u001b[43maxis\u001b[49m\u001b[43m \u001b[49m\u001b[38;5;241;43m=\u001b[39;49m\u001b[43m \u001b[49m\u001b[38;5;241;43m1\u001b[39;49m\u001b[43m)\u001b[49m)\n",
      "File \u001b[0;32m/opt/miniconda3/lib/python3.9/site-packages/pandas/core/frame.py:8839\u001b[0m, in \u001b[0;36mDataFrame.apply\u001b[0;34m(self, func, axis, raw, result_type, args, **kwargs)\u001b[0m\n\u001b[1;32m   8828\u001b[0m \u001b[38;5;28;01mfrom\u001b[39;00m \u001b[38;5;21;01mpandas\u001b[39;00m\u001b[38;5;21;01m.\u001b[39;00m\u001b[38;5;21;01mcore\u001b[39;00m\u001b[38;5;21;01m.\u001b[39;00m\u001b[38;5;21;01mapply\u001b[39;00m \u001b[38;5;28;01mimport\u001b[39;00m frame_apply\n\u001b[1;32m   8830\u001b[0m op \u001b[38;5;241m=\u001b[39m frame_apply(\n\u001b[1;32m   8831\u001b[0m     \u001b[38;5;28mself\u001b[39m,\n\u001b[1;32m   8832\u001b[0m     func\u001b[38;5;241m=\u001b[39mfunc,\n\u001b[0;32m   (...)\u001b[0m\n\u001b[1;32m   8837\u001b[0m     kwargs\u001b[38;5;241m=\u001b[39mkwargs,\n\u001b[1;32m   8838\u001b[0m )\n\u001b[0;32m-> 8839\u001b[0m \u001b[38;5;28;01mreturn\u001b[39;00m \u001b[43mop\u001b[49m\u001b[38;5;241;43m.\u001b[39;49m\u001b[43mapply\u001b[49m\u001b[43m(\u001b[49m\u001b[43m)\u001b[49m\u001b[38;5;241m.\u001b[39m__finalize__(\u001b[38;5;28mself\u001b[39m, method\u001b[38;5;241m=\u001b[39m\u001b[38;5;124m\"\u001b[39m\u001b[38;5;124mapply\u001b[39m\u001b[38;5;124m\"\u001b[39m)\n",
      "File \u001b[0;32m/opt/miniconda3/lib/python3.9/site-packages/pandas/core/apply.py:727\u001b[0m, in \u001b[0;36mFrameApply.apply\u001b[0;34m(self)\u001b[0m\n\u001b[1;32m    724\u001b[0m \u001b[38;5;28;01melif\u001b[39;00m \u001b[38;5;28mself\u001b[39m\u001b[38;5;241m.\u001b[39mraw:\n\u001b[1;32m    725\u001b[0m     \u001b[38;5;28;01mreturn\u001b[39;00m \u001b[38;5;28mself\u001b[39m\u001b[38;5;241m.\u001b[39mapply_raw()\n\u001b[0;32m--> 727\u001b[0m \u001b[38;5;28;01mreturn\u001b[39;00m \u001b[38;5;28;43mself\u001b[39;49m\u001b[38;5;241;43m.\u001b[39;49m\u001b[43mapply_standard\u001b[49m\u001b[43m(\u001b[49m\u001b[43m)\u001b[49m\n",
      "File \u001b[0;32m/opt/miniconda3/lib/python3.9/site-packages/pandas/core/apply.py:851\u001b[0m, in \u001b[0;36mFrameApply.apply_standard\u001b[0;34m(self)\u001b[0m\n\u001b[1;32m    850\u001b[0m \u001b[38;5;28;01mdef\u001b[39;00m \u001b[38;5;21mapply_standard\u001b[39m(\u001b[38;5;28mself\u001b[39m):\n\u001b[0;32m--> 851\u001b[0m     results, res_index \u001b[38;5;241m=\u001b[39m \u001b[38;5;28;43mself\u001b[39;49m\u001b[38;5;241;43m.\u001b[39;49m\u001b[43mapply_series_generator\u001b[49m\u001b[43m(\u001b[49m\u001b[43m)\u001b[49m\n\u001b[1;32m    853\u001b[0m     \u001b[38;5;66;03m# wrap results\u001b[39;00m\n\u001b[1;32m    854\u001b[0m     \u001b[38;5;28;01mreturn\u001b[39;00m \u001b[38;5;28mself\u001b[39m\u001b[38;5;241m.\u001b[39mwrap_results(results, res_index)\n",
      "File \u001b[0;32m/opt/miniconda3/lib/python3.9/site-packages/pandas/core/apply.py:867\u001b[0m, in \u001b[0;36mFrameApply.apply_series_generator\u001b[0;34m(self)\u001b[0m\n\u001b[1;32m    864\u001b[0m \u001b[38;5;28;01mwith\u001b[39;00m option_context(\u001b[38;5;124m\"\u001b[39m\u001b[38;5;124mmode.chained_assignment\u001b[39m\u001b[38;5;124m\"\u001b[39m, \u001b[38;5;28;01mNone\u001b[39;00m):\n\u001b[1;32m    865\u001b[0m     \u001b[38;5;28;01mfor\u001b[39;00m i, v \u001b[38;5;129;01min\u001b[39;00m \u001b[38;5;28menumerate\u001b[39m(series_gen):\n\u001b[1;32m    866\u001b[0m         \u001b[38;5;66;03m# ignore SettingWithCopy here in case the user mutates\u001b[39;00m\n\u001b[0;32m--> 867\u001b[0m         results[i] \u001b[38;5;241m=\u001b[39m \u001b[38;5;28;43mself\u001b[39;49m\u001b[38;5;241;43m.\u001b[39;49m\u001b[43mf\u001b[49m\u001b[43m(\u001b[49m\u001b[43mv\u001b[49m\u001b[43m)\u001b[49m\n\u001b[1;32m    868\u001b[0m         \u001b[38;5;28;01mif\u001b[39;00m \u001b[38;5;28misinstance\u001b[39m(results[i], ABCSeries):\n\u001b[1;32m    869\u001b[0m             \u001b[38;5;66;03m# If we have a view on v, we need to make a copy because\u001b[39;00m\n\u001b[1;32m    870\u001b[0m             \u001b[38;5;66;03m#  series_generator will swap out the underlying data\u001b[39;00m\n\u001b[1;32m    871\u001b[0m             results[i] \u001b[38;5;241m=\u001b[39m results[i]\u001b[38;5;241m.\u001b[39mcopy(deep\u001b[38;5;241m=\u001b[39m\u001b[38;5;28;01mFalse\u001b[39;00m)\n",
      "Input \u001b[0;32mIn [2]\u001b[0m, in \u001b[0;36m<lambda>\u001b[0;34m(row)\u001b[0m\n\u001b[1;32m     13\u001b[0m     \u001b[38;5;28;01melse\u001b[39;00m:\n\u001b[1;32m     14\u001b[0m         \u001b[38;5;28;01mreturn\u001b[39;00m columns_num[argmax], row_numeric[argmax]\n\u001b[1;32m     16\u001b[0m data[\u001b[38;5;124m'\u001b[39m\u001b[38;5;124mlast_element_year\u001b[39m\u001b[38;5;124m'\u001b[39m], data[\u001b[38;5;124m'\u001b[39m\u001b[38;5;124mlast_element_value\u001b[39m\u001b[38;5;124m'\u001b[39m] \u001b[38;5;241m=\u001b[39m \u001b[38;5;28mzip\u001b[39m(\u001b[38;5;241m*\u001b[39mdata\u001b[38;5;241m.\u001b[39mapply( \\\n\u001b[0;32m---> 17\u001b[0m                             \u001b[38;5;28;01mlambda\u001b[39;00m row : \u001b[43mget_last_element_value\u001b[49m\u001b[43m(\u001b[49m\u001b[43mrow\u001b[49m\u001b[43m)\u001b[49m, axis \u001b[38;5;241m=\u001b[39m \u001b[38;5;241m1\u001b[39m))\n",
      "Input \u001b[0;32mIn [2]\u001b[0m, in \u001b[0;36mget_last_element_value\u001b[0;34m(row)\u001b[0m\n\u001b[1;32m      8\u001b[0m \u001b[38;5;28;01mdef\u001b[39;00m \u001b[38;5;21mget_last_element_value\u001b[39m(row):\n\u001b[1;32m      9\u001b[0m     row_numeric \u001b[38;5;241m=\u001b[39m pd\u001b[38;5;241m.\u001b[39mto_numeric(row\u001b[38;5;241m.\u001b[39mhead(max_year_index)\u001b[38;5;241m.\u001b[39mto_numpy(), errors\u001b[38;5;241m=\u001b[39m\u001b[38;5;124m'\u001b[39m\u001b[38;5;124mcoerce\u001b[39m\u001b[38;5;124m'\u001b[39m)\n\u001b[0;32m---> 10\u001b[0m     argmax \u001b[38;5;241m=\u001b[39m (\u001b[38;5;241m~\u001b[39m\u001b[43mnp\u001b[49m\u001b[38;5;241m.\u001b[39misnan(row_numeric))\u001b[38;5;241m.\u001b[39mcumsum(\u001b[38;5;241m0\u001b[39m)\u001b[38;5;241m.\u001b[39margmax(\u001b[38;5;241m0\u001b[39m)\n\u001b[1;32m     11\u001b[0m     \u001b[38;5;28;01mif\u001b[39;00m argmax \u001b[38;5;241m==\u001b[39m \u001b[38;5;241m0\u001b[39m \u001b[38;5;129;01mor\u001b[39;00m columns_num[argmax] \u001b[38;5;241m<\u001b[39m min_year:\n\u001b[1;32m     12\u001b[0m         \u001b[38;5;28;01mreturn\u001b[39;00m np\u001b[38;5;241m.\u001b[39mnan, np\u001b[38;5;241m.\u001b[39mnan\n",
      "\u001b[0;31mNameError\u001b[0m: name 'np' is not defined"
     ]
    }
   ],
   "source": [
    "# Get last value and value year for each row using .apply and add it to dataframe\n",
    "columns_num = pd.to_numeric(data.columns.to_numpy(), errors='coerce')\n",
    "\n",
    "max_year = 2020\n",
    "min_year = 2000\n",
    "max_year_index = list(data.columns).index(str(max_year))\n",
    "\n",
    "def get_last_element_value(row):\n",
    "    row_numeric = pd.to_numeric(row.head(max_year_index).to_numpy(), errors='coerce')\n",
    "    argmax = (~np.isnan(row_numeric)).cumsum(0).argmax(0)\n",
    "    if argmax == 0 or columns_num[argmax] < min_year:\n",
    "        return np.nan, np.nan\n",
    "    else:\n",
    "        return columns_num[argmax], row_numeric[argmax]\n",
    "\n",
    "data['last_element_year'], data['last_element_value'] = zip(*data.apply( \\\n",
    "                            lambda row : get_last_element_value(row), axis = 1))"
   ]
  },
  {
   "cell_type": "code",
   "execution_count": null,
   "id": "d32b20b0",
   "metadata": {
    "ExecuteTime": {
     "end_time": "2022-07-28T15:45:47.789587Z",
     "start_time": "2022-07-28T15:45:47.789556Z"
    }
   },
   "outputs": [],
   "source": [
    "# Delete useless year-columns\n",
    "data_light = data[\\\n",
    "        [\"Country Code\",\\\n",
    "         \"Country Name\",\\\n",
    "         \"Indicator Code\",\\\n",
    "         \"Indicator Name\",\\\n",
    "         \"last_element_year\",\\\n",
    "         \"last_element_value\"]\\\n",
    "        ].dropna(subset=['last_element_value'])\n",
    "\n",
    "data_light"
   ]
  },
  {
   "cell_type": "markdown",
   "id": "959fc19f",
   "metadata": {},
   "source": [
    " # Analyze educational indicators"
   ]
  },
  {
   "cell_type": "code",
   "execution_count": null,
   "id": "7f0eb6a4",
   "metadata": {
    "ExecuteTime": {
     "end_time": "2022-07-28T15:45:47.795803Z",
     "start_time": "2022-07-28T15:45:47.795785Z"
    }
   },
   "outputs": [],
   "source": [
    "# List of education rate chosen indicators\n",
    "educational_indicator = ['SE.SEC.NENR',\n",
    "                           'SE.TER.ENRR']\n",
    "\n",
    "# Filter data and keep data for selected indicators\n",
    "data_edu = data_light[data_light[\"Indicator Code\"].isin(educational_indicator)]\n",
    "\n",
    "# Reshaped data to put selected indicator into columns\n",
    "data_edu = data_edu.pivot(index='Country Name',\\\n",
    "                          columns='Indicator Code',\\\n",
    "                          values='last_element_value')"
   ]
  },
  {
   "cell_type": "markdown",
   "id": "7926cec1",
   "metadata": {
    "ExecuteTime": {
     "end_time": "2021-12-20T15:41:00.339617Z",
     "start_time": "2021-12-20T15:41:00.318016Z"
    }
   },
   "source": [
    " # Analyze equipement indicators\n"
   ]
  },
  {
   "cell_type": "code",
   "execution_count": null,
   "id": "296e6afc",
   "metadata": {
    "ExecuteTime": {
     "end_time": "2022-07-28T15:45:47.800397Z",
     "start_time": "2022-07-28T15:45:47.800373Z"
    }
   },
   "outputs": [],
   "source": [
    "# List of equipement rate chosen indicators\n",
    "expenditure_indicator = ['IT.CMP.PCMP.P2',\n",
    "                        'IT.NET.USER.P2']\n",
    "\n",
    "# Filter data and keep data for selected indicators\n",
    "data_exp = data_light[data_light[\"Indicator Code\"].isin(expenditure_indicator)]\n",
    "\n",
    "# Reshaped data to put selected indicator into columns\n",
    "data_exp = data_exp.pivot(index='Country Name',\n",
    "                          columns='Indicator Code',\n",
    "                          values='last_element_value')\n",
    "\n",
    "# Merge data education with language data\n",
    "main_data = pd.merge(data_edu, data_exp, left_index=True, right_index=True)"
   ]
  },
  {
   "cell_type": "markdown",
   "id": "d573fb36",
   "metadata": {},
   "source": [
    "# Get other indicators (GDP, market access difficulty)"
   ]
  },
  {
   "cell_type": "markdown",
   "id": "14528597",
   "metadata": {
    "ExecuteTime": {
     "end_time": "2021-12-16T10:33:22.007784Z",
     "start_time": "2021-12-16T10:33:22.007766Z"
    }
   },
   "source": [
    "## GDP\n",
    "\n",
    "In available data, we can find this data : \n",
    " - GDP per capita (current US$) : NY.GDP.PCAP.CD"
   ]
  },
  {
   "cell_type": "code",
   "execution_count": null,
   "id": "5aeed7c7",
   "metadata": {
    "ExecuteTime": {
     "end_time": "2022-07-28T15:45:47.802182Z",
     "start_time": "2022-07-28T15:45:47.802160Z"
    }
   },
   "outputs": [],
   "source": [
    "# Get Population, GDP data\n",
    "gdp_pop_data = data_light[\\\n",
    "                    data_light[\"Indicator Code\"].isin([\"NY.GDP.PCAP.CD\"])]\n",
    "\n",
    "# Delete useless year-columns\n",
    "gdp_pop_data = gdp_pop_data[\\\n",
    "        [\"Country Name\",\\\n",
    "         \"Indicator Code\",\\\n",
    "         \"last_element_value\"]\\\n",
    "        ].dropna(subset=['last_element_value'])\n",
    "\n",
    "# Reshaped data to put selected indicator into columns\n",
    "gdp_pop_data = gdp_pop_data.pivot(index='Country Name',\\\n",
    "                                              columns='Indicator Code',\\\n",
    "                                              values='last_element_value')\n",
    "\n",
    "# Merge with main data\n",
    "main_data = pd.merge(main_data, gdp_pop_data, left_index=True, right_index=True)"
   ]
  },
  {
   "cell_type": "markdown",
   "id": "62494147",
   "metadata": {
    "ExecuteTime": {
     "end_time": "2021-12-20T14:58:15.092832Z",
     "start_time": "2021-12-20T14:58:14.212015Z"
    }
   },
   "source": [
    "## Market access difficulty\n",
    "We look for an indicator correlated to the difficulty to access to country market\n",
    " - Checking the gouvernement system -> not correlated\n",
    " - if country language is one of this (English, French, German, Spanish, Portuguese, Italian), it will be easier to access to the market"
   ]
  },
  {
   "cell_type": "code",
   "execution_count": null,
   "id": "e0a6e60a",
   "metadata": {
    "ExecuteTime": {
     "end_time": "2022-07-28T15:45:47.804836Z",
     "start_time": "2022-07-28T15:45:47.804809Z"
    }
   },
   "outputs": [],
   "source": [
    "import re\n",
    "\n",
    "# Get table containing languages for each country \n",
    "# (source : https://en.wikipedia.org/wiki/List_of_official_languages_by_country_and_territory)\n",
    "langague_data = pd.read_csv('countryLanguages.csv', sep=';', encoding=\"utf-8\")\n",
    "\n",
    "# Create list of preferred languages \n",
    "langagues_ranking = pd.read_csv('languagesRanking.csv', sep=';', encoding=\"utf-8\")\n",
    "\n",
    "language_list = langagues_ranking[\"Language\"].str.cat(sep=\" \")\n",
    "language_list = ' '.join(language_list.split())\n",
    "\n",
    "# Create column saying if country langages contain at list one of the preferred languages\n",
    "langague_data[\"Language premium\"] = langague_data[\"Languages\"].apply(\\\n",
    "            lambda case: any(x in language_list for x in list(re.split(' |\\(|\\)', case))))\n",
    "\n",
    "langague_data = langague_data.set_index('Country')\n",
    "# Drop useless columns\n",
    "langague_data.drop(columns=['Languages', 'Unnamed: 0'], inplace = True)\n",
    "\n",
    "# Merge data education with language data\n",
    "main_data = pd.merge(main_data, langague_data, left_index=True, right_index=True)\n",
    "\n",
    "# Rename column for better understanding\n",
    "main_data.columns = \\\n",
    "    pd.Index([\"Enrolment rate, secondary\",\\\n",
    "           \"Enrolment rate, tertiary\",\\\n",
    "           \"Personal computers (per 100 people)\",\\\n",
    "           \"Internet users (per 100 people)\",\\\n",
    "           \"GDP per capita (current US$)\",\\\n",
    "           \"Language premium\"\n",
    "          ])\n",
    "\n",
    "main_data"
   ]
  },
  {
   "cell_type": "markdown",
   "id": "13865bc9",
   "metadata": {},
   "source": [
    "# Attractivity score\n",
    "\n",
    "The indicators that influence attractivity score are :\n",
    "- Has the country high Gross enrolement ratio in secondary?\n",
    "- Has the country high Gross enrolement ratio in tertiary?\n",
    "- Has the country high GDP?\n",
    "- Has the country high Internet Internet users (per 100 people) ratio?\n",
    "- Has the country high Personal computers (per 100 people) ratio\n",
    "- Has a country premium language?"
   ]
  },
  {
   "cell_type": "code",
   "execution_count": null,
   "id": "27fce2cf",
   "metadata": {
    "ExecuteTime": {
     "end_time": "2022-07-28T15:45:47.807074Z",
     "start_time": "2022-07-28T15:45:47.807056Z"
    }
   },
   "outputs": [],
   "source": [
    "# Define function to normalize data\n",
    "def normalize_data(col):\n",
    "    col_numeric = pd.to_numeric(col.to_numpy(), errors='coerce')\n",
    "    col_numeric_NoNan = col_numeric[~np.isnan(col_numeric)]\n",
    "    maxV = np.max(col_numeric_NoNan.astype(float))\n",
    "    minV = np.min(col_numeric_NoNan.astype(float))\n",
    "    return (col_numeric.astype(float) - minV) / (maxV - minV)\n",
    "\n",
    "# Normalize data\n",
    "main_data_norm = main_data.apply(lambda col : normalize_data(col), \n",
    "                                 axis = 0)\n",
    "\n",
    "# Get indicators average\n",
    "indicator_mean = main_data_norm.mean(0)\n",
    "\n",
    "# Replace NaN value by the indicator average to not desavantadge country with missing data\n",
    "main_data_norm = main_data_norm.fillna(0) + np.isnan(main_data_norm) * indicator_mean\n",
    "\n",
    "# Multiply country data by weighted matrix\n",
    "attractivity_score = (main_data_norm) * np.array([1,1,1,1,1,1])\n",
    "\n",
    "# Process attractivity score\n",
    "attractivity_score[\"attractivity_score\"] = attractivity_score.apply(lambda col : col.sum(), \n",
    "                                 axis = 1)\n",
    "\n",
    "# Sort table according attractivity score\n",
    "attractivity_score.sort_values(\"attractivity_score\", ascending=False, inplace=True)\n",
    "\n",
    "attractivity_score"
   ]
  },
  {
   "cell_type": "markdown",
   "id": "32bc1ce8",
   "metadata": {},
   "source": [
    "# Vizualize France position in the selected data"
   ]
  },
  {
   "cell_type": "code",
   "execution_count": null,
   "id": "072f7131",
   "metadata": {
    "ExecuteTime": {
     "end_time": "2022-07-28T15:45:47.809180Z",
     "start_time": "2022-07-28T15:45:47.809147Z"
    }
   },
   "outputs": [],
   "source": [
    "import matplotlib.pyplot as plt\n",
    "sns.set(style=\"darkgrid\")\n",
    "def plotBarWithFrance(dataframe, indicator):\n",
    "    df = dataframe[~np.isnan(dataframe[indicator])]\n",
    "    france_value = df.loc[\"France\"][indicator]\n",
    "    plt.figure(figsize=(16, 8))\n",
    "    sns.histplot(data=df, x=indicator, kde=True, bins=30)\n",
    "    \n",
    "    plt.plot([france_value, france_value], [0, 20])\n",
    "    \n",
    "    plt.annotate(\"France\",\n",
    "                xy=(france_value, 20), \n",
    "                size=15, \n",
    "                xytext=(0, 8),\n",
    "                textcoords='offset points')\n",
    "    plt.show()\n",
    "\n"
   ]
  },
  {
   "cell_type": "markdown",
   "id": "b2280cc6",
   "metadata": {},
   "source": []
  },
  {
   "cell_type": "code",
   "execution_count": null,
   "id": "6fdd626a",
   "metadata": {
    "ExecuteTime": {
     "end_time": "2022-07-28T15:45:47.812484Z",
     "start_time": "2022-07-28T15:45:47.812454Z"
    }
   },
   "outputs": [],
   "source": [
    "plotBarWithFrance(main_data, 'Enrolment rate, secondary')\n",
    "plotBarWithFrance(main_data, \"Enrolment rate, tertiary\")\n",
    "plotBarWithFrance(main_data, 'Personal computers (per 100 people)')\n",
    "plotBarWithFrance(main_data, 'Internet users (per 100 people)')\n",
    "plotBarWithFrance(main_data, 'GDP per capita (current US$)')\n",
    "plotBarWithFrance(attractivity_score, 'attractivity_score')"
   ]
  },
  {
   "cell_type": "code",
   "execution_count": null,
   "id": "107ef4ce",
   "metadata": {
    "ExecuteTime": {
     "end_time": "2021-12-17T14:16:53.300524Z",
     "start_time": "2021-12-17T14:16:53.297069Z"
    }
   },
   "outputs": [],
   "source": []
  }
 ],
 "metadata": {
  "hide_input": false,
  "kernelspec": {
   "display_name": "Python 3 (ipykernel)",
   "language": "python",
   "name": "python3"
  },
  "language_info": {
   "codemirror_mode": {
    "name": "ipython",
    "version": 3
   },
   "file_extension": ".py",
   "mimetype": "text/x-python",
   "name": "python",
   "nbconvert_exporter": "python",
   "pygments_lexer": "ipython3",
   "version": "3.9.12"
  },
  "toc": {
   "base_numbering": 1,
   "nav_menu": {},
   "number_sections": true,
   "sideBar": true,
   "skip_h1_title": false,
   "title_cell": "Table of Contents",
   "title_sidebar": "Contents",
   "toc_cell": false,
   "toc_position": {},
   "toc_section_display": true,
   "toc_window_display": false
  },
  "varInspector": {
   "cols": {
    "lenName": 16,
    "lenType": 16,
    "lenVar": 40
   },
   "kernels_config": {
    "python": {
     "delete_cmd_postfix": "",
     "delete_cmd_prefix": "del ",
     "library": "var_list.py",
     "varRefreshCmd": "print(var_dic_list())"
    },
    "r": {
     "delete_cmd_postfix": ") ",
     "delete_cmd_prefix": "rm(",
     "library": "var_list.r",
     "varRefreshCmd": "cat(var_dic_list()) "
    }
   },
   "types_to_exclude": [
    "module",
    "function",
    "builtin_function_or_method",
    "instance",
    "_Feature"
   ],
   "window_display": false
  }
 },
 "nbformat": 4,
 "nbformat_minor": 5
}
