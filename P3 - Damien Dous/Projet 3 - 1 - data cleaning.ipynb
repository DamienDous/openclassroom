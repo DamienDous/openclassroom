{
 "cells": [
  {
   "cell_type": "code",
   "execution_count": 1,
   "id": "1b8e45c2",
   "metadata": {
    "ExecuteTime": {
     "end_time": "2022-07-28T15:45:54.583957Z",
     "start_time": "2022-07-28T15:45:51.609071Z"
    }
   },
   "outputs": [
    {
     "name": "stdout",
     "output_type": "stream",
     "text": [
      "Once deleted, variables cannot be recovered. Proceed (y/[n])? y\n"
     ]
    }
   ],
   "source": [
    "%reset"
   ]
  },
  {
   "cell_type": "code",
   "execution_count": 2,
   "id": "b6a25053",
   "metadata": {
    "ExecuteTime": {
     "end_time": "2022-07-28T15:46:13.391750Z",
     "start_time": "2022-07-28T15:45:54.586687Z"
    }
   },
   "outputs": [
    {
     "name": "stderr",
     "output_type": "stream",
     "text": [
      "/var/folders/h2/6lzgplxj5ng29b2_5ccc99fh0000gn/T/ipykernel_2780/2638854413.py:4: DtypeWarning: Columns (0,3,5,19,20,24,25,26,27,28,35,36,37,38,39,48) have mixed types. Specify dtype option on import or set low_memory=False.\n",
      "  original_data = pd.read_csv('fr.openfoodfacts.org.products.csv', sep='\\t', index_col=[0])\n"
     ]
    }
   ],
   "source": [
    "import pandas as pd\n",
    "\n",
    "# load education data\n",
    "original_data = pd.read_csv('fr.openfoodfacts.org.products.csv', sep='\\t', index_col=[0])"
   ]
  },
  {
   "cell_type": "markdown",
   "id": "1cc33373",
   "metadata": {},
   "source": [
    "# Database description"
   ]
  },
  {
   "cell_type": "code",
   "execution_count": 3,
   "id": "32cfb85a",
   "metadata": {
    "ExecuteTime": {
     "end_time": "2022-07-28T15:46:19.002165Z",
     "start_time": "2022-07-28T15:46:13.398774Z"
    }
   },
   "outputs": [
    {
     "name": "stdout",
     "output_type": "stream",
     "text": [
      "articles number in original database :  320772\n",
      "columns number in original database :  161\n",
      "filled data % : 23.31%\n",
      "12035726\n",
      "51644292\n"
     ]
    }
   ],
   "source": [
    "print(\"articles number in original database : \", len(original_data))\n",
    "print(\"columns number in original database : \", len(original_data.columns))\n",
    "nb = 100*original_data.count().sum()/(len(original_data)*len(original_data.columns))\n",
    "print(\"filled data % : {:.2f}%\".format(nb))\n",
    "\n",
    "print(original_data.count().sum())\n",
    "print(len(original_data)*len(original_data.columns))"
   ]
  },
  {
   "cell_type": "code",
   "execution_count": 4,
   "id": "be8b49ab",
   "metadata": {
    "ExecuteTime": {
     "end_time": "2022-07-28T15:46:19.042138Z",
     "start_time": "2022-07-28T15:46:19.004473Z"
    }
   },
   "outputs": [],
   "source": [
    "original_data.reset_index(level=0, inplace=True)"
   ]
  },
  {
   "cell_type": "markdown",
   "id": "630a6cc0",
   "metadata": {},
   "source": [
    "# Database cleaning"
   ]
  },
  {
   "cell_type": "markdown",
   "id": "f1715590",
   "metadata": {},
   "source": [
    "## Column without enouch data deletion"
   ]
  },
  {
   "cell_type": "code",
   "execution_count": 5,
   "id": "4797bb0a",
   "metadata": {
    "ExecuteTime": {
     "end_time": "2022-07-28T15:46:20.015865Z",
     "start_time": "2022-07-28T15:46:19.044518Z"
    }
   },
   "outputs": [],
   "source": [
    "# Separate string columns and float columns of dataframe\n",
    "data_str = original_data[original_data.columns[original_data.dtypes != float]]\n",
    "data_float = original_data[original_data.columns[original_data.dtypes == float]]"
   ]
  },
  {
   "cell_type": "code",
   "execution_count": 6,
   "id": "8cce3045",
   "metadata": {
    "ExecuteTime": {
     "end_time": "2022-07-28T15:46:26.449190Z",
     "start_time": "2022-07-28T15:46:20.019055Z"
    }
   },
   "outputs": [
    {
     "name": "stdout",
     "output_type": "stream",
     "text": [
      "float columns number:  106\n",
      "string columns number:  56\n",
      "float columns number after not enough data column deletion:  20\n",
      "string columns number after not enough data column deletion:  51\n"
     ]
    },
    {
     "data": {
      "text/html": [
       "<div>\n",
       "<style scoped>\n",
       "    .dataframe tbody tr th:only-of-type {\n",
       "        vertical-align: middle;\n",
       "    }\n",
       "\n",
       "    .dataframe tbody tr th {\n",
       "        vertical-align: top;\n",
       "    }\n",
       "\n",
       "    .dataframe thead th {\n",
       "        text-align: right;\n",
       "    }\n",
       "</style>\n",
       "<table border=\"1\" class=\"dataframe\">\n",
       "  <thead>\n",
       "    <tr style=\"text-align: right;\">\n",
       "      <th></th>\n",
       "      <th>code</th>\n",
       "      <th>url</th>\n",
       "      <th>creator</th>\n",
       "      <th>created_t</th>\n",
       "      <th>created_datetime</th>\n",
       "      <th>last_modified_t</th>\n",
       "      <th>last_modified_datetime</th>\n",
       "      <th>product_name</th>\n",
       "      <th>generic_name</th>\n",
       "      <th>quantity</th>\n",
       "      <th>...</th>\n",
       "      <th>fiber_100g</th>\n",
       "      <th>proteins_100g</th>\n",
       "      <th>salt_100g</th>\n",
       "      <th>sodium_100g</th>\n",
       "      <th>vitamin-a_100g</th>\n",
       "      <th>vitamin-c_100g</th>\n",
       "      <th>calcium_100g</th>\n",
       "      <th>iron_100g</th>\n",
       "      <th>nutrition-score-fr_100g</th>\n",
       "      <th>nutrition-score-uk_100g</th>\n",
       "    </tr>\n",
       "  </thead>\n",
       "  <tbody>\n",
       "    <tr>\n",
       "      <th>0</th>\n",
       "      <td>3087</td>\n",
       "      <td>http://world-fr.openfoodfacts.org/produit/0000...</td>\n",
       "      <td>openfoodfacts-contributors</td>\n",
       "      <td>1474103866</td>\n",
       "      <td>2016-09-17T09:17:46Z</td>\n",
       "      <td>1474103893</td>\n",
       "      <td>2016-09-17T09:18:13Z</td>\n",
       "      <td>Farine de blé noir</td>\n",
       "      <td>NaN</td>\n",
       "      <td>1kg</td>\n",
       "      <td>...</td>\n",
       "      <td>NaN</td>\n",
       "      <td>NaN</td>\n",
       "      <td>NaN</td>\n",
       "      <td>NaN</td>\n",
       "      <td>NaN</td>\n",
       "      <td>NaN</td>\n",
       "      <td>NaN</td>\n",
       "      <td>NaN</td>\n",
       "      <td>NaN</td>\n",
       "      <td>NaN</td>\n",
       "    </tr>\n",
       "    <tr>\n",
       "      <th>1</th>\n",
       "      <td>4530</td>\n",
       "      <td>http://world-fr.openfoodfacts.org/produit/0000...</td>\n",
       "      <td>usda-ndb-import</td>\n",
       "      <td>1489069957</td>\n",
       "      <td>2017-03-09T14:32:37Z</td>\n",
       "      <td>1489069957</td>\n",
       "      <td>2017-03-09T14:32:37Z</td>\n",
       "      <td>Banana Chips Sweetened (Whole)</td>\n",
       "      <td>NaN</td>\n",
       "      <td>NaN</td>\n",
       "      <td>...</td>\n",
       "      <td>3.6</td>\n",
       "      <td>3.57</td>\n",
       "      <td>0.00000</td>\n",
       "      <td>0.000</td>\n",
       "      <td>0.0</td>\n",
       "      <td>0.0214</td>\n",
       "      <td>0.000</td>\n",
       "      <td>0.00129</td>\n",
       "      <td>14.0</td>\n",
       "      <td>14.0</td>\n",
       "    </tr>\n",
       "    <tr>\n",
       "      <th>2</th>\n",
       "      <td>4559</td>\n",
       "      <td>http://world-fr.openfoodfacts.org/produit/0000...</td>\n",
       "      <td>usda-ndb-import</td>\n",
       "      <td>1489069957</td>\n",
       "      <td>2017-03-09T14:32:37Z</td>\n",
       "      <td>1489069957</td>\n",
       "      <td>2017-03-09T14:32:37Z</td>\n",
       "      <td>Peanuts</td>\n",
       "      <td>NaN</td>\n",
       "      <td>NaN</td>\n",
       "      <td>...</td>\n",
       "      <td>7.1</td>\n",
       "      <td>17.86</td>\n",
       "      <td>0.63500</td>\n",
       "      <td>0.250</td>\n",
       "      <td>0.0</td>\n",
       "      <td>0.0000</td>\n",
       "      <td>0.071</td>\n",
       "      <td>0.00129</td>\n",
       "      <td>0.0</td>\n",
       "      <td>0.0</td>\n",
       "    </tr>\n",
       "    <tr>\n",
       "      <th>3</th>\n",
       "      <td>16087</td>\n",
       "      <td>http://world-fr.openfoodfacts.org/produit/0000...</td>\n",
       "      <td>usda-ndb-import</td>\n",
       "      <td>1489055731</td>\n",
       "      <td>2017-03-09T10:35:31Z</td>\n",
       "      <td>1489055731</td>\n",
       "      <td>2017-03-09T10:35:31Z</td>\n",
       "      <td>Organic Salted Nut Mix</td>\n",
       "      <td>NaN</td>\n",
       "      <td>NaN</td>\n",
       "      <td>...</td>\n",
       "      <td>7.1</td>\n",
       "      <td>17.86</td>\n",
       "      <td>1.22428</td>\n",
       "      <td>0.482</td>\n",
       "      <td>NaN</td>\n",
       "      <td>NaN</td>\n",
       "      <td>0.143</td>\n",
       "      <td>0.00514</td>\n",
       "      <td>12.0</td>\n",
       "      <td>12.0</td>\n",
       "    </tr>\n",
       "    <tr>\n",
       "      <th>4</th>\n",
       "      <td>16094</td>\n",
       "      <td>http://world-fr.openfoodfacts.org/produit/0000...</td>\n",
       "      <td>usda-ndb-import</td>\n",
       "      <td>1489055653</td>\n",
       "      <td>2017-03-09T10:34:13Z</td>\n",
       "      <td>1489055653</td>\n",
       "      <td>2017-03-09T10:34:13Z</td>\n",
       "      <td>Organic Polenta</td>\n",
       "      <td>NaN</td>\n",
       "      <td>NaN</td>\n",
       "      <td>...</td>\n",
       "      <td>5.7</td>\n",
       "      <td>8.57</td>\n",
       "      <td>NaN</td>\n",
       "      <td>NaN</td>\n",
       "      <td>NaN</td>\n",
       "      <td>NaN</td>\n",
       "      <td>NaN</td>\n",
       "      <td>NaN</td>\n",
       "      <td>NaN</td>\n",
       "      <td>NaN</td>\n",
       "    </tr>\n",
       "    <tr>\n",
       "      <th>...</th>\n",
       "      <td>...</td>\n",
       "      <td>...</td>\n",
       "      <td>...</td>\n",
       "      <td>...</td>\n",
       "      <td>...</td>\n",
       "      <td>...</td>\n",
       "      <td>...</td>\n",
       "      <td>...</td>\n",
       "      <td>...</td>\n",
       "      <td>...</td>\n",
       "      <td>...</td>\n",
       "      <td>...</td>\n",
       "      <td>...</td>\n",
       "      <td>...</td>\n",
       "      <td>...</td>\n",
       "      <td>...</td>\n",
       "      <td>...</td>\n",
       "      <td>...</td>\n",
       "      <td>...</td>\n",
       "      <td>...</td>\n",
       "      <td>...</td>\n",
       "    </tr>\n",
       "    <tr>\n",
       "      <th>320767</th>\n",
       "      <td>9948282780603</td>\n",
       "      <td>http://world-fr.openfoodfacts.org/produit/9948...</td>\n",
       "      <td>openfoodfacts-contributors</td>\n",
       "      <td>1490631299</td>\n",
       "      <td>2017-03-27T16:14:59Z</td>\n",
       "      <td>1491244498</td>\n",
       "      <td>2017-04-03T18:34:58Z</td>\n",
       "      <td>Tomato &amp; ricotta</td>\n",
       "      <td>NaN</td>\n",
       "      <td>1</td>\n",
       "      <td>...</td>\n",
       "      <td>NaN</td>\n",
       "      <td>NaN</td>\n",
       "      <td>NaN</td>\n",
       "      <td>NaN</td>\n",
       "      <td>NaN</td>\n",
       "      <td>NaN</td>\n",
       "      <td>NaN</td>\n",
       "      <td>NaN</td>\n",
       "      <td>NaN</td>\n",
       "      <td>NaN</td>\n",
       "    </tr>\n",
       "    <tr>\n",
       "      <th>320768</th>\n",
       "      <td>99567453</td>\n",
       "      <td>http://world-fr.openfoodfacts.org/produit/9956...</td>\n",
       "      <td>usda-ndb-import</td>\n",
       "      <td>1489059076</td>\n",
       "      <td>2017-03-09T11:31:16Z</td>\n",
       "      <td>1491244499</td>\n",
       "      <td>2017-04-03T18:34:59Z</td>\n",
       "      <td>Mint Melange Tea A Blend Of Peppermint, Lemon ...</td>\n",
       "      <td>NaN</td>\n",
       "      <td>NaN</td>\n",
       "      <td>...</td>\n",
       "      <td>0.0</td>\n",
       "      <td>0.00</td>\n",
       "      <td>0.00000</td>\n",
       "      <td>0.000</td>\n",
       "      <td>0.0</td>\n",
       "      <td>0.0000</td>\n",
       "      <td>0.000</td>\n",
       "      <td>0.00000</td>\n",
       "      <td>0.0</td>\n",
       "      <td>0.0</td>\n",
       "    </tr>\n",
       "    <tr>\n",
       "      <th>320769</th>\n",
       "      <td>9970229501521</td>\n",
       "      <td>http://world-fr.openfoodfacts.org/produit/9970...</td>\n",
       "      <td>tomato</td>\n",
       "      <td>1422099377</td>\n",
       "      <td>2015-01-24T11:36:17Z</td>\n",
       "      <td>1491244499</td>\n",
       "      <td>2017-04-03T18:34:59Z</td>\n",
       "      <td>乐吧泡菜味薯片</td>\n",
       "      <td>Leba pickle flavor potato chips</td>\n",
       "      <td>50 g</td>\n",
       "      <td>...</td>\n",
       "      <td>NaN</td>\n",
       "      <td>NaN</td>\n",
       "      <td>NaN</td>\n",
       "      <td>NaN</td>\n",
       "      <td>NaN</td>\n",
       "      <td>NaN</td>\n",
       "      <td>NaN</td>\n",
       "      <td>NaN</td>\n",
       "      <td>NaN</td>\n",
       "      <td>NaN</td>\n",
       "    </tr>\n",
       "    <tr>\n",
       "      <th>320770</th>\n",
       "      <td>9980282863788</td>\n",
       "      <td>http://world-fr.openfoodfacts.org/produit/9980...</td>\n",
       "      <td>openfoodfacts-contributors</td>\n",
       "      <td>1492340089</td>\n",
       "      <td>2017-04-16T10:54:49Z</td>\n",
       "      <td>1492340089</td>\n",
       "      <td>2017-04-16T10:54:49Z</td>\n",
       "      <td>Tomates aux Vermicelles</td>\n",
       "      <td>NaN</td>\n",
       "      <td>67g</td>\n",
       "      <td>...</td>\n",
       "      <td>NaN</td>\n",
       "      <td>NaN</td>\n",
       "      <td>NaN</td>\n",
       "      <td>NaN</td>\n",
       "      <td>NaN</td>\n",
       "      <td>NaN</td>\n",
       "      <td>NaN</td>\n",
       "      <td>NaN</td>\n",
       "      <td>NaN</td>\n",
       "      <td>NaN</td>\n",
       "    </tr>\n",
       "    <tr>\n",
       "      <th>320771</th>\n",
       "      <td>999990026839</td>\n",
       "      <td>http://world-fr.openfoodfacts.org/produit/9999...</td>\n",
       "      <td>usda-ndb-import</td>\n",
       "      <td>1489072709</td>\n",
       "      <td>2017-03-09T15:18:29Z</td>\n",
       "      <td>1491244499</td>\n",
       "      <td>2017-04-03T18:34:59Z</td>\n",
       "      <td>Sugar Free Drink Mix, Peach Tea</td>\n",
       "      <td>NaN</td>\n",
       "      <td>NaN</td>\n",
       "      <td>...</td>\n",
       "      <td>NaN</td>\n",
       "      <td>0.00</td>\n",
       "      <td>0.00000</td>\n",
       "      <td>0.000</td>\n",
       "      <td>NaN</td>\n",
       "      <td>NaN</td>\n",
       "      <td>NaN</td>\n",
       "      <td>NaN</td>\n",
       "      <td>NaN</td>\n",
       "      <td>NaN</td>\n",
       "    </tr>\n",
       "  </tbody>\n",
       "</table>\n",
       "<p>320772 rows × 71 columns</p>\n",
       "</div>"
      ],
      "text/plain": [
       "                 code                                                url  \\\n",
       "0                3087  http://world-fr.openfoodfacts.org/produit/0000...   \n",
       "1                4530  http://world-fr.openfoodfacts.org/produit/0000...   \n",
       "2                4559  http://world-fr.openfoodfacts.org/produit/0000...   \n",
       "3               16087  http://world-fr.openfoodfacts.org/produit/0000...   \n",
       "4               16094  http://world-fr.openfoodfacts.org/produit/0000...   \n",
       "...               ...                                                ...   \n",
       "320767  9948282780603  http://world-fr.openfoodfacts.org/produit/9948...   \n",
       "320768       99567453  http://world-fr.openfoodfacts.org/produit/9956...   \n",
       "320769  9970229501521  http://world-fr.openfoodfacts.org/produit/9970...   \n",
       "320770  9980282863788  http://world-fr.openfoodfacts.org/produit/9980...   \n",
       "320771   999990026839  http://world-fr.openfoodfacts.org/produit/9999...   \n",
       "\n",
       "                           creator   created_t      created_datetime  \\\n",
       "0       openfoodfacts-contributors  1474103866  2016-09-17T09:17:46Z   \n",
       "1                  usda-ndb-import  1489069957  2017-03-09T14:32:37Z   \n",
       "2                  usda-ndb-import  1489069957  2017-03-09T14:32:37Z   \n",
       "3                  usda-ndb-import  1489055731  2017-03-09T10:35:31Z   \n",
       "4                  usda-ndb-import  1489055653  2017-03-09T10:34:13Z   \n",
       "...                            ...         ...                   ...   \n",
       "320767  openfoodfacts-contributors  1490631299  2017-03-27T16:14:59Z   \n",
       "320768             usda-ndb-import  1489059076  2017-03-09T11:31:16Z   \n",
       "320769                      tomato  1422099377  2015-01-24T11:36:17Z   \n",
       "320770  openfoodfacts-contributors  1492340089  2017-04-16T10:54:49Z   \n",
       "320771             usda-ndb-import  1489072709  2017-03-09T15:18:29Z   \n",
       "\n",
       "       last_modified_t last_modified_datetime  \\\n",
       "0           1474103893   2016-09-17T09:18:13Z   \n",
       "1           1489069957   2017-03-09T14:32:37Z   \n",
       "2           1489069957   2017-03-09T14:32:37Z   \n",
       "3           1489055731   2017-03-09T10:35:31Z   \n",
       "4           1489055653   2017-03-09T10:34:13Z   \n",
       "...                ...                    ...   \n",
       "320767      1491244498   2017-04-03T18:34:58Z   \n",
       "320768      1491244499   2017-04-03T18:34:59Z   \n",
       "320769      1491244499   2017-04-03T18:34:59Z   \n",
       "320770      1492340089   2017-04-16T10:54:49Z   \n",
       "320771      1491244499   2017-04-03T18:34:59Z   \n",
       "\n",
       "                                             product_name  \\\n",
       "0                                      Farine de blé noir   \n",
       "1                          Banana Chips Sweetened (Whole)   \n",
       "2                                                 Peanuts   \n",
       "3                                  Organic Salted Nut Mix   \n",
       "4                                         Organic Polenta   \n",
       "...                                                   ...   \n",
       "320767                                  Tomato & ricotta    \n",
       "320768  Mint Melange Tea A Blend Of Peppermint, Lemon ...   \n",
       "320769                                            乐吧泡菜味薯片   \n",
       "320770                           Tomates aux Vermicelles    \n",
       "320771                    Sugar Free Drink Mix, Peach Tea   \n",
       "\n",
       "                           generic_name quantity  ... fiber_100g  \\\n",
       "0                                   NaN      1kg  ...        NaN   \n",
       "1                                   NaN      NaN  ...        3.6   \n",
       "2                                   NaN      NaN  ...        7.1   \n",
       "3                                   NaN      NaN  ...        7.1   \n",
       "4                                   NaN      NaN  ...        5.7   \n",
       "...                                 ...      ...  ...        ...   \n",
       "320767                              NaN        1  ...        NaN   \n",
       "320768                              NaN      NaN  ...        0.0   \n",
       "320769  Leba pickle flavor potato chips     50 g  ...        NaN   \n",
       "320770                              NaN      67g  ...        NaN   \n",
       "320771                              NaN      NaN  ...        NaN   \n",
       "\n",
       "       proteins_100g salt_100g sodium_100g vitamin-a_100g vitamin-c_100g  \\\n",
       "0                NaN       NaN         NaN            NaN            NaN   \n",
       "1               3.57   0.00000       0.000            0.0         0.0214   \n",
       "2              17.86   0.63500       0.250            0.0         0.0000   \n",
       "3              17.86   1.22428       0.482            NaN            NaN   \n",
       "4               8.57       NaN         NaN            NaN            NaN   \n",
       "...              ...       ...         ...            ...            ...   \n",
       "320767           NaN       NaN         NaN            NaN            NaN   \n",
       "320768          0.00   0.00000       0.000            0.0         0.0000   \n",
       "320769           NaN       NaN         NaN            NaN            NaN   \n",
       "320770           NaN       NaN         NaN            NaN            NaN   \n",
       "320771          0.00   0.00000       0.000            NaN            NaN   \n",
       "\n",
       "       calcium_100g iron_100g nutrition-score-fr_100g nutrition-score-uk_100g  \n",
       "0               NaN       NaN                     NaN                     NaN  \n",
       "1             0.000   0.00129                    14.0                    14.0  \n",
       "2             0.071   0.00129                     0.0                     0.0  \n",
       "3             0.143   0.00514                    12.0                    12.0  \n",
       "4               NaN       NaN                     NaN                     NaN  \n",
       "...             ...       ...                     ...                     ...  \n",
       "320767          NaN       NaN                     NaN                     NaN  \n",
       "320768        0.000   0.00000                     0.0                     0.0  \n",
       "320769          NaN       NaN                     NaN                     NaN  \n",
       "320770          NaN       NaN                     NaN                     NaN  \n",
       "320771          NaN       NaN                     NaN                     NaN  \n",
       "\n",
       "[320772 rows x 71 columns]"
      ]
     },
     "execution_count": 6,
     "metadata": {},
     "output_type": "execute_result"
    }
   ],
   "source": [
    "# DATABASE SIMPLIFICATION : Delete dataframe columns with value number \n",
    "# inferior to \"limit_no_data_int\"\n",
    "limit_no_data_float = 100000\n",
    "\n",
    "print(\"float columns number: \", len(data_float.columns))\n",
    "print(\"string columns number: \", len(data_str.columns))\n",
    "# Filter float columns dataframe\n",
    "data_float = data_float[data_float.count()\n",
    "                     [data_float.count() > limit_no_data_float].index]\n",
    "\n",
    "limit_no_data_str = 20000\n",
    "\n",
    "data_str = data_str[data_str.count()\n",
    "                     [data_str.count() > limit_no_data_str].index]\n",
    "\n",
    "print(\"float columns number after not enough data column deletion: \", \n",
    "      len(data_float.columns))\n",
    "\n",
    "print(\"string columns number after not enough data column deletion: \", \n",
    "      len(data_str.columns))\n",
    "\n",
    "data_tmp = pd.concat([data_str, data_float], axis=1, copy=False)\n",
    "\n",
    "data_tmp"
   ]
  },
  {
   "cell_type": "markdown",
   "id": "adecc703",
   "metadata": {},
   "source": [
    "## Aberrant values deletion"
   ]
  },
  {
   "cell_type": "code",
   "execution_count": 7,
   "id": "8c1964df",
   "metadata": {
    "ExecuteTime": {
     "end_time": "2022-07-28T15:46:29.022543Z",
     "start_time": "2022-07-28T15:46:26.451870Z"
    }
   },
   "outputs": [
    {
     "name": "stdout",
     "output_type": "stream",
     "text": [
      "271\n"
     ]
    },
    {
     "ename": "NameError",
     "evalue": "name 'np' is not defined",
     "output_type": "error",
     "traceback": [
      "\u001b[0;31m---------------------------------------------------------------------------\u001b[0m",
      "\u001b[0;31mNameError\u001b[0m                                 Traceback (most recent call last)",
      "Input \u001b[0;32mIn [7]\u001b[0m, in \u001b[0;36m<cell line: 26>\u001b[0;34m()\u001b[0m\n\u001b[1;32m     23\u001b[0m N \u001b[38;5;241m=\u001b[39m \u001b[38;5;28mlen\u001b[39m(nutrition_columns)\n\u001b[1;32m     24\u001b[0m width \u001b[38;5;241m=\u001b[39m \u001b[38;5;241m0.5\u001b[39m \n\u001b[0;32m---> 26\u001b[0m ind \u001b[38;5;241m=\u001b[39m \u001b[43mnp\u001b[49m\u001b[38;5;241m.\u001b[39marange(N)    \u001b[38;5;66;03m# the x locations for the groups\u001b[39;00m\n\u001b[1;32m     27\u001b[0m plt\u001b[38;5;241m.\u001b[39mbarh(ind, original_data[nutrition_columns]\u001b[38;5;241m.\u001b[39mcount() \u001b[38;5;241m-\u001b[39m data_nutri_filter\u001b[38;5;241m.\u001b[39mcount(), width, color\u001b[38;5;241m=\u001b[39m\u001b[38;5;124m'\u001b[39m\u001b[38;5;124mroyalblue\u001b[39m\u001b[38;5;124m'\u001b[39m)\n\u001b[1;32m     28\u001b[0m plt\u001b[38;5;241m.\u001b[39mylabel(\u001b[38;5;124m'\u001b[39m\u001b[38;5;124mNutritional column\u001b[39m\u001b[38;5;124m'\u001b[39m, fontsize\u001b[38;5;241m=\u001b[39m\u001b[38;5;241m15\u001b[39m)\n",
      "\u001b[0;31mNameError\u001b[0m: name 'np' is not defined"
     ]
    },
    {
     "data": {
      "image/png": "[encoded data removed]",
      "text/plain": [
       "<Figure size 720x504 with 1 Axes>"
      ]
     },
     "metadata": {
      "needs_background": "light"
     },
     "output_type": "display_data"
    }
   ],
   "source": [
    "# Put NaN in weighted columns when it's inferior to 0g or superior to 100g\n",
    "nutrition_columns = ['fat_100g', 'saturated-fat_100g', \n",
    "                 'trans-fat_100g', 'cholesterol_100g', 'carbohydrates_100g', \n",
    "                 'sugars_100g', 'fiber_100g', 'proteins_100g', 'salt_100g', \n",
    "                 'sodium_100g', 'vitamin-a_100g', 'vitamin-c_100g', \n",
    "                 'calcium_100g', 'iron_100g']\n",
    "\n",
    "data_nutri_filter = original_data[nutrition_columns].copy()\n",
    "\n",
    "data_nutri_bool = (0 <= data_nutri_filter) & \\\n",
    "                                       (data_nutri_filter <= 100)\n",
    "\n",
    "data_nutri_filter = data_nutri_filter.mask(~data_nutri_bool)\n",
    "\n",
    "data_float[nutrition_columns] = data_nutri_filter\n",
    "\n",
    "# Print columns list with number of aberrent values deleted\n",
    "print((original_data[nutrition_columns].count() - data_nutri_filter.count()).sum())\n",
    "\n",
    "# Display \n",
    "import matplotlib.pyplot as plt\n",
    "fig, ax = plt.subplots(figsize=(10,7))\n",
    "N = len(nutrition_columns)\n",
    "width = 0.5 \n",
    "\n",
    "ind = np.arange(N)    # the x locations for the groups\n",
    "plt.barh(ind, original_data[nutrition_columns].count() - data_nutri_filter.count(), width, color='royalblue')\n",
    "plt.ylabel('Nutritional column', fontsize=15)\n",
    "plt.xlabel('Count', fontsize=15)\n",
    "plt.title('Aberrant value count', fontsize=20)\n",
    "plt.yticks(ind, nutrition_columns, fontsize=13)\n",
    "plt.xticks(fontsize=15)\n",
    "plt.show()"
   ]
  },
  {
   "cell_type": "markdown",
   "id": "f252323d",
   "metadata": {},
   "source": [
    "## Outliers deletion on continuous variables"
   ]
  },
  {
   "cell_type": "code",
   "execution_count": null,
   "id": "a709544a",
   "metadata": {
    "ExecuteTime": {
     "end_time": "2022-07-28T15:46:29.033791Z",
     "start_time": "2022-07-28T15:46:29.033765Z"
    }
   },
   "outputs": [],
   "source": [
    "# Define function to delete outlier in some column\n",
    "def deleteOutlier(col, quantile):\n",
    "    col_numeric = pd.to_numeric(col.to_numpy(), errors='coerce')\n",
    "    # Create boolean list for outlier : x < Q1 - 1.5 * IQR | x > Q3 + 1.5 * IQR\n",
    "    Q1 = col[~np.isnan(col_numeric)].quantile(quantile)\n",
    "    Q3 = col[~np.isnan(col_numeric)].quantile(1-quantile)\n",
    "    IQR = Q3 - Q1\n",
    "    out_IQR_col = (col_numeric < (Q1 - 3 * IQR)) | (col_numeric > (Q3 + 3 * IQR))\n",
    "    new_col = col\n",
    "    new_col[out_IQR_col] = np.nan\n",
    "    return new_col"
   ]
  },
  {
   "cell_type": "code",
   "execution_count": null,
   "id": "e113896b",
   "metadata": {
    "ExecuteTime": {
     "end_time": "2022-07-28T15:46:29.036298Z",
     "start_time": "2022-07-28T15:46:29.036276Z"
    }
   },
   "outputs": [],
   "source": [
    "# Apply function to delete outlier in quantity columns\n",
    "float_columns_remaining = [\"energy_100g\"]\n",
    "\n",
    "data_fcr_filter = original_data[float_columns_remaining].copy()\n",
    "\n",
    "data_fcr_filter = data_fcr_filter.apply(lambda col : deleteOutlier(col, 0.25))\n",
    "\n",
    "data_float[float_columns_remaining] = data_fcr_filter\n",
    "\n",
    "# Print columns list with detected outliers in each column\n",
    "print(original_data[float_columns_remaining].count() - \n",
    "      data_fcr_filter.count())"
   ]
  },
  {
   "cell_type": "markdown",
   "id": "3b680050",
   "metadata": {},
   "source": [
    "## Visualization"
   ]
  },
  {
   "cell_type": "code",
   "execution_count": null,
   "id": "c33dc182",
   "metadata": {
    "ExecuteTime": {
     "end_time": "2022-07-28T15:46:29.039874Z",
     "start_time": "2022-07-28T15:46:29.039835Z"
    }
   },
   "outputs": [],
   "source": [
    "import matplotlib.pyplot as plt\n",
    "import seaborn as sns\n",
    "\n",
    "fig, axes = plt.subplots(nrows=1, ncols=2,figsize=(20,10))\n",
    "\n",
    "values = original_data[\"energy_100g\"][~np.isnan(original_data[\"energy_100g\"])]\n",
    "values_filter = data_float[\"energy_100g\"][~np.isnan(data_float[\"energy_100g\"])]\n",
    "axes[0].boxplot(values)\n",
    "axes[0].set_title(\"energy_100g \\n Before outlier deletion\", fontdict = {\n",
    "                             'fontsize': 20,\n",
    "                            })\n",
    "plt.sca(axes[0])\n",
    "plt.yticks(size=20)\n",
    "\n",
    "axes[1].boxplot(values_filter)\n",
    "axes[1].set_title(\"energy_100g \\n After outlier deletion\", fontdict = {\n",
    "                             'fontsize': 20,\n",
    "                            })\n",
    "plt.sca(axes[1])\n",
    "plt.yticks(size=20)\n",
    "\n",
    "\n",
    "plt.show()"
   ]
  },
  {
   "cell_type": "code",
   "execution_count": null,
   "id": "17ed38c0",
   "metadata": {
    "ExecuteTime": {
     "end_time": "2022-07-28T15:46:29.042660Z",
     "start_time": "2022-07-28T15:46:29.042627Z"
    }
   },
   "outputs": [],
   "source": [
    "data_filter = pd.concat([data_nutri_filter, data_fcr_filter], axis=1, copy=False)\n",
    "\n",
    "fig, axes = plt.subplots(nrows=len(data_filter.columns), ncols=2,figsize=(20,50))\n",
    "\n",
    "cpt = 0\n",
    "for col in data_filter.columns:\n",
    "    values = original_data[col][~np.isnan(original_data[col])]\n",
    "    values_filter = data_filter[col][~np.isnan(data_filter[col])]\n",
    "    axes[int(cpt), 0].boxplot(values)\n",
    "    axes[int(cpt), 0].set_title(col, fontdict = {\n",
    "                                 'fontsize': 15,\n",
    "                                })\n",
    "    axes[int(cpt), 1].boxplot(values_filter)\n",
    "    axes[int(cpt), 1].set_title(col, fontdict = {\n",
    "                                 'fontsize': 15,\n",
    "                                })\n",
    "    cpt = cpt + 1\n",
    "\n",
    "plt.show()"
   ]
  },
  {
   "cell_type": "code",
   "execution_count": null,
   "id": "e6ec8b47",
   "metadata": {
    "ExecuteTime": {
     "end_time": "2022-07-28T15:46:29.045948Z",
     "start_time": "2022-07-28T15:46:29.045922Z"
    }
   },
   "outputs": [],
   "source": [
    "data_clean = pd.concat([data_str, data_float], axis=1, copy=False)"
   ]
  },
  {
   "cell_type": "code",
   "execution_count": null,
   "id": "c897a125",
   "metadata": {
    "ExecuteTime": {
     "end_time": "2022-07-28T15:46:29.048546Z",
     "start_time": "2022-07-28T15:46:29.048525Z"
    }
   },
   "outputs": [],
   "source": [
    "fig, axes = plt.subplots(nrows=1, ncols=1,figsize=(8,8))\n",
    "\n",
    "original_data_range = original_data\n",
    "original_data_range.sort_values(by=[\"created_datetime\"], inplace=True)\n",
    "    \n",
    "# Plot heatmap of boolean original dataframe\n",
    "original_data_bin = ~original_data_range.isnull() # Create boolean dataframe according cell is NaN or not\n",
    "sns.heatmap(original_data_bin, ax=axes, cbar=False)\n",
    "axes.set_title(\"Occupation avant nettoyage\", fontdict = {\n",
    "                             'fontsize': 20,\n",
    "                            })\n",
    "plt.sca(axes)\n",
    "plt.yticks(size=10)\n",
    "plt.xticks(size=10)\n",
    "\n",
    "fig, axes = plt.subplots(nrows=1, ncols=1,figsize=(8,8))\n",
    "\n",
    "data_clean_range = data_clean\n",
    "data_clean_range.sort_values(by=[\"created_datetime\"], inplace=True)\n",
    "\n",
    "# Plot heatmap of boolean cleaned dataframe\n",
    "data_bin = ~data_clean_range.isnull()\n",
    "sns.heatmap(data_bin, ax=axes, cbar=False)\n",
    "axes.set_title(\"Occupation après nettoyage\", fontdict = {\n",
    "                             'fontsize': 20,\n",
    "                            })\n",
    "plt.sca(axes)\n",
    "plt.yticks(size=10)\n",
    "plt.xticks(size=10)\n",
    "plt.show()"
   ]
  },
  {
   "cell_type": "code",
   "execution_count": null,
   "id": "4f1a3d13",
   "metadata": {
    "ExecuteTime": {
     "end_time": "2022-07-28T15:46:29.054346Z",
     "start_time": "2022-07-28T15:46:29.054305Z"
    }
   },
   "outputs": [],
   "source": [
    "print(\"articles number in simplified database : \", len(data_clean))\n",
    "print(\"columns number in simplified database : \", len(data_clean.columns))\n",
    "nb = 100*data_clean.count().sum()/(len(data_clean)*len(data_clean.columns))\n",
    "print(\"filled data % : {:.2f}%\".format(nb))"
   ]
  },
  {
   "cell_type": "code",
   "execution_count": null,
   "id": "e7280cb2",
   "metadata": {
    "ExecuteTime": {
     "end_time": "2022-07-28T15:46:29.057427Z",
     "start_time": "2022-07-28T15:46:29.057401Z"
    }
   },
   "outputs": [],
   "source": [
    "# Add \"fruits-vegetables-nuts_100g\" column for nutriscore process\n",
    "data_clean[\"fruits-vegetables-nuts_100g\"] = original_data[\"fruits-vegetables-nuts_100g\"]"
   ]
  },
  {
   "cell_type": "code",
   "execution_count": null,
   "id": "276748b3",
   "metadata": {
    "ExecuteTime": {
     "end_time": "2022-07-28T15:46:29.062527Z",
     "start_time": "2022-07-28T15:46:29.062475Z"
    }
   },
   "outputs": [],
   "source": [
    "data_clean.to_csv(\"fr.openfoodfacts.org.products.clean.csv\")"
   ]
  }
 ],
 "metadata": {
  "hide_input": false,
  "kernelspec": {
   "display_name": "Python 3 (ipykernel)",
   "language": "python",
   "name": "python3"
  },
  "language_info": {
   "codemirror_mode": {
    "name": "ipython",
    "version": 3
   },
   "file_extension": ".py",
   "mimetype": "text/x-python",
   "name": "python",
   "nbconvert_exporter": "python",
   "pygments_lexer": "ipython3",
   "version": "3.9.12"
  },
  "toc": {
   "base_numbering": 1,
   "nav_menu": {},
   "number_sections": true,
   "sideBar": true,
   "skip_h1_title": false,
   "title_cell": "Table of Contents",
   "title_sidebar": "Contents",
   "toc_cell": false,
   "toc_position": {},
   "toc_section_display": true,
   "toc_window_display": false
  },
  "varInspector": {
   "cols": {
    "lenName": 16,
    "lenType": 16,
    "lenVar": 40
   },
   "kernels_config": {
    "python": {
     "delete_cmd_postfix": "",
     "delete_cmd_prefix": "del ",
     "library": "var_list.py",
     "varRefreshCmd": "print(var_dic_list())"
    },
    "r": {
     "delete_cmd_postfix": ") ",
     "delete_cmd_prefix": "rm(",
     "library": "var_list.r",
     "varRefreshCmd": "cat(var_dic_list()) "
    }
   },
   "position": {
    "height": "144px",
    "left": "1310px",
    "right": "20px",
    "top": "121px",
    "width": "350px"
   },
   "types_to_exclude": [
    "module",
    "function",
    "builtin_function_or_method",
    "instance",
    "_Feature"
   ],
   "window_display": false
  }
 },
 "nbformat": 4,
 "nbformat_minor": 5
}
