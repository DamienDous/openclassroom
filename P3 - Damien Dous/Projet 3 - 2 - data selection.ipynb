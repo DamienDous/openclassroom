{
 "cells": [
  {
   "cell_type": "code",
   "execution_count": 19,
   "id": "2d1a7424",
   "metadata": {
    "ExecuteTime": {
     "end_time": "2022-02-14T09:26:09.150345Z",
     "start_time": "2022-02-14T09:26:08.067940Z"
    }
   },
   "outputs": [
    {
     "name": "stdout",
     "output_type": "stream",
     "text": [
      "Once deleted, variables cannot be recovered. Proceed (y/[n])? y\n"
     ]
    }
   ],
   "source": [
    "%reset"
   ]
  },
  {
   "cell_type": "code",
   "execution_count": 20,
   "id": "00c78e09",
   "metadata": {
    "ExecuteTime": {
     "end_time": "2022-02-14T09:26:17.599168Z",
     "start_time": "2022-02-14T09:26:09.846604Z"
    }
   },
   "outputs": [
    {
     "name": "stderr",
     "output_type": "stream",
     "text": [
      "/opt/anaconda3/lib/python3.9/site-packages/IPython/core/interactiveshell.py:3444: DtypeWarning: Columns (1,4,6,9,10,11,12,15,16,17,18,19,20,21,22,23,24,25,26,27,28,29,34,35,36,37,43,44,48,49,50,51) have mixed types.Specify dtype option on import or set low_memory=False.\n",
      "  exec(code_obj, self.user_global_ns, self.user_ns)\n"
     ]
    }
   ],
   "source": [
    "import pandas as pd\n",
    "\n",
    "# load education data\n",
    "data_clean = pd.read_csv('fr.openfoodfacts.org.products.clean.csv', sep=',', index_col=[0])"
   ]
  },
  {
   "cell_type": "markdown",
   "id": "87618bde",
   "metadata": {},
   "source": [
    "# French data selection"
   ]
  },
  {
   "cell_type": "code",
   "execution_count": 21,
   "id": "f3077863",
   "metadata": {
    "ExecuteTime": {
     "end_time": "2022-02-14T09:26:25.133556Z",
     "start_time": "2022-02-14T09:26:18.130346Z"
    }
   },
   "outputs": [
    {
     "name": "stdout",
     "output_type": "stream",
     "text": [
      "articles number in french database :  98103\n",
      "columns number in french database :  72\n"
     ]
    }
   ],
   "source": [
    "data_france = data_clean[data_clean[\"countries\"].str.contains(\"france|en:fr\", na=False, case=False)]\n",
    "\n",
    "print(\"articles number in french database : \", len(data_france))\n",
    "print(\"columns number in french database : \", len(data_france.columns))\n",
    "\n",
    "data_france.to_csv(\"fr.openfoodfacts.org.products.france.csv\")"
   ]
  },
  {
   "cell_type": "markdown",
   "id": "edaaa3c5",
   "metadata": {},
   "source": [
    "# Nutriscore data process"
   ]
  },
  {
   "cell_type": "markdown",
   "id": "4369df7e",
   "metadata": {},
   "source": [
    "## Select and clean to process nutriscore\n",
    "Nutriscore is process :\n",
    "- using 8 nutritional parameters : \n",
    "    - energy_100g, \n",
    "    - fat_100g\n",
    "    - saturated-fat_100g\n",
    "    - sugars_100g\n",
    "    - fiber_100g\n",
    "    - proteins_100g\n",
    "    - sodium_100\n",
    "    - fruits-vegetables-nuts_100g\n",
    "- knowing if the product is beverage or not\n",
    "- knowing if the product is beverage, if it is mineral water\n",
    "In this part, we recover all this data"
   ]
  },
  {
   "cell_type": "code",
   "execution_count": 22,
   "id": "3668bd90",
   "metadata": {
    "ExecuteTime": {
     "end_time": "2022-02-14T09:26:39.340741Z",
     "start_time": "2022-02-14T09:26:25.853440Z"
    }
   },
   "outputs": [
    {
     "name": "stdout",
     "output_type": "stream",
     "text": [
      "number of articles before removing:  98103\n",
      "number of articles after removing:  62667\n"
     ]
    }
   ],
   "source": [
    "# 7 parameters are already there and sufficiently filled. \n",
    "# For the articles with not enough data, remove them.\n",
    "nutrition_columns = [\"energy_100g\", 'fat_100g', 'saturated-fat_100g', \n",
    "                     'sugars_100g', 'fiber_100g', 'proteins_100g', 'sodium_100g']\n",
    "\n",
    "data = data_france.copy()\n",
    "\n",
    "fill_factor = 0.5\n",
    "\n",
    "data = data[data[nutrition_columns].apply(\n",
    "            lambda row: pd.notnull(row).sum() > len(row) * fill_factor, axis=1)]\n",
    "\n",
    "print(\"number of articles before removing: \", len(data_france))\n",
    "print(\"number of articles after removing: \", len(data))\n",
    "\n",
    "data.count().to_csv(\"test.csv\")"
   ]
  },
  {
   "cell_type": "markdown",
   "id": "74212757",
   "metadata": {},
   "source": [
    "## Nutriscore data filling"
   ]
  },
  {
   "cell_type": "code",
   "execution_count": 23,
   "id": "2de7bad5",
   "metadata": {
    "ExecuteTime": {
     "end_time": "2022-02-14T09:27:04.890505Z",
     "start_time": "2022-02-14T09:26:40.197209Z"
    }
   },
   "outputs": [
    {
     "name": "stderr",
     "output_type": "stream",
     "text": [
      "/var/folders/p0/r9j8yslx4_18sgx9jxyw5fmm0000gn/T/ipykernel_1090/1329846157.py:16: SettingWithCopyWarning: \n",
      "A value is trying to be set on a copy of a slice from a DataFrame.\n",
      "Try using .loc[row_indexer,col_indexer] = value instead\n",
      "\n",
      "See the caveats in the documentation: https://pandas.pydata.org/pandas-docs/stable/user_guide/indexing.html#returning-a-view-versus-a-copy\n",
      "  data_nutri[data_nutri.isna().any(axis=1)] = imp.transform(\n",
      "/opt/anaconda3/lib/python3.9/site-packages/pandas/core/indexing.py:1732: SettingWithCopyWarning: \n",
      "A value is trying to be set on a copy of a slice from a DataFrame\n",
      "\n",
      "See the caveats in the documentation: https://pandas.pydata.org/pandas-docs/stable/user_guide/indexing.html#returning-a-view-versus-a-copy\n",
      "  self._setitem_single_block(indexer, value, name)\n",
      "/opt/anaconda3/lib/python3.9/site-packages/pandas/core/indexing.py:723: SettingWithCopyWarning: \n",
      "A value is trying to be set on a copy of a slice from a DataFrame\n",
      "\n",
      "See the caveats in the documentation: https://pandas.pydata.org/pandas-docs/stable/user_guide/indexing.html#returning-a-view-versus-a-copy\n",
      "  iloc._setitem_with_indexer(indexer, value, self.name)\n"
     ]
    }
   ],
   "source": [
    "# For these 7 parameters, use iterative imputer of scikit learn to fill the empty data\n",
    "from sklearn.experimental import enable_iterative_imputer\n",
    "from sklearn.impute import IterativeImputer\n",
    "\n",
    "data_nutri = data[nutrition_columns]\n",
    "\n",
    "# Create the learner\n",
    "imp = IterativeImputer(max_iter=5, random_state=0, \n",
    "                       skip_complete = True, sample_posterior = True,\n",
    "                      missing_values = np.nan, min_value = 0,\n",
    "                      max_value = 1000)\n",
    "# Put original data to train it\n",
    "imp.fit(data_nutri)\n",
    "\n",
    "# Use the trained learner to predicate the empty data\n",
    "data_nutri[data_nutri.isna().any(axis=1)] = imp.transform(\n",
    "                                    data_nutri[data_nutri.isna().any(axis=1)])"
   ]
  },
  {
   "cell_type": "code",
   "execution_count": 24,
   "id": "5229373a",
   "metadata": {
    "ExecuteTime": {
     "end_time": "2022-02-14T09:27:06.017810Z",
     "start_time": "2022-02-14T09:27:05.862668Z"
    },
    "code_folding": []
   },
   "outputs": [
    {
     "data": {
      "image/png": "[encoded data removed]",
      "text/plain": [
       "<Figure size 720x504 with 1 Axes>"
      ]
     },
     "metadata": {
      "needs_background": "light"
     },
     "output_type": "display_data"
    }
   ],
   "source": [
    "import matplotlib.pyplot as plt\n",
    "# Display \n",
    "fig, ax = plt.subplots(figsize=(10,7))\n",
    "N = len(nutrition_columns+[\"fruits-vegetables-nuts_100g\"])\n",
    "width = 0.5 \n",
    "\n",
    "ind = np.arange(N)    # the x locations for the groups\n",
    "p1 = plt.barh(ind, data[nutrition_columns+[\"fruits-vegetables-nuts_100g\"]].count(), width, color='royalblue')\n",
    "\n",
    "plt.ylabel('Nutritional column', fontsize=15)\n",
    "plt.xlabel('Count', fontsize=15)\n",
    "plt.title('Original data count', fontsize=20)\n",
    "plt.yticks(ind, nutrition_columns+[\"fruits-vegetables-nuts_100g\"], fontsize=13)\n",
    "plt.xticks(fontsize=15)\n",
    "plt.show()"
   ]
  },
  {
   "cell_type": "code",
   "execution_count": 25,
   "id": "2ae62f18",
   "metadata": {
    "ExecuteTime": {
     "end_time": "2022-02-14T09:27:07.155072Z",
     "start_time": "2022-02-14T09:27:06.981506Z"
    },
    "scrolled": false
   },
   "outputs": [
    {
     "data": {
      "image/png": "[encoded data removed]",
      "text/plain": [
       "<Figure size 720x504 with 1 Axes>"
      ]
     },
     "metadata": {
      "needs_background": "light"
     },
     "output_type": "display_data"
    }
   ],
   "source": [
    "# Display \n",
    "fig, ax = plt.subplots(figsize=(10,7))\n",
    "N = len(nutrition_columns)\n",
    "width = 0.5 \n",
    "\n",
    "ind = np.arange(N)    # the x locations for the groups\n",
    "p1 = plt.barh(ind, data[nutrition_columns].count(), width, color='royalblue')\n",
    "p2 = plt.barh(ind, data_nutri.count() - data[nutrition_columns].count(),\n",
    "              width, color='darkorange', left=data[nutrition_columns].count())\n",
    "\n",
    "plt.ylabel('Nutritional column', fontsize=15)\n",
    "plt.xlabel('Count', fontsize=15)\n",
    "plt.title('After Iteractive inputer process', fontsize=20)\n",
    "plt.yticks(ind, nutrition_columns, fontsize=13)\n",
    "plt.xticks(fontsize=15)\n",
    "plt.legend((p1[0], p2[0]), ('Original count', 'After process'), fontsize=15)\n",
    "\n",
    "plt.show()"
   ]
  },
  {
   "cell_type": "code",
   "execution_count": 26,
   "id": "a80c1282",
   "metadata": {
    "ExecuteTime": {
     "end_time": "2022-02-14T09:27:08.143715Z",
     "start_time": "2022-02-14T09:27:08.138555Z"
    }
   },
   "outputs": [],
   "source": [
    "data[nutrition_columns] = data_nutri"
   ]
  },
  {
   "cell_type": "markdown",
   "id": "01533d0b",
   "metadata": {},
   "source": [
    "## Add and filled remaining columns"
   ]
  },
  {
   "cell_type": "code",
   "execution_count": 27,
   "id": "2602923d",
   "metadata": {
    "ExecuteTime": {
     "end_time": "2022-02-14T09:27:09.284654Z",
     "start_time": "2022-02-14T09:27:09.000973Z"
    }
   },
   "outputs": [
    {
     "data": {
      "image/png": "[encoded data removed]",
      "text/plain": [
       "<Figure size 720x504 with 1 Axes>"
      ]
     },
     "metadata": {
      "needs_background": "light"
     },
     "output_type": "display_data"
    }
   ],
   "source": [
    "columns = [\"labels_fr\", \"packaging_tags\", \"ingredients_from_palm_oil_n\", \n",
    "\"ingredients_that_may_be_from_palm_oil_n\", \"additives_n\", \"allergens\", \n",
    "\"categories_fr\", \"pnns_groups_2\"]\n",
    "\n",
    "import matplotlib.pyplot as plt\n",
    "# Display \n",
    "fig, ax = plt.subplots(figsize=(10,7))\n",
    "N = len(columns)\n",
    "width = 0.5 \n",
    "data.count().to_csv(\"test.csv\")\n",
    "ind = np.arange(N)    # the x locations for the groups\n",
    "p1 = plt.barh(ind, data[columns].count(), width, color='royalblue')\n",
    "\n",
    "plt.xlabel('Count', fontsize=15)\n",
    "plt.title('Count', fontsize=20)\n",
    "plt.yticks(ind, columns, fontsize=13)\n",
    "plt.show()"
   ]
  },
  {
   "cell_type": "markdown",
   "id": "1b45c016",
   "metadata": {},
   "source": [
    "### Fill fruits-vegetables-nuts column"
   ]
  },
  {
   "cell_type": "code",
   "execution_count": 28,
   "id": "8a87d568",
   "metadata": {
    "ExecuteTime": {
     "end_time": "2022-02-14T09:27:10.261894Z",
     "start_time": "2022-02-14T09:27:10.256645Z"
    }
   },
   "outputs": [],
   "source": [
    "def is_word_in(x, words_list):\n",
    "    if pd.notnull(x) and isinstance(x, str):\n",
    "        return any(item for item in words_list if item in x)\n",
    "    return False"
   ]
  },
  {
   "cell_type": "code",
   "execution_count": 29,
   "id": "4eec42f0",
   "metadata": {
    "ExecuteTime": {
     "end_time": "2022-02-14T09:27:11.328045Z",
     "start_time": "2022-02-14T09:27:11.233360Z"
    }
   },
   "outputs": [
    {
     "name": "stdout",
     "output_type": "stream",
     "text": [
      "Value number before adding new 'fruit, vegetables and nuts products' :  217\n",
      "Value number after adding new 'fruit, vegetables and nuts products' :  3340\n"
     ]
    }
   ],
   "source": [
    "fln_list = [\"Légumes frais\", \"Fruits\", \"Fruits à coques\", \"Jus de fruits\",\n",
    "            \"Fruits secs\", \"Nectars de fruits\", \"Huiles\", \"Huiles d'olive\",\n",
    "            \"Jus de pomme\", \"Tomates\", \"Olives vertes\", \"Jus d'orange\",\n",
    "            \"Jus de pamplemousse\"]\n",
    "\n",
    "is_fln = data[\"main_category_fr\"].apply(lambda x: is_word_in(x, fln_list))\n",
    "\n",
    "print(\"Value number before adding new 'fruit, vegetables and nuts products' : \", \\\n",
    "      (data['fruits-vegetables-nuts_100g'] > 90).sum())\n",
    "\n",
    "data.loc[is_fln, 'fruits-vegetables-nuts_100g'] = 100.0\n",
    "\n",
    "print(\"Value number after adding new 'fruit, vegetables and nuts products' : \", \\\n",
    "      (data['fruits-vegetables-nuts_100g'] > 90.0).sum())"
   ]
  },
  {
   "cell_type": "markdown",
   "id": "7fbf1274",
   "metadata": {},
   "source": [
    "### Test knn to fill fruits-vegetables-nuts column"
   ]
  },
  {
   "cell_type": "code",
   "execution_count": 34,
   "id": "ef9629ae",
   "metadata": {
    "ExecuteTime": {
     "end_time": "2022-02-14T09:51:47.868836Z",
     "start_time": "2022-02-14T09:51:47.859333Z"
    }
   },
   "outputs": [],
   "source": [
    "from sklearn.neighbors import KNeighborsClassifier\n",
    "from sklearn.model_selection import train_test_split\n",
    "import random\n",
    "\n",
    "def train_with_knn(X, y, iterations_number):\n",
    "    model = KNeighborsClassifier(n_neighbors=2)\n",
    "\n",
    "    y_old = y\n",
    "    y_new_global = len(X) * [False]\n",
    "    print('is in group count begin :', y.sum())\n",
    "    cpt = 0\n",
    "    while cpt < iterations_number:\n",
    "        is_group = X[y_old == True]\n",
    "        is_not_group = X[y_old == False]\n",
    "    \n",
    "        # Get random articles with no fln\n",
    "        rand_list = random.sample(range(0, len(is_not_group)), int(0.5*len(is_not_group)))\n",
    "        is_not_group_sample = is_not_group.iloc[rand_list]\n",
    "        \n",
    "        # Concatenate train set (no fln + fln)\n",
    "        global_sample = pd.concat([is_group, is_not_group_sample], axis=0, copy=False)   \n",
    "        \n",
    "        # Create y corresponding\n",
    "        y_train = len(is_group) * [True] + len(is_not_group_sample) * [False]\n",
    "        \n",
    "        # Train the model using the training sets\n",
    "        model.fit(global_sample, y_train)\n",
    "    \n",
    "        #Predict Output\n",
    "        y_new = model.predict(X)\n",
    "        print('new pred is in group nb :', y_new.sum())\n",
    "\n",
    "        if pd.Series(y_old).equals(y_new):\n",
    "            print(\"is_equal\")\n",
    "            break\n",
    "        \n",
    "        # Gather new predictions each iteration\n",
    "        y_new_global = y_new_global|y_new\n",
    "        \n",
    "        # Gather new and old predictions for next iteration\n",
    "        y_old = y_old|y_new\n",
    "        print('new and old predication nb :', y_old.sum())\n",
    "        cpt = cpt + 1\n",
    "\n",
    "    return y_new_global"
   ]
  },
  {
   "cell_type": "code",
   "execution_count": 41,
   "id": "53d97610",
   "metadata": {
    "ExecuteTime": {
     "end_time": "2022-02-14T09:54:33.398455Z",
     "start_time": "2022-02-14T09:54:31.443768Z"
    },
    "code_folding": []
   },
   "outputs": [
    {
     "name": "stdout",
     "output_type": "stream",
     "text": [
      "is in group count begin : 3340\n",
      "new pred is in group nb : 2649\n",
      "new and old predication nb : 3728\n",
      "214365                           Jus d'orange des tropiques\n",
      "214363                                      Nectar Tropical\n",
      "212237                         Pur jus de pamplemousse rose\n",
      "204241                 Pruneaux d'Agen très gros dénoyautés\n",
      "217536                                               Isio 4\n",
      "212510                           Huile d'Olive vierge extra\n",
      "246215    Energy orange, mangue, acérola,guarana pasteurisé\n",
      "212016                                   Huile de Tournesol\n",
      "222005    Nectar fruits de la passion à base de jus conc...\n",
      "194840                                Le Fruit - Multifruit\n",
      "192499                                  Moutarde provençale\n",
      "220342                                    Formule Equilibre\n",
      "220341                                        Formule Eclat\n",
      "278107                    Pure Premium, Ananas Citron Vert \n",
      "191468                  Essentiels Multivitamines 12 fruits\n",
      "237649           Pamplemousse Rose, Jus à base de concentré\n",
      "212858                             100% pur jus multifruits\n",
      "252975      Pur Jus Mangue Passion Passion Équitable et Bio\n",
      "252974                           Goyave Banane 100% pur jus\n",
      "237903                            Abricot, Nectar d'abricot\n",
      "197103                               Coca Cola sans caféine\n",
      "205737                                       Paquito Orange\n",
      "195036              nectar d'orange d'ananas et de carotte \n",
      "278105                          Pure Premium Ananas Plaisir\n",
      "194839                                         Jus de pomme\n",
      "204318                                Pommes poires potiron\n",
      "208617                                   Huile de tournesol\n",
      "223105                                     Pur Jus d'Orange\n",
      "278112           Cueillette du Verger, Pêche Blanche Cerise\n",
      "209132                                Jus de pomme Pressade\n",
      "Name: product_name, dtype: object\n"
     ]
    }
   ],
   "source": [
    "# Test knn algorithm to predict 'fruits vegetables nuts' products\n",
    "y = train_with_knn(data[nutrition_columns], data['fruits-vegetables-nuts_100g'] > 90.0, 1)    \n",
    "\n",
    "# Display new products that is predicted having 'fruits vegetables nuts'\n",
    "df = data[\"product_name\"][y]\n",
    "\n",
    "print(df.head(30))"
   ]
  },
  {
   "cell_type": "markdown",
   "id": "07b42bb1",
   "metadata": {},
   "source": [
    "**CONCLUSION : \n",
    "Prediction give good predictions but make some errors and add some beverages that is not composed by fruits-vegetables-nuts products, e.g 'Coca Cola sans caféine'**"
   ]
  },
  {
   "cell_type": "markdown",
   "id": "24abd36a",
   "metadata": {},
   "source": [
    "### Fill is_water and is_berverage column"
   ]
  },
  {
   "cell_type": "code",
   "execution_count": 43,
   "id": "8306ea72",
   "metadata": {
    "ExecuteTime": {
     "end_time": "2022-02-14T10:01:54.970843Z",
     "start_time": "2022-02-14T10:01:54.804049Z"
    }
   },
   "outputs": [
    {
     "name": "stdout",
     "output_type": "stream",
     "text": [
      "New productions considered as water : 51\n",
      "New productions considered as beverage : 4584\n"
     ]
    }
   ],
   "source": [
    "def is_word_in(x, words_list):\n",
    "    if pd.notnull(x) and isinstance(x, str):\n",
    "        return any(item for item in words_list if item in x)\n",
    "    return \n",
    "\n",
    "# Get products that is mineral water from categories column\n",
    "water_list = [\"Eaux minérales\"]\n",
    "data[\"is_water\"] = data[\"categories_fr\"].apply(\n",
    "    lambda x: is_word_in(x, water_list))\n",
    "\n",
    "beverage_list = [\"Beverages\"]\n",
    "data[\"is_beverage\"] = data[\"pnns_groups_1\"].apply(\n",
    "    lambda x: is_word_in(x, beverage_list))\n",
    "\n",
    "print(\"New productions considered as water :\", (data['is_water']).sum())\n",
    "print(\"New productions considered as beverage :\", (data['is_beverage']).sum())"
   ]
  },
  {
   "cell_type": "markdown",
   "id": "ac3d1a09",
   "metadata": {},
   "source": [
    "#  Create new eco labeled columns"
   ]
  },
  {
   "cell_type": "markdown",
   "id": "42dc97db",
   "metadata": {},
   "source": [
    "## Simplify palm oil column by creating one palm oil number column"
   ]
  },
  {
   "cell_type": "code",
   "execution_count": 85,
   "id": "193907d1",
   "metadata": {
    "ExecuteTime": {
     "end_time": "2022-02-14T10:31:10.739268Z",
     "start_time": "2022-02-14T10:31:10.726225Z"
    }
   },
   "outputs": [
    {
     "name": "stdout",
     "output_type": "stream",
     "text": [
      "ingredients from palm oil number : 3346\n",
      "ingredients that may be from palm oil number : 5478\n",
      "palm oil values number : 7765\n",
      "palm oil values number : 42023\n"
     ]
    }
   ],
   "source": [
    "# Create palm oil ingredients number column\n",
    "data[\"palm_oil_n\"] = data[\"ingredients_from_palm_oil_n\"] + \\\n",
    "                     data[\"ingredients_that_may_be_from_palm_oil_n\"]\n",
    "\n",
    "\n",
    "print(\"ingredients from palm oil number :\", \\\n",
    "      (data[\"ingredients_from_palm_oil_n\"][~data[\"ingredients_from_palm_oil_n\"].isna()]!=0).sum())\n",
    "\n",
    "print(\"ingredients that may be from palm oil number :\", \\\n",
    "      (data[\"ingredients_that_may_be_from_palm_oil_n\"][~data[\"ingredients_that_may_be_from_palm_oil_n\"].isna()]!=0).sum())\n",
    "\n",
    "print(\"palm oil values number :\", \\\n",
    "      (data[\"palm_oil_n\"][~data[\"palm_oil_n\"].isna()]!=0).sum())"
   ]
  },
  {
   "cell_type": "markdown",
   "id": "87079b4d",
   "metadata": {},
   "source": [
    "## Create one allergens number column"
   ]
  },
  {
   "cell_type": "code",
   "execution_count": 86,
   "id": "ea948f3a",
   "metadata": {
    "ExecuteTime": {
     "end_time": "2022-02-14T10:31:20.108892Z",
     "start_time": "2022-02-14T10:31:20.004951Z"
    }
   },
   "outputs": [
    {
     "name": "stdout",
     "output_type": "stream",
     "text": [
      "allergens values nb : 19945\n"
     ]
    }
   ],
   "source": [
    "# Recover allergens column\n",
    "def split_and_unified(case):\n",
    "    if pd.notnull(case) and isinstance(case, str):\n",
    "        return len(set({v.strip().casefold(): v.strip() \\\n",
    "                                            for v in case.split(',')}.values()))\n",
    "\n",
    "# Create allergens number column and count unique word in allergens\n",
    "data[\"allergens_n\"] = data[\"allergens\"].apply(lambda x: split_and_unified(x))\n",
    "\n",
    "print(\"allergens values nb :\", \\\n",
    "      (data[\"allergens_n\"][~data[\"allergens_n\"].isna()]!=0).sum())"
   ]
  },
  {
   "cell_type": "markdown",
   "id": "01933cc9",
   "metadata": {},
   "source": [
    "## Create one biological label column"
   ]
  },
  {
   "cell_type": "code",
   "execution_count": 87,
   "id": "8f892067",
   "metadata": {
    "ExecuteTime": {
     "end_time": "2022-02-14T10:32:40.229076Z",
     "start_time": "2022-02-14T10:32:40.050519Z"
    },
    "scrolled": true
   },
   "outputs": [
    {
     "name": "stdout",
     "output_type": "stream",
     "text": [
      "label bio values nb : 9451\n"
     ]
    }
   ],
   "source": [
    "# Create eco label column\n",
    "\n",
    "data_label = data[~data[\"labels_fr\"].isnull()]\n",
    "data[\"is_label_bio\"] = ~data_label[\"labels_fr\"].str.contains(\"biot\", na=True, case=False) & \\\n",
    "                        data_label[\"labels_fr\"].str.contains(\"bio\", na=True, case=False)\n",
    "\n",
    "print(\"label bio values nb :\", data[\"is_label_bio\"].sum())"
   ]
  },
  {
   "cell_type": "markdown",
   "id": "497e6fb7",
   "metadata": {},
   "source": [
    "## Create one packaging score column"
   ]
  },
  {
   "cell_type": "code",
   "execution_count": 88,
   "id": "1424059c",
   "metadata": {
    "ExecuteTime": {
     "end_time": "2022-02-14T10:32:53.434105Z",
     "start_time": "2022-02-14T10:32:53.032339Z"
    }
   },
   "outputs": [
    {
     "name": "stdout",
     "output_type": "stream",
     "text": [
      "<itertools.chain object at 0x7fa31c2ee730>\n"
     ]
    }
   ],
   "source": [
    "# First create one list of all the different words in packaging_tags column\n",
    "import itertools\n",
    "import re\n",
    "from collections import Counter\n",
    "\n",
    "package_data = data[pd.notnull(data[\"packaging_tags\"])][\"packaging_tags\"]\n",
    "package_data = package_data.apply(lambda x: re.split(',|-|:', x))\n",
    "print(itertools.chain.from_iterable(package_data.to_list()))\n",
    "package_words_list = list(itertools.chain.from_iterable(package_data.to_list()))\n",
    "\n",
    "package_words_list = [v.strip() for v in package_words_list]\n",
    "words_counts = Counter(package_words_list)\n",
    "\n",
    "words_counts_df = pd.DataFrame.from_dict(words_counts, \n",
    "                                       columns = [\"occurrence\"], \n",
    "                                       orient='index')\n",
    "words_counts_df.to_csv(\"packaging_word_list.csv\")"
   ]
  },
  {
   "cell_type": "code",
   "execution_count": 89,
   "id": "d90b6de7",
   "metadata": {
    "ExecuteTime": {
     "end_time": "2022-02-14T10:32:54.922382Z",
     "start_time": "2022-02-14T10:32:54.703514Z"
    }
   },
   "outputs": [
    {
     "data": {
      "image/png": "[encoded data removed]",
      "text/plain": [
       "<Figure size 720x720 with 1 Axes>"
      ]
     },
     "metadata": {
      "needs_background": "light"
     },
     "output_type": "display_data"
    }
   ],
   "source": [
    "import matplotlib.pyplot as plt\n",
    "fig, ax = plt.subplots(figsize=(10,10))\n",
    "\n",
    "# Reduce words_counts index to display\n",
    "words_counts = {k: v for k, v in words_counts.items() if v > 1000}\n",
    "words_counts =  {k: v for k, v in sorted(words_counts.items(), key=lambda item: item[1])}\n",
    "\n",
    "labels, values = zip(*words_counts.items())\n",
    "\n",
    "# Display \n",
    "ax.barh(labels, values, align='center')\n",
    "ax.tick_params(axis='x', labelsize=12)\n",
    "ax.tick_params(axis='y', labelsize=10)\n",
    "ax.set_xlabel('Count', fontsize=20)\n",
    "ax.set_title('Words count in packaging column', fontdict = {\n",
    "                             'fontsize': 20,\n",
    "                            })\n",
    "plt.sca(ax)\n",
    "plt.yticks(size=15)\n",
    "plt.xticks(size=15)\n",
    "plt.show()"
   ]
  },
  {
   "cell_type": "code",
   "execution_count": 90,
   "id": "eb51c1e1",
   "metadata": {
    "ExecuteTime": {
     "end_time": "2022-02-14T10:33:01.527067Z",
     "start_time": "2022-02-14T10:33:01.330796Z"
    }
   },
   "outputs": [
    {
     "name": "stdout",
     "output_type": "stream",
     "text": [
      "origin packaging tags nb : 43144\n",
      "resulting packaging values nb : 41504\n"
     ]
    }
   ],
   "source": [
    "# After having arrange the words of packaging_tags,\n",
    "# We decide to classify the words in 5 groups : plastique, carton, metal, verre, bois\n",
    "# We classify, directly in the csv file, the words we can according to these 5 groups\n",
    "# E.g the word 'conserve' is classified in 'metal' group\n",
    "# We then reload the packaging words table\n",
    "words_classified_df = pd.read_csv('packaging_word_list_classified.csv',\n",
    "                                  index_col=[0], sep=';')\n",
    "words_classified_df.reset_index(level=0, inplace=True)\n",
    "# Kepp only words that have an associated group\n",
    "words_classified_df = words_classified_df[pd.notnull(words_classified_df[\"equivalent to\"])]\n",
    "# Transform dataframe in dict\n",
    "words_classified_dict = dict(zip(words_classified_df[\"index\"], words_classified_df[\"equivalent to\"]))\n",
    "\n",
    "# Create eco packaging graduation dict\n",
    "# (source : https://id-champagne-ardenne.fr/quel-est-lemballage-alimentaire-le-plus-ecologique)\n",
    "carbon_coef = {\n",
    "    'plastique': 0,\n",
    "    'carton': 1,\n",
    "    'metal': 2,\n",
    "    'verre': 3,\n",
    "    'bois': 4\n",
    "}\n",
    "\n",
    "dat = pd.DataFrame.from_dict(carbon_coef, orient='index')\n",
    "dat.to_csv(\"test.csv\")\n",
    "\n",
    "# Create a dict that map words in pack_words list to carbon coef \n",
    "pack_coef = {item[0] : carbon_coef[item[1]] for item in words_classified_dict.items()}\n",
    "\n",
    "def map_pack_to_coef(string):\n",
    "    if pd.notnull(string) and isinstance(string, str):\n",
    "        liste = re.split(',|-|:', string)\n",
    "        liste_coef = [pack_coef[x] for x in liste if x in pack_coef]\n",
    "        if len(liste_coef):\n",
    "            return min(liste_coef)\n",
    "\n",
    "# Map packaging_tags column using precedent dict and create new column \n",
    "# containing the carbon coef for each articles having packaging_tags\n",
    "data['packaging_coef'] = data['packaging_tags']\\\n",
    "                            .apply(lambda string: map_pack_to_coef(string))\n",
    "\n",
    "\n",
    "print(\"origin packaging tags nb :\", (pd.notnull(data[\"packaging_tags\"])).sum())\n",
    "print(\"resulting packaging values nb :\", (pd.notnull(data[\"packaging_coef\"])).sum())"
   ]
  },
  {
   "cell_type": "markdown",
   "id": "c5291711",
   "metadata": {
    "ExecuteTime": {
     "end_time": "2022-01-24T17:04:29.789639Z",
     "start_time": "2022-01-24T17:04:29.539145Z"
    }
   },
   "source": [
    "# Create database with selected data"
   ]
  },
  {
   "cell_type": "code",
   "execution_count": 93,
   "id": "3117afe8",
   "metadata": {
    "ExecuteTime": {
     "end_time": "2022-02-14T10:36:12.714576Z",
     "start_time": "2022-02-14T10:36:11.589022Z"
    }
   },
   "outputs": [],
   "source": [
    "txt_columns = [\"product_name\"]\n",
    "\n",
    "cat_columns = [\n",
    "    \"main_category_fr\", \"main_category\",\n",
    "    \"categories_fr\", \"categories\", \"categories_tags\", \n",
    "    \"pnns_groups_1\", \"pnns_groups_2\",\n",
    "    \"countries\", \"brands\", \n",
    "]\n",
    "\n",
    "nutrition_columns = [\n",
    "    \"nutrition_grade_fr\", 'nutrition-score-fr_100g', 'nutrition-score-uk_100g',\n",
    "]\n",
    "\n",
    "quantity_columns = [\n",
    "    \"is_water\",\n",
    "    \"is_beverage\",\n",
    "    \"fat_100g\", \"saturated-fat_100g\", \"fruits-vegetables-nuts_100g\",\n",
    "    \"sugars_100g\", \"sodium_100g\", \"fiber_100g\",\n",
    "    \"energy_100g\", \"proteins_100g\",\n",
    "]\n",
    "\n",
    "created_columns = [\n",
    "    \"palm_oil_n\", \n",
    "    \"allergens_n\", \n",
    "    \"additives_n\",\n",
    "    \"is_label_bio\", \n",
    "    \"packaging_coef\",\n",
    "]\n",
    "\n",
    "data_selected = data[txt_columns + cat_columns + quantity_columns + nutrition_columns + created_columns]\n",
    "\n",
    "data_selected.to_csv(\"fr.openfoodfacts.org.products.selected.csv\")"
   ]
  },
  {
   "cell_type": "code",
   "execution_count": 94,
   "id": "7e8a7b97",
   "metadata": {
    "ExecuteTime": {
     "end_time": "2022-02-14T10:36:14.340668Z",
     "start_time": "2022-02-14T10:36:14.148483Z"
    },
    "run_control": {
     "marked": false
    }
   },
   "outputs": [
    {
     "data": {
      "image/png": "[encoded data removed]",
      "text/plain": [
       "<Figure size 720x504 with 1 Axes>"
      ]
     },
     "metadata": {
      "needs_background": "light"
     },
     "output_type": "display_data"
    }
   ],
   "source": [
    "# Display \n",
    "fig, ax = plt.subplots(figsize=(10,7))\n",
    "N = len(txt_columns+cat_columns)\n",
    "width = 0.5 \n",
    "\n",
    "ind = np.arange(N)    # the x locations for the groups\n",
    "p1 = plt.barh(ind, data_selected[txt_columns+cat_columns].count(), width, color='royalblue')\n",
    "\n",
    "plt.ylabel('Categorial column', fontsize=15)\n",
    "plt.xlabel('Count', fontsize=15)\n",
    "plt.title('Categorial data count', fontsize=20)\n",
    "plt.yticks(ind, txt_columns+cat_columns, fontsize=13)\n",
    "plt.xticks(fontsize=15)\n",
    "plt.show()"
   ]
  },
  {
   "cell_type": "code",
   "execution_count": 95,
   "id": "c5690aa4",
   "metadata": {
    "ExecuteTime": {
     "end_time": "2022-02-14T10:36:18.557569Z",
     "start_time": "2022-02-14T10:36:18.315141Z"
    }
   },
   "outputs": [
    {
     "data": {
      "image/png": "[encoded data removed]",
      "text/plain": [
       "<Figure size 720x504 with 1 Axes>"
      ]
     },
     "metadata": {
      "needs_background": "light"
     },
     "output_type": "display_data"
    }
   ],
   "source": [
    "# Display \n",
    "fig, ax = plt.subplots(figsize=(10,7))\n",
    "N = len(quantity_columns+created_columns+nutrition_columns)\n",
    "width = 0.5 \n",
    "\n",
    "ind = np.arange(N)    # the x locations for the groups\n",
    "p1 = plt.barh(ind, data_selected[quantity_columns+created_columns+nutrition_columns].count(), width, color='royalblue')\n",
    "\n",
    "plt.ylabel('Nutri/Eco column', fontsize=15)\n",
    "plt.xlabel('Count', fontsize=15)\n",
    "plt.title('Nutri/Eco data count', fontsize=20)\n",
    "plt.yticks(ind, quantity_columns+created_columns+nutrition_columns, fontsize=13)\n",
    "plt.xticks(fontsize=15)\n",
    "plt.show()"
   ]
  },
  {
   "cell_type": "code",
   "execution_count": null,
   "id": "43d15368",
   "metadata": {},
   "outputs": [],
   "source": []
  },
  {
   "cell_type": "code",
   "execution_count": null,
   "id": "a82e88ed",
   "metadata": {},
   "outputs": [],
   "source": []
  },
  {
   "cell_type": "code",
   "execution_count": null,
   "id": "b0f32ae8",
   "metadata": {},
   "outputs": [],
   "source": []
  }
 ],
 "metadata": {
  "hide_input": false,
  "kernelspec": {
   "display_name": "Python 3 (ipykernel)",
   "language": "python",
   "name": "python3"
  },
  "language_info": {
   "codemirror_mode": {
    "name": "ipython",
    "version": 3
   },
   "file_extension": ".py",
   "mimetype": "text/x-python",
   "name": "python",
   "nbconvert_exporter": "python",
   "pygments_lexer": "ipython3",
   "version": "3.9.12"
  },
  "toc": {
   "base_numbering": 1,
   "nav_menu": {},
   "number_sections": true,
   "sideBar": true,
   "skip_h1_title": false,
   "title_cell": "Table of Contents",
   "title_sidebar": "Contents",
   "toc_cell": false,
   "toc_position": {},
   "toc_section_display": true,
   "toc_window_display": false
  },
  "varInspector": {
   "cols": {
    "lenName": 16,
    "lenType": 16,
    "lenVar": 40
   },
   "kernels_config": {
    "python": {
     "delete_cmd_postfix": "",
     "delete_cmd_prefix": "del ",
     "library": "var_list.py",
     "varRefreshCmd": "print(var_dic_list())"
    },
    "r": {
     "delete_cmd_postfix": ") ",
     "delete_cmd_prefix": "rm(",
     "library": "var_list.r",
     "varRefreshCmd": "cat(var_dic_list()) "
    }
   },
   "position": {
    "height": "512px",
    "left": "1084px",
    "right": "20px",
    "top": "105px",
    "width": "566px"
   },
   "types_to_exclude": [
    "module",
    "function",
    "builtin_function_or_method",
    "instance",
    "_Feature"
   ],
   "window_display": false
  }
 },
 "nbformat": 4,
 "nbformat_minor": 5
}
