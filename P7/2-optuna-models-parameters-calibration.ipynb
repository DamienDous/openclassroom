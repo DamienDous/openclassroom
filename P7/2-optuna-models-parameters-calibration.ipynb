{
 "cells": [
  {
   "cell_type": "markdown",
   "metadata": {},
   "source": [
    "# Import the training data"
   ]
  },
  {
   "cell_type": "code",
   "execution_count": null,
   "metadata": {
    "ExecuteTime": {
     "end_time": "2022-07-13T10:47:11.463279Z",
     "start_time": "2022-07-13T10:47:00.983981Z"
    },
    "execution": {
     "iopub.execute_input": "2021-12-08T02:51:28.859392Z",
     "iopub.status.busy": "2021-12-08T02:51:28.858410Z",
     "iopub.status.idle": "2021-12-08T02:51:30.958021Z",
     "shell.execute_reply": "2021-12-08T02:51:30.956718Z",
     "shell.execute_reply.started": "2021-12-08T02:51:28.859311Z"
    }
   },
   "outputs": [],
   "source": [
    "import pandas as pd\n",
    "from sklearn.model_selection import train_test_split\n",
    "\n",
    "# The proportion split between training and validation data\n",
    "train_size = 0.75\n",
    "\n",
    "# Main table\n",
    "train = pd.read_pickle('data/global_train_data.pkl')\n",
    "\n",
    "y = train['TARGET'].values\n",
    "\n",
    "X_train, X_valid, y_train, y_valid = train_test_split(train.drop(\n",
    "    ['TARGET', 'SK_ID_CURR'], axis=1), y, stratify=y, test_size=1 - train_size, random_state=1)\n",
    "\n",
    "print('Shape of X_train:', X_train.shape)\n",
    "print('Shape of X_valid:', X_valid.shape)"
   ]
  },
  {
   "cell_type": "code",
   "execution_count": null,
   "metadata": {
    "ExecuteTime": {
     "end_time": "2022-07-13T10:48:43.246217Z",
     "start_time": "2022-07-13T10:47:13.173283Z"
    },
    "execution": {
     "iopub.execute_input": "2021-12-08T02:51:30.975527Z",
     "iopub.status.busy": "2021-12-08T02:51:30.974991Z",
     "iopub.status.idle": "2021-12-08T02:53:27.192383Z",
     "shell.execute_reply": "2021-12-08T02:53:27.191013Z",
     "shell.execute_reply.started": "2021-12-08T02:51:30.975488Z"
    }
   },
   "outputs": [],
   "source": [
    "# preprocessing steps\n",
    "from sklearn.pipeline import Pipeline\n",
    "from sklearn.impute import SimpleImputer\n",
    "from sklearn.compose import ColumnTransformer\n",
    "from sklearn.preprocessing import StandardScaler\n",
    "\n",
    "Pipe_num = Pipeline(\n",
    "    steps=[\n",
    "        # tried median, mean, constant strategies\n",
    "        ('imputer', SimpleImputer(strategy='median')),\n",
    "        ('scaler', StandardScaler())])\n",
    "\n",
    "preprocessor = ColumnTransformer(\n",
    "    transformers=[\n",
    "        ('num', Pipe_num, X_train.columns)])\n",
    "\n",
    "preprocessor.fit(train)\n",
    "X_train = preprocessor.transform(X_train)\n",
    "X_valid = preprocessor.transform(X_valid)"
   ]
  },
  {
   "cell_type": "markdown",
   "metadata": {},
   "source": [
    "# Optuna"
   ]
  },
  {
   "cell_type": "markdown",
   "metadata": {},
   "source": [
    "## Optuna study results for LGBM"
   ]
  },
  {
   "cell_type": "code",
   "execution_count": null,
   "metadata": {
    "ExecuteTime": {
     "end_time": "2022-07-13T14:34:17.381452Z",
     "start_time": "2022-07-13T14:09:48.917393Z"
    }
   },
   "outputs": [],
   "source": [
    "import optuna\n",
    "from lightgbm import LGBMClassifier\n",
    "from sklearn.metrics import roc_auc_score\n",
    "\n",
    "def objective(trial):\n",
    "\n",
    "    params = {\n",
    "        \"boosting_type\": 'gbdt',\n",
    "        \"objective\": \"binary\",\n",
    "        \"n_jobs\": -1,\n",
    "        'scale_pos_weight': 11.5,\n",
    "        'metric': 'auc',\n",
    "        # 'learning_rate': 0.02,\n",
    "        #'n_estimators': 1600,\n",
    "        #'subsample_for_bin': 200,\n",
    "        #'subsample': 0.8,\n",
    "        #'subsample_freq': 10,\n",
    "        'colsample_bytree': 0.8,\n",
    "        'reg_lambda': 30,\n",
    "        'reg_alpha': 25,\n",
    "        'min_split_gain': 0.5,\n",
    "        'min_child_weight': 1,\n",
    "        'min_child_samples': 10,\n",
    "        \"learning_rate\": trial.suggest_float(\"learning_rate\", 1e-8, 1.0, log=True),\n",
    "        \"n_estimators\": trial.suggest_int(\"n_estimators\", 10, 100000, log=True),\n",
    "        \"subsample_for_bin\": trial.suggest_int(\"subsample_for_bin\", 10, 10000, log=True),\n",
    "        \"subsample\": trial.suggest_float(\"subsample\", 0.001, 1.0, log=True),\n",
    "        \"subsample_freq\": trial.suggest_int(\"subsample_freq\", 1, 100),\n",
    "        #\"colsample_bytree\": trial.suggest_float(\"colsample_bytree\", 0.001, 1.0),\n",
    "        #\"reg_lambda\": trial.suggest_int(\"reg_lambda\", 1, 10000, log=True),\n",
    "        #\"reg_alpha\": trial.suggest_int(\"reg_alpha\", 1, 10000, log=True),\n",
    "        #\"min_split_gain\": trial.suggest_float(\"min_split_gain\", 0.001, 1.0),\n",
    "        #\"min_child_weight\": trial.suggest_float(\"min_child_weight\", 0.01, 1.0),\n",
    "        #\"min_child_samples\": trial.suggest_int(\"min_child_samples\", 1, 1000),\n",
    "    }\n",
    "\n",
    "    model = LGBMClassifier(**params)\n",
    "    model.fit(X_train, y_train)\n",
    "    accuracy = roc_auc_score(y_valid, model.predict_proba(X_valid)[:, 1])\n",
    "    return accuracy\n",
    "\n",
    "\n",
    "study = optuna.create_study(direction=\"maximize\")\n",
    "study.optimize(objective, n_trials=100, timeout=60)\n",
    "\n",
    "print(\"Number of finished trials: \", len(study.trials))\n",
    "print(\"Best trial:\")\n",
    "trial = study.best_trial\n",
    "\n",
    "print(\"  Value: {}\".format(trial.value))\n",
    "print(\"  Params: \")\n",
    "for key, value in trial.params.items():\n",
    "    print(\"    {}: {}\".format(key, value))"
   ]
  },
  {
   "cell_type": "code",
   "execution_count": null,
   "metadata": {},
   "outputs": [],
   "source": []
  }
 ],
 "metadata": {
  "kernelspec": {
   "display_name": "Python 3 (ipykernel)",
   "language": "python",
   "name": "python3"
  },
  "language_info": {
   "codemirror_mode": {
    "name": "ipython",
    "version": 3
   },
   "file_extension": ".py",
   "mimetype": "text/x-python",
   "name": "python",
   "nbconvert_exporter": "python",
   "pygments_lexer": "ipython3",
   "version": "3.9.12"
  },
  "toc": {
   "base_numbering": 1,
   "nav_menu": {},
   "number_sections": true,
   "sideBar": true,
   "skip_h1_title": false,
   "title_cell": "Table of Contents",
   "title_sidebar": "Contents",
   "toc_cell": false,
   "toc_position": {
    "height": "790px",
    "left": "41px",
    "top": "110px",
    "width": "336px"
   },
   "toc_section_display": true,
   "toc_window_display": true
  },
  "varInspector": {
   "cols": {
    "lenName": 16,
    "lenType": 16,
    "lenVar": 40
   },
   "kernels_config": {
    "python": {
     "delete_cmd_postfix": "",
     "delete_cmd_prefix": "del ",
     "library": "var_list.py",
     "varRefreshCmd": "print(var_dic_list())"
    },
    "r": {
     "delete_cmd_postfix": ") ",
     "delete_cmd_prefix": "rm(",
     "library": "var_list.r",
     "varRefreshCmd": "cat(var_dic_list()) "
    }
   },
   "position": {
    "height": "353px",
    "left": "1105px",
    "right": "20px",
    "top": "95px",
    "width": "556px"
   },
   "types_to_exclude": [
    "module",
    "function",
    "builtin_function_or_method",
    "instance",
    "_Feature"
   ],
   "window_display": false
  }
 },
 "nbformat": 4,
 "nbformat_minor": 4
}
