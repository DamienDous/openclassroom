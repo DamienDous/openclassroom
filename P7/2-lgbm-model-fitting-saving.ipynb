{
 "cells": [
  {
   "cell_type": "markdown",
   "metadata": {},
   "source": [
    "# Model creation, fitting and saving"
   ]
  },
  {
   "cell_type": "code",
   "execution_count": 1,
   "metadata": {
    "ExecuteTime": {
     "end_time": "2022-08-10T12:26:00.610065Z",
     "start_time": "2022-08-10T12:26:00.604857Z"
    }
   },
   "outputs": [],
   "source": [
    "import time\n",
    "from contextlib import contextmanager\n",
    "\n",
    "@contextmanager\n",
    "def timer(title):\n",
    "    t0 = time.time()\n",
    "    yield\n",
    "    print(\"{} - done in {:.0f}s\".format(title, time.time() - t0))"
   ]
  },
  {
   "cell_type": "code",
   "execution_count": 2,
   "metadata": {
    "ExecuteTime": {
     "end_time": "2022-08-10T12:26:03.395167Z",
     "start_time": "2022-08-10T12:26:01.169469Z"
    }
   },
   "outputs": [],
   "source": [
    "from imblearn.pipeline import make_pipeline\n",
    "from sklearn.impute import SimpleImputer\n",
    "from sklearn.preprocessing import StandardScaler\n",
    "from imblearn.over_sampling import SMOTE\n",
    "from imblearn.under_sampling import RandomUnderSampler\n",
    "import lightgbm as lgb\n",
    "from sklearn.metrics import confusion_matrix\n",
    "\n",
    "def evalerror(_y_valid, _y_pred):\n",
    "    TN, FP, FN, TP = confusion_matrix(\n",
    "        list(_y_valid), list(_y_pred), labels=[0, 1]).ravel()\n",
    "    # Sensitivity, hit rate, recall, or true positive rate\n",
    "    sensitivity = TP/(TP+FN)\n",
    "    # Overall accuracy\n",
    "    accuracy = (TP+TN)/(TP+FP+FN+TN)\n",
    "    value = sensitivity*accuracy\n",
    "    return \"error\", value, True\n",
    "\n",
    "\n",
    "def fit_classifier(_X_train, _y_train):\n",
    "\n",
    "    # Initializing the classifier\n",
    "    classifier = lgb.LGBMClassifier(\n",
    "        boosting_type='gbdt', objective='binary', max_depth=18,\n",
    "        n_jobs=-1, num_leaves=30, learning_rate=0.02, n_estimators=1600,\n",
    "        max_bin=512, subsample_for_bin=200, subsample=0.8,\n",
    "        subsample_freq=1, colsample_bytree=0.8,\n",
    "        reg_alpha=80, reg_lambda=20,\n",
    "        min_split_gain=0.5, min_child_weight=1,\n",
    "        min_child_samples=10, scale_pos_weight=11.5, num_class=1)\n",
    "\n",
    "    # Create pipeline to predict classification from data\n",
    "    pipeline = make_pipeline(\n",
    "        SimpleImputer(strategy='median'),\n",
    "        StandardScaler(),\n",
    "        SMOTE(sampling_strategy=0.2, k_neighbors=10),\n",
    "        classifier\n",
    "    )\n",
    "\n",
    "    # Fit the pipeline\n",
    "    pipeline.fit(_X_train, _y_train, lgbmclassifier__eval_metric=evalerror)\n",
    "\n",
    "    return pipeline"
   ]
  },
  {
   "cell_type": "markdown",
   "metadata": {},
   "source": [
    "# SHAP Analysis to know features importance for streamlit dashboard"
   ]
  },
  {
   "cell_type": "code",
   "execution_count": 3,
   "metadata": {
    "ExecuteTime": {
     "end_time": "2022-08-10T12:26:04.329978Z",
     "start_time": "2022-08-10T12:26:03.411733Z"
    }
   },
   "outputs": [],
   "source": [
    "import matplotlib.pyplot as plt\n",
    "import seaborn as sns\n",
    "\n",
    "# number of x most important features to show\n",
    "top_x = 10\n",
    "\n",
    "\n",
    "def get_features_importances(_pipeline, _X_train, _X_test):\n",
    "    color_list =  sns.color_palette(\"dark\", len(_X_train.columns)) \n",
    "    \n",
    "    feature_importance = _pipeline[3].feature_importances_\n",
    "    indices = np.argsort(feature_importance)\n",
    "    indices = indices[-top_x:]\n",
    "    \n",
    "    print(indices)\n",
    "\n",
    "    fig, axs = plt.subplots(1, 1, figsize=(\n",
    "        24, 8), facecolor='w', edgecolor='k')\n",
    "\n",
    "    bars = axs.barh(range(len(indices)),\n",
    "                       feature_importance[indices], color='b', align='center')\n",
    "    axs.set_title('LGBM', fontweight=\"normal\", fontsize=16)\n",
    "\n",
    "    plt.sca(axs)\n",
    "    plt.yticks(range(len(indices)), [_X_train.columns[j]\n",
    "               for j in indices], fontweight=\"normal\", fontsize=16)\n",
    "\n",
    "    # print(len(plt.gca().get_yticklabels()), len(indices))\n",
    "    for i, ticklabel in enumerate(plt.gca().get_yticklabels()):\n",
    "        ticklabel.set_color(color_list[indices[i]])\n",
    "\n",
    "    for i, bar in enumerate(bars):\n",
    "        bar.set_color(color_list[indices[i]])\n",
    "        plt.box(False)\n",
    "        \n",
    "    return _X_train.columns[indices]"
   ]
  },
  {
   "cell_type": "code",
   "execution_count": 4,
   "metadata": {
    "ExecuteTime": {
     "end_time": "2022-08-10T12:26:04.352608Z",
     "start_time": "2022-08-10T12:26:04.345941Z"
    }
   },
   "outputs": [],
   "source": [
    "def get_lime_features_importances(_pipeline, _X_train, _X_test):\n",
    "    top_x = 15\n",
    "    \n",
    "    # Create pipeline to transform data\n",
    "    pipeline = Pipeline([('imputer', SimpleImputer(strategy='median')),\n",
    "                         ('scaler', StandardScaler())])\n",
    "    X_pre = pd.DataFrame(pipeline.fit_transform(X), columns=X.columns, index=X.index)\n",
    "    \n",
    "    # Create lime explainer based on loaded data\n",
    "    lime_explainer = LimeTabularExplainer(X_pre,\n",
    "                                          feature_names=list(X_pre.columns),\n",
    "                                          class_names=set_y,\n",
    "                                          discretize_continuous=False,\n",
    "                                          kernel_width=np.sqrt(len(X_pre.columns)) * 0.75,\n",
    "                                          mode=\"classification\")\n",
    "\n",
    "    lime_explainer.save_to_file('MLflow/lime_explainer.html')\n",
    "    \n",
    "    # explain first sample from test data\n",
    "    explanation = lime_explainer.explain_instance(\n",
    "        X_pre.loc[idx], classifier.predict_proba, num_features=top_x)\n",
    "\n",
    "    # Get features importance for top_x most important features\n",
    "    features_importance = {}\n",
    "    for feat_index, ex in explanation.as_map()[1]:\n",
    "        features_importance[list(X_pre.columns)[feat_index]] = ex\n",
    "        \n",
    "    return features_importance"
   ]
  },
  {
   "cell_type": "markdown",
   "metadata": {},
   "source": [
    "# MAIN"
   ]
  },
  {
   "cell_type": "code",
   "execution_count": 5,
   "metadata": {
    "ExecuteTime": {
     "end_time": "2022-08-10T12:26:08.267272Z",
     "start_time": "2022-08-10T12:26:08.264398Z"
    }
   },
   "outputs": [],
   "source": [
    "data_file = 'data/global_train_data.pkl'\n",
    "pipeline_file = 'pipeline_home_credit.joblib'"
   ]
  },
  {
   "cell_type": "code",
   "execution_count": 16,
   "metadata": {
    "ExecuteTime": {
     "end_time": "2022-08-10T15:25:04.283461Z",
     "start_time": "2022-08-10T15:24:25.677502Z"
    }
   },
   "outputs": [
    {
     "name": "stdout",
     "output_type": "stream",
     "text": [
      "Load and split data - done in 4s\n",
      "score: 0.4301348118811882\n",
      "Process and save classifier pipeline - done in 35s\n"
     ]
    }
   ],
   "source": [
    "import pandas as pd\n",
    "import joblib\n",
    "from sklearn.model_selection import train_test_split\n",
    "\n",
    "def main(features=True, debug=False):\n",
    "    \n",
    "    with timer(\"Load and split data\"):\n",
    "        data = pd.read_pickle(data_file).sample(\n",
    "            50000) if debug else pd.read_pickle(data_file)\n",
    "\n",
    "        # Get X and y value from data\n",
    "        X = data.drop(['TARGET', 'SK_ID_CURR'], axis=1)\n",
    "        y = data['TARGET']\n",
    "\n",
    "        # Create train, test data\n",
    "        X_train, X_test, y_train, y_test = train_test_split(\n",
    "            X, y, stratify=y, test_size=0.25, random_state=1)\n",
    "    \n",
    "    with timer(\"Process and save classifier pipeline\"):\n",
    "        # Process and save pipeline\n",
    "        pipeline = fit_classifier(X_train, y_train)\n",
    "        joblib.dump(pipeline, pipeline_file)\n",
    "        # Get score for predicted value\n",
    "        print('score:', evalerror(y_test, pipeline.predict(X_test))[1])\n",
    "\n",
    "if __name__ == \"__main__\":\n",
    "    with timer(\"Full model run\"):\n",
    "        main(debug=True)"
   ]
  },
  {
   "cell_type": "markdown",
   "metadata": {},
   "source": [
    " # SHAP"
   ]
  },
  {
   "cell_type": "code",
   "execution_count": 5,
   "metadata": {
    "ExecuteTime": {
     "end_time": "2022-07-28T08:42:17.765429Z",
     "start_time": "2022-07-28T08:42:03.280068Z"
    }
   },
   "outputs": [
    {
     "name": "stdout",
     "output_type": "stream",
     "text": [
      "Load and preprocess - done in 14s\n"
     ]
    }
   ],
   "source": [
    "import pandas as pd\n",
    "import joblib\n",
    "\n",
    "data_file = 'data/global_train_data.pkl'\n",
    "pipeline_file = 'pipeline_home_credit.joblib'\n",
    "\n",
    "with timer(\"Load and preprocess\"):\n",
    "    # Read data\n",
    "    data = pd.read_pickle(data_file)\n",
    "\n",
    "    # Get X and y value from data\n",
    "    X = data.drop(['TARGET', 'SK_ID_CURR'], axis=1)\n",
    "\n",
    "    # Load pipeline\n",
    "    pipeline = joblib.load(pipeline_file)\n",
    "\n",
    "    # Get pipeline SimpleImputer and StandardScaler\n",
    "    imputer = pipeline[0]\n",
    "    scaler = pipeline[1]\n",
    "\n",
    "    # Transform X to have data for input of classifier\n",
    "    impute_data = imputer.transform(X)\n",
    "    scaled_data = scaler.transform(impute_data)\n",
    "    scaled_data_df = pd.DataFrame(scaled_data, columns=X.columns, index=data['SK_ID_CURR'])\n",
    "\n",
    "    # Get lgbm classifier\n",
    "    clf = pipeline[3]"
   ]
  },
  {
   "cell_type": "code",
   "execution_count": 9,
   "metadata": {
    "ExecuteTime": {
     "end_time": "2022-07-28T08:45:23.642013Z",
     "start_time": "2022-07-28T08:45:19.553894Z"
    }
   },
   "outputs": [
    {
     "data": {
      "text/html": [
       "\n",
       "<div id='i9UHBAF7W70BAWYQXOPUT'>\n",
       "<div style='color: #900; text-align: center;'>\n",
       "  <b>Visualization omitted, Javascript library not loaded!</b><br>\n",
       "  Have you run `initjs()` in this notebook? If this notebook was from another\n",
       "  user you must also trust this notebook (File -> Trust notebook). If you are viewing\n",
       "  this notebook on github the Javascript has been stripped for security. If you are using\n",
       "  JupyterLab this error is because a JupyterLab extension has not yet been written.\n",
       "</div></div>\n",
       " <script>\n",
       "   if (window.SHAP) SHAP.ReactDom.render(\n",
       "    SHAP.React.createElement(SHAP.AdditiveForceVisualizer, {\"outNames\": [\"f(x)\"], \"baseValue\": -0.5348154178691571, \"outValue\": 1.8117415136652921, \"link\": \"identity\", \"featureNames\": [\"CODE_GENDER\", \"FLAG_OWN_CAR\", \"FLAG_OWN_REALTY\", \"CNT_CHILDREN\", \"AMT_INCOME_TOTAL\", \"AMT_CREDIT\", \"AMT_ANNUITY\", \"AMT_GOODS_PRICE\", \"REGION_POPULATION_RELATIVE\", \"DAYS_BIRTH\", \"DAYS_EMPLOYED\", \"DAYS_REGISTRATION\", \"DAYS_ID_PUBLISH\", \"OWN_CAR_AGE\", \"FLAG_MOBIL\", \"FLAG_EMP_PHONE\", \"FLAG_WORK_PHONE\", \"FLAG_CONT_MOBILE\", \"FLAG_PHONE\", \"FLAG_EMAIL\", \"CNT_FAM_MEMBERS\", \"REGION_RATING_CLIENT\", \"REGION_RATING_CLIENT_W_CITY\", \"HOUR_APPR_PROCESS_START\", \"REG_REGION_NOT_LIVE_REGION\", \"REG_REGION_NOT_WORK_REGION\", \"LIVE_REGION_NOT_WORK_REGION\", \"REG_CITY_NOT_LIVE_CITY\", \"REG_CITY_NOT_WORK_CITY\", \"LIVE_CITY_NOT_WORK_CITY\", \"EXT_SOURCE_1\", \"EXT_SOURCE_2\", \"EXT_SOURCE_3\", \"APARTMENTS_AVG\", \"BASEMENTAREA_AVG\", \"YEARS_BEGINEXPLUATATION_AVG\", \"YEARS_BUILD_AVG\", \"COMMONAREA_AVG\", \"ELEVATORS_AVG\", \"ENTRANCES_AVG\", \"FLOORSMAX_AVG\", \"FLOORSMIN_AVG\", \"LANDAREA_AVG\", \"LIVINGAPARTMENTS_AVG\", \"LIVINGAREA_AVG\", \"NONLIVINGAPARTMENTS_AVG\", \"NONLIVINGAREA_AVG\", \"APARTMENTS_MODE\", \"BASEMENTAREA_MODE\", \"YEARS_BEGINEXPLUATATION_MODE\", \"YEARS_BUILD_MODE\", \"COMMONAREA_MODE\", \"ELEVATORS_MODE\", \"ENTRANCES_MODE\", \"FLOORSMAX_MODE\", \"FLOORSMIN_MODE\", \"LANDAREA_MODE\", \"LIVINGAPARTMENTS_MODE\", \"LIVINGAREA_MODE\", \"NONLIVINGAPARTMENTS_MODE\", \"NONLIVINGAREA_MODE\", \"APARTMENTS_MEDI\", \"BASEMENTAREA_MEDI\", \"YEARS_BEGINEXPLUATATION_MEDI\", \"YEARS_BUILD_MEDI\", \"COMMONAREA_MEDI\", \"ELEVATORS_MEDI\", \"ENTRANCES_MEDI\", \"FLOORSMAX_MEDI\", \"FLOORSMIN_MEDI\", \"LANDAREA_MEDI\", \"LIVINGAPARTMENTS_MEDI\", \"LIVINGAREA_MEDI\", \"NONLIVINGAPARTMENTS_MEDI\", \"NONLIVINGAREA_MEDI\", \"TOTALAREA_MODE\", \"OBS_30_CNT_SOCIAL_CIRCLE\", \"DEF_30_CNT_SOCIAL_CIRCLE\", \"OBS_60_CNT_SOCIAL_CIRCLE\", \"DEF_60_CNT_SOCIAL_CIRCLE\", \"DAYS_LAST_PHONE_CHANGE\", \"FLAG_DOCUMENT_2\", \"FLAG_DOCUMENT_3\", \"FLAG_DOCUMENT_4\", \"FLAG_DOCUMENT_5\", \"FLAG_DOCUMENT_6\", \"FLAG_DOCUMENT_7\", \"FLAG_DOCUMENT_8\", \"FLAG_DOCUMENT_9\", \"FLAG_DOCUMENT_10\", \"FLAG_DOCUMENT_11\", \"FLAG_DOCUMENT_12\", \"FLAG_DOCUMENT_13\", \"FLAG_DOCUMENT_14\", \"FLAG_DOCUMENT_15\", \"FLAG_DOCUMENT_16\", \"FLAG_DOCUMENT_17\", \"FLAG_DOCUMENT_18\", \"FLAG_DOCUMENT_19\", \"FLAG_DOCUMENT_20\", \"FLAG_DOCUMENT_21\", \"AMT_REQ_CREDIT_BUREAU_HOUR\", \"AMT_REQ_CREDIT_BUREAU_DAY\", \"AMT_REQ_CREDIT_BUREAU_WEEK\", \"AMT_REQ_CREDIT_BUREAU_MON\", \"AMT_REQ_CREDIT_BUREAU_QRT\", \"AMT_REQ_CREDIT_BUREAU_YEAR\", \"NAME_CONTRACT_TYPE_Cashloans\", \"NAME_CONTRACT_TYPE_Revolvingloans\", \"NAME_TYPE_SUITE_Children\", \"NAME_TYPE_SUITE_Family\", \"NAME_TYPE_SUITE_Groupofpeople\", \"NAME_TYPE_SUITE_Other_A\", \"NAME_TYPE_SUITE_Other_B\", \"NAME_TYPE_SUITE_Spousepartner\", \"NAME_TYPE_SUITE_Unaccompanied\", \"NAME_INCOME_TYPE_Businessman\", \"NAME_INCOME_TYPE_Commercialassociate\", \"NAME_INCOME_TYPE_Maternityleave\", \"NAME_INCOME_TYPE_Pensioner\", \"NAME_INCOME_TYPE_Stateservant\", \"NAME_INCOME_TYPE_Student\", \"NAME_INCOME_TYPE_Unemployed\", \"NAME_INCOME_TYPE_Working\", \"NAME_EDUCATION_TYPE_Academicdegree\", \"NAME_EDUCATION_TYPE_Highereducation\", \"NAME_EDUCATION_TYPE_Incompletehigher\", \"NAME_EDUCATION_TYPE_Lowersecondary\", \"NAME_EDUCATION_TYPE_Secondarysecondaryspecial\", \"NAME_FAMILY_STATUS_Civilmarriage\", \"NAME_FAMILY_STATUS_Married\", \"NAME_FAMILY_STATUS_Separated\", \"NAME_FAMILY_STATUS_Singlenotmarried\", \"NAME_FAMILY_STATUS_Unknown\", \"NAME_FAMILY_STATUS_Widow\", \"NAME_HOUSING_TYPE_Coopapartment\", \"NAME_HOUSING_TYPE_Houseapartment\", \"NAME_HOUSING_TYPE_Municipalapartment\", \"NAME_HOUSING_TYPE_Officeapartment\", \"NAME_HOUSING_TYPE_Rentedapartment\", \"NAME_HOUSING_TYPE_Withparents\", \"OCCUPATION_TYPE_Accountants\", \"OCCUPATION_TYPE_Cleaningstaff\", \"OCCUPATION_TYPE_Cookingstaff\", \"OCCUPATION_TYPE_Corestaff\", \"OCCUPATION_TYPE_Drivers\", \"OCCUPATION_TYPE_HRstaff\", \"OCCUPATION_TYPE_Highskilltechstaff\", \"OCCUPATION_TYPE_ITstaff\", \"OCCUPATION_TYPE_Laborers\", \"OCCUPATION_TYPE_LowskillLaborers\", \"OCCUPATION_TYPE_Managers\", \"OCCUPATION_TYPE_Medicinestaff\", \"OCCUPATION_TYPE_Privateservicestaff\", \"OCCUPATION_TYPE_Realtyagents\", \"OCCUPATION_TYPE_Salesstaff\", \"OCCUPATION_TYPE_Secretaries\", \"OCCUPATION_TYPE_Securitystaff\", \"OCCUPATION_TYPE_Waitersbarmenstaff\", \"WEEKDAY_APPR_PROCESS_START_FRIDAY\", \"WEEKDAY_APPR_PROCESS_START_MONDAY\", \"WEEKDAY_APPR_PROCESS_START_SATURDAY\", \"WEEKDAY_APPR_PROCESS_START_SUNDAY\", \"WEEKDAY_APPR_PROCESS_START_THURSDAY\", \"WEEKDAY_APPR_PROCESS_START_TUESDAY\", \"WEEKDAY_APPR_PROCESS_START_WEDNESDAY\", \"ORGANIZATION_TYPE_Advertising\", \"ORGANIZATION_TYPE_Agriculture\", \"ORGANIZATION_TYPE_Bank\", \"ORGANIZATION_TYPE_BusinessEntityType1\", \"ORGANIZATION_TYPE_BusinessEntityType2\", \"ORGANIZATION_TYPE_BusinessEntityType3\", \"ORGANIZATION_TYPE_Cleaning\", \"ORGANIZATION_TYPE_Construction\", \"ORGANIZATION_TYPE_Culture\", \"ORGANIZATION_TYPE_Electricity\", \"ORGANIZATION_TYPE_Emergency\", \"ORGANIZATION_TYPE_Government\", \"ORGANIZATION_TYPE_Hotel\", \"ORGANIZATION_TYPE_Housing\", \"ORGANIZATION_TYPE_Industrytype1\", \"ORGANIZATION_TYPE_Industrytype10\", \"ORGANIZATION_TYPE_Industrytype11\", \"ORGANIZATION_TYPE_Industrytype12\", \"ORGANIZATION_TYPE_Industrytype13\", \"ORGANIZATION_TYPE_Industrytype2\", \"ORGANIZATION_TYPE_Industrytype3\", \"ORGANIZATION_TYPE_Industrytype4\", \"ORGANIZATION_TYPE_Industrytype5\", \"ORGANIZATION_TYPE_Industrytype6\", \"ORGANIZATION_TYPE_Industrytype7\", \"ORGANIZATION_TYPE_Industrytype8\", \"ORGANIZATION_TYPE_Industrytype9\", \"ORGANIZATION_TYPE_Insurance\", \"ORGANIZATION_TYPE_Kindergarten\", \"ORGANIZATION_TYPE_LegalServices\", \"ORGANIZATION_TYPE_Medicine\", \"ORGANIZATION_TYPE_Military\", \"ORGANIZATION_TYPE_Mobile\", \"ORGANIZATION_TYPE_Other\", \"ORGANIZATION_TYPE_Police\", \"ORGANIZATION_TYPE_Postal\", \"ORGANIZATION_TYPE_Realtor\", \"ORGANIZATION_TYPE_Religion\", \"ORGANIZATION_TYPE_Restaurant\", \"ORGANIZATION_TYPE_School\", \"ORGANIZATION_TYPE_Security\", \"ORGANIZATION_TYPE_SecurityMinistries\", \"ORGANIZATION_TYPE_Selfemployed\", \"ORGANIZATION_TYPE_Services\", \"ORGANIZATION_TYPE_Telecom\", \"ORGANIZATION_TYPE_Tradetype1\", \"ORGANIZATION_TYPE_Tradetype2\", \"ORGANIZATION_TYPE_Tradetype3\", \"ORGANIZATION_TYPE_Tradetype4\", \"ORGANIZATION_TYPE_Tradetype5\", \"ORGANIZATION_TYPE_Tradetype6\", \"ORGANIZATION_TYPE_Tradetype7\", \"ORGANIZATION_TYPE_Transporttype1\", \"ORGANIZATION_TYPE_Transporttype2\", \"ORGANIZATION_TYPE_Transporttype3\", \"ORGANIZATION_TYPE_Transporttype4\", \"ORGANIZATION_TYPE_University\", \"ORGANIZATION_TYPE_XNA\", \"FONDKAPREMONT_MODE_notspecified\", \"FONDKAPREMONT_MODE_orgspecaccount\", \"FONDKAPREMONT_MODE_regoperaccount\", \"FONDKAPREMONT_MODE_regoperspecaccount\", \"HOUSETYPE_MODE_blockofflats\", \"HOUSETYPE_MODE_specifichousing\", \"HOUSETYPE_MODE_terracedhouse\", \"WALLSMATERIAL_MODE_Block\", \"WALLSMATERIAL_MODE_Mixed\", \"WALLSMATERIAL_MODE_Monolithic\", \"WALLSMATERIAL_MODE_Others\", \"WALLSMATERIAL_MODE_Panel\", \"WALLSMATERIAL_MODE_Stonebrick\", \"WALLSMATERIAL_MODE_Wooden\", \"EMERGENCYSTATE_MODE_No\", \"EMERGENCYSTATE_MODE_Yes\", \"DAYS_EMPLOYED_PERC\", \"INCOME_CREDIT_PERC\", \"INCOME_PER_PERSON\", \"ANNUITY_INCOME_PERC\", \"PAYMENT_RATE\", \"BURO_DAYS_CREDIT_MIN\", \"BURO_DAYS_CREDIT_MAX\", \"BURO_DAYS_CREDIT_MEAN\", \"BURO_DAYS_CREDIT_VAR\", \"BURO_DAYS_CREDIT_ENDDATE_MIN\", \"BURO_DAYS_CREDIT_ENDDATE_MAX\", \"BURO_DAYS_CREDIT_ENDDATE_MEAN\", \"BURO_DAYS_CREDIT_UPDATE_MEAN\", \"BURO_CREDIT_DAY_OVERDUE_MAX\", \"BURO_CREDIT_DAY_OVERDUE_MEAN\", \"BURO_AMT_CREDIT_MAX_OVERDUE_MEAN\", \"BURO_AMT_CREDIT_SUM_MAX\", \"BURO_AMT_CREDIT_SUM_MEAN\", \"BURO_AMT_CREDIT_SUM_SUM\", \"BURO_AMT_CREDIT_SUM_DEBT_MAX\", \"BURO_AMT_CREDIT_SUM_DEBT_MEAN\", \"BURO_AMT_CREDIT_SUM_DEBT_SUM\", \"BURO_AMT_CREDIT_SUM_OVERDUE_MEAN\", \"BURO_AMT_CREDIT_SUM_LIMIT_MEAN\", \"BURO_AMT_CREDIT_SUM_LIMIT_SUM\", \"BURO_AMT_ANNUITY_MAX\", \"BURO_AMT_ANNUITY_MEAN\", \"BURO_CNT_CREDIT_PROLONG_SUM\", \"BURO_MONTHS_BALANCE_MIN_MIN\", \"BURO_MONTHS_BALANCE_MAX_MAX\", \"BURO_MONTHS_BALANCE_SIZE_MEAN\", \"BURO_MONTHS_BALANCE_SIZE_SUM\", \"BURO_CREDIT_ACTIVE_Active_MEAN\", \"BURO_CREDIT_ACTIVE_Baddebt_MEAN\", \"BURO_CREDIT_ACTIVE_Closed_MEAN\", \"BURO_CREDIT_ACTIVE_Sold_MEAN\", \"BURO_CREDIT_ACTIVE_nan_MEAN\", \"BURO_CREDIT_CURRENCY_currency1_MEAN\", \"BURO_CREDIT_CURRENCY_currency2_MEAN\", \"BURO_CREDIT_CURRENCY_currency3_MEAN\", \"BURO_CREDIT_CURRENCY_currency4_MEAN\", \"BURO_CREDIT_CURRENCY_nan_MEAN\", \"BURO_CREDIT_TYPE_Anothertypeofloan_MEAN\", \"BURO_CREDIT_TYPE_Carloan_MEAN\", \"BURO_CREDIT_TYPE_Cashloannonearmarked_MEAN\", \"BURO_CREDIT_TYPE_Consumercredit_MEAN\", \"BURO_CREDIT_TYPE_Creditcard_MEAN\", \"BURO_CREDIT_TYPE_Interbankcredit_MEAN\", \"BURO_CREDIT_TYPE_Loanforbusinessdevelopment_MEAN\", \"BURO_CREDIT_TYPE_Loanforpurchaseofsharesmarginlending_MEAN\", \"BURO_CREDIT_TYPE_Loanforthepurchaseofequipment_MEAN\", \"BURO_CREDIT_TYPE_Loanforworkingcapitalreplenishment_MEAN\", \"BURO_CREDIT_TYPE_Microloan_MEAN\", \"BURO_CREDIT_TYPE_Mobileoperatorloan_MEAN\", \"BURO_CREDIT_TYPE_Mortgage_MEAN\", \"BURO_CREDIT_TYPE_Realestateloan_MEAN\", \"BURO_CREDIT_TYPE_Unknowntypeofloan_MEAN\", \"BURO_CREDIT_TYPE_nan_MEAN\", \"BURO_STATUS_0_MEAN_MEAN\", \"BURO_STATUS_1_MEAN_MEAN\", \"BURO_STATUS_2_MEAN_MEAN\", \"BURO_STATUS_3_MEAN_MEAN\", \"BURO_STATUS_4_MEAN_MEAN\", \"BURO_STATUS_5_MEAN_MEAN\", \"BURO_STATUS_C_MEAN_MEAN\", \"BURO_STATUS_X_MEAN_MEAN\", \"BURO_STATUS_nan_MEAN_MEAN\", \"ACTIVE_DAYS_CREDIT_MIN\", \"ACTIVE_DAYS_CREDIT_MAX\", \"ACTIVE_DAYS_CREDIT_MEAN\", \"ACTIVE_DAYS_CREDIT_VAR\", \"ACTIVE_DAYS_CREDIT_ENDDATE_MIN\", \"ACTIVE_DAYS_CREDIT_ENDDATE_MAX\", \"ACTIVE_DAYS_CREDIT_ENDDATE_MEAN\", \"ACTIVE_DAYS_CREDIT_UPDATE_MEAN\", \"ACTIVE_CREDIT_DAY_OVERDUE_MAX\", \"ACTIVE_CREDIT_DAY_OVERDUE_MEAN\", \"ACTIVE_AMT_CREDIT_MAX_OVERDUE_MEAN\", \"ACTIVE_AMT_CREDIT_SUM_MAX\", \"ACTIVE_AMT_CREDIT_SUM_MEAN\", \"ACTIVE_AMT_CREDIT_SUM_SUM\", \"ACTIVE_AMT_CREDIT_SUM_DEBT_MAX\", \"ACTIVE_AMT_CREDIT_SUM_DEBT_MEAN\", \"ACTIVE_AMT_CREDIT_SUM_DEBT_SUM\", \"ACTIVE_AMT_CREDIT_SUM_OVERDUE_MEAN\", \"ACTIVE_AMT_CREDIT_SUM_LIMIT_MEAN\", \"ACTIVE_AMT_CREDIT_SUM_LIMIT_SUM\", \"ACTIVE_AMT_ANNUITY_MAX\", \"ACTIVE_AMT_ANNUITY_MEAN\", \"ACTIVE_CNT_CREDIT_PROLONG_SUM\", \"ACTIVE_MONTHS_BALANCE_MIN_MIN\", \"ACTIVE_MONTHS_BALANCE_MAX_MAX\", \"ACTIVE_MONTHS_BALANCE_SIZE_MEAN\", \"ACTIVE_MONTHS_BALANCE_SIZE_SUM\", \"CLOSED_DAYS_CREDIT_MIN\", \"CLOSED_DAYS_CREDIT_MAX\", \"CLOSED_DAYS_CREDIT_MEAN\", \"CLOSED_DAYS_CREDIT_VAR\", \"CLOSED_DAYS_CREDIT_ENDDATE_MIN\", \"CLOSED_DAYS_CREDIT_ENDDATE_MAX\", \"CLOSED_DAYS_CREDIT_ENDDATE_MEAN\", \"CLOSED_DAYS_CREDIT_UPDATE_MEAN\", \"CLOSED_CREDIT_DAY_OVERDUE_MAX\", \"CLOSED_CREDIT_DAY_OVERDUE_MEAN\", \"CLOSED_AMT_CREDIT_MAX_OVERDUE_MEAN\", \"CLOSED_AMT_CREDIT_SUM_MAX\", \"CLOSED_AMT_CREDIT_SUM_MEAN\", \"CLOSED_AMT_CREDIT_SUM_SUM\", \"CLOSED_AMT_CREDIT_SUM_DEBT_MAX\", \"CLOSED_AMT_CREDIT_SUM_DEBT_MEAN\", \"CLOSED_AMT_CREDIT_SUM_DEBT_SUM\", \"CLOSED_AMT_CREDIT_SUM_OVERDUE_MEAN\", \"CLOSED_AMT_CREDIT_SUM_LIMIT_MEAN\", \"CLOSED_AMT_CREDIT_SUM_LIMIT_SUM\", \"CLOSED_AMT_ANNUITY_MAX\", \"CLOSED_AMT_ANNUITY_MEAN\", \"CLOSED_CNT_CREDIT_PROLONG_SUM\", \"CLOSED_MONTHS_BALANCE_MIN_MIN\", \"CLOSED_MONTHS_BALANCE_MAX_MAX\", \"CLOSED_MONTHS_BALANCE_SIZE_MEAN\", \"CLOSED_MONTHS_BALANCE_SIZE_SUM\", \"PREV_AMT_ANNUITY_MIN\", \"PREV_AMT_ANNUITY_MAX\", \"PREV_AMT_ANNUITY_MEAN\", \"PREV_AMT_APPLICATION_MIN\", \"PREV_AMT_APPLICATION_MAX\", \"PREV_AMT_APPLICATION_MEAN\", \"PREV_AMT_CREDIT_MIN\", \"PREV_AMT_CREDIT_MAX\", \"PREV_AMT_CREDIT_MEAN\", \"PREV_APP_CREDIT_PERC_MIN\", \"PREV_APP_CREDIT_PERC_MAX\", \"PREV_APP_CREDIT_PERC_MEAN\", \"PREV_APP_CREDIT_PERC_VAR\", \"PREV_AMT_DOWN_PAYMENT_MIN\", \"PREV_AMT_DOWN_PAYMENT_MAX\", \"PREV_AMT_DOWN_PAYMENT_MEAN\", \"PREV_AMT_GOODS_PRICE_MIN\", \"PREV_AMT_GOODS_PRICE_MAX\", \"PREV_AMT_GOODS_PRICE_MEAN\", \"PREV_HOUR_APPR_PROCESS_START_MIN\", \"PREV_HOUR_APPR_PROCESS_START_MAX\", \"PREV_HOUR_APPR_PROCESS_START_MEAN\", \"PREV_RATE_DOWN_PAYMENT_MIN\", \"PREV_RATE_DOWN_PAYMENT_MAX\", \"PREV_RATE_DOWN_PAYMENT_MEAN\", \"PREV_DAYS_DECISION_MIN\", \"PREV_DAYS_DECISION_MAX\", \"PREV_DAYS_DECISION_MEAN\", \"PREV_CNT_PAYMENT_MEAN\", \"PREV_CNT_PAYMENT_SUM\", \"PREV_NAME_CONTRACT_TYPE_Cashloans_MEAN\", \"PREV_NAME_CONTRACT_TYPE_Consumerloans_MEAN\", \"PREV_NAME_CONTRACT_TYPE_Revolvingloans_MEAN\", \"PREV_NAME_CONTRACT_TYPE_XNA_MEAN\", \"PREV_NAME_CONTRACT_TYPE_nan_MEAN\", \"PREV_WEEKDAY_APPR_PROCESS_START_FRIDAY_MEAN\", \"PREV_WEEKDAY_APPR_PROCESS_START_MONDAY_MEAN\", \"PREV_WEEKDAY_APPR_PROCESS_START_SATURDAY_MEAN\", \"PREV_WEEKDAY_APPR_PROCESS_START_SUNDAY_MEAN\", \"PREV_WEEKDAY_APPR_PROCESS_START_THURSDAY_MEAN\", \"PREV_WEEKDAY_APPR_PROCESS_START_TUESDAY_MEAN\", \"PREV_WEEKDAY_APPR_PROCESS_START_WEDNESDAY_MEAN\", \"PREV_WEEKDAY_APPR_PROCESS_START_nan_MEAN\", \"PREV_FLAG_LAST_APPL_PER_CONTRACT_N_MEAN\", \"PREV_FLAG_LAST_APPL_PER_CONTRACT_Y_MEAN\", \"PREV_FLAG_LAST_APPL_PER_CONTRACT_nan_MEAN\", \"PREV_NAME_CASH_LOAN_PURPOSE_Buildingahouseoranannex_MEAN\", \"PREV_NAME_CASH_LOAN_PURPOSE_Businessdevelopment_MEAN\", \"PREV_NAME_CASH_LOAN_PURPOSE_Buyingagarage_MEAN\", \"PREV_NAME_CASH_LOAN_PURPOSE_Buyingaholidayhomeland_MEAN\", \"PREV_NAME_CASH_LOAN_PURPOSE_Buyingahome_MEAN\", \"PREV_NAME_CASH_LOAN_PURPOSE_Buyinganewcar_MEAN\", \"PREV_NAME_CASH_LOAN_PURPOSE_Buyingausedcar_MEAN\", \"PREV_NAME_CASH_LOAN_PURPOSE_Carrepairs_MEAN\", \"PREV_NAME_CASH_LOAN_PURPOSE_Education_MEAN\", \"PREV_NAME_CASH_LOAN_PURPOSE_Everydayexpenses_MEAN\", \"PREV_NAME_CASH_LOAN_PURPOSE_Furniture_MEAN\", \"PREV_NAME_CASH_LOAN_PURPOSE_Gasificationwatersupply_MEAN\", \"PREV_NAME_CASH_LOAN_PURPOSE_Hobby_MEAN\", \"PREV_NAME_CASH_LOAN_PURPOSE_Journey_MEAN\", \"PREV_NAME_CASH_LOAN_PURPOSE_Medicine_MEAN\", \"PREV_NAME_CASH_LOAN_PURPOSE_Moneyforathirdperson_MEAN\", \"PREV_NAME_CASH_LOAN_PURPOSE_Other_MEAN\", \"PREV_NAME_CASH_LOAN_PURPOSE_Paymentsonotherloans_MEAN\", \"PREV_NAME_CASH_LOAN_PURPOSE_Purchaseofelectronicequipment_MEAN\", \"PREV_NAME_CASH_LOAN_PURPOSE_Refusaltonamethegoal_MEAN\", \"PREV_NAME_CASH_LOAN_PURPOSE_Repairs_MEAN\", \"PREV_NAME_CASH_LOAN_PURPOSE_Urgentneeds_MEAN\", \"PREV_NAME_CASH_LOAN_PURPOSE_Weddinggiftholiday_MEAN\", \"PREV_NAME_CASH_LOAN_PURPOSE_XAP_MEAN\", \"PREV_NAME_CASH_LOAN_PURPOSE_XNA_MEAN\", \"PREV_NAME_CASH_LOAN_PURPOSE_nan_MEAN\", \"PREV_NAME_CONTRACT_STATUS_Approved_MEAN\", \"PREV_NAME_CONTRACT_STATUS_Canceled_MEAN\", \"PREV_NAME_CONTRACT_STATUS_Refused_MEAN\", \"PREV_NAME_CONTRACT_STATUS_Unusedoffer_MEAN\", \"PREV_NAME_CONTRACT_STATUS_nan_MEAN\", \"PREV_NAME_PAYMENT_TYPE_Cashthroughthebank_MEAN\", \"PREV_NAME_PAYMENT_TYPE_Cashlessfromtheaccountoftheemployer_MEAN\", \"PREV_NAME_PAYMENT_TYPE_Noncashfromyouraccount_MEAN\", \"PREV_NAME_PAYMENT_TYPE_XNA_MEAN\", \"PREV_NAME_PAYMENT_TYPE_nan_MEAN\", \"PREV_CODE_REJECT_REASON_CLIENT_MEAN\", \"PREV_CODE_REJECT_REASON_HC_MEAN\", \"PREV_CODE_REJECT_REASON_LIMIT_MEAN\", \"PREV_CODE_REJECT_REASON_SCO_MEAN\", \"PREV_CODE_REJECT_REASON_SCOFR_MEAN\", \"PREV_CODE_REJECT_REASON_SYSTEM_MEAN\", \"PREV_CODE_REJECT_REASON_VERIF_MEAN\", \"PREV_CODE_REJECT_REASON_XAP_MEAN\", \"PREV_CODE_REJECT_REASON_XNA_MEAN\", \"PREV_CODE_REJECT_REASON_nan_MEAN\", \"PREV_NAME_TYPE_SUITE_Children_MEAN\", \"PREV_NAME_TYPE_SUITE_Family_MEAN\", \"PREV_NAME_TYPE_SUITE_Groupofpeople_MEAN\", \"PREV_NAME_TYPE_SUITE_Other_A_MEAN\", \"PREV_NAME_TYPE_SUITE_Other_B_MEAN\", \"PREV_NAME_TYPE_SUITE_Spousepartner_MEAN\", \"PREV_NAME_TYPE_SUITE_Unaccompanied_MEAN\", \"PREV_NAME_TYPE_SUITE_nan_MEAN\", \"PREV_NAME_CLIENT_TYPE_New_MEAN\", \"PREV_NAME_CLIENT_TYPE_Refreshed_MEAN\", \"PREV_NAME_CLIENT_TYPE_Repeater_MEAN\", \"PREV_NAME_CLIENT_TYPE_XNA_MEAN\", \"PREV_NAME_CLIENT_TYPE_nan_MEAN\", \"PREV_NAME_GOODS_CATEGORY_AdditionalService_MEAN\", \"PREV_NAME_GOODS_CATEGORY_Animals_MEAN\", \"PREV_NAME_GOODS_CATEGORY_AudioVideo_MEAN\", \"PREV_NAME_GOODS_CATEGORY_AutoAccessories_MEAN\", \"PREV_NAME_GOODS_CATEGORY_ClothingandAccessories_MEAN\", \"PREV_NAME_GOODS_CATEGORY_Computers_MEAN\", \"PREV_NAME_GOODS_CATEGORY_ConstructionMaterials_MEAN\", \"PREV_NAME_GOODS_CATEGORY_ConsumerElectronics_MEAN\", \"PREV_NAME_GOODS_CATEGORY_DirectSales_MEAN\", \"PREV_NAME_GOODS_CATEGORY_Education_MEAN\", \"PREV_NAME_GOODS_CATEGORY_Fitness_MEAN\", \"PREV_NAME_GOODS_CATEGORY_Furniture_MEAN\", \"PREV_NAME_GOODS_CATEGORY_Gardening_MEAN\", \"PREV_NAME_GOODS_CATEGORY_Homewares_MEAN\", \"PREV_NAME_GOODS_CATEGORY_HouseConstruction_MEAN\", \"PREV_NAME_GOODS_CATEGORY_Insurance_MEAN\", \"PREV_NAME_GOODS_CATEGORY_Jewelry_MEAN\", \"PREV_NAME_GOODS_CATEGORY_MedicalSupplies_MEAN\", \"PREV_NAME_GOODS_CATEGORY_Medicine_MEAN\", \"PREV_NAME_GOODS_CATEGORY_Mobile_MEAN\", \"PREV_NAME_GOODS_CATEGORY_OfficeAppliances_MEAN\", \"PREV_NAME_GOODS_CATEGORY_Other_MEAN\", \"PREV_NAME_GOODS_CATEGORY_PhotoCinemaEquipment_MEAN\", \"PREV_NAME_GOODS_CATEGORY_SportandLeisure_MEAN\", \"PREV_NAME_GOODS_CATEGORY_Tourism_MEAN\", \"PREV_NAME_GOODS_CATEGORY_Vehicles_MEAN\", \"PREV_NAME_GOODS_CATEGORY_Weapon_MEAN\", \"PREV_NAME_GOODS_CATEGORY_XNA_MEAN\", \"PREV_NAME_GOODS_CATEGORY_nan_MEAN\", \"PREV_NAME_PORTFOLIO_Cards_MEAN\", \"PREV_NAME_PORTFOLIO_Cars_MEAN\", \"PREV_NAME_PORTFOLIO_Cash_MEAN\", \"PREV_NAME_PORTFOLIO_POS_MEAN\", \"PREV_NAME_PORTFOLIO_XNA_MEAN\", \"PREV_NAME_PORTFOLIO_nan_MEAN\", \"PREV_NAME_PRODUCT_TYPE_XNA_MEAN\", \"PREV_NAME_PRODUCT_TYPE_walkin_MEAN\", \"PREV_NAME_PRODUCT_TYPE_xsell_MEAN\", \"PREV_NAME_PRODUCT_TYPE_nan_MEAN\", \"PREV_CHANNEL_TYPE_APCashloan_MEAN\", \"PREV_CHANNEL_TYPE_Cardealer_MEAN\", \"PREV_CHANNEL_TYPE_Channelofcorporatesales_MEAN\", \"PREV_CHANNEL_TYPE_Contactcenter_MEAN\", \"PREV_CHANNEL_TYPE_Countrywide_MEAN\", \"PREV_CHANNEL_TYPE_Creditandcashoffices_MEAN\", \"PREV_CHANNEL_TYPE_RegionalLocal_MEAN\", \"PREV_CHANNEL_TYPE_Stone_MEAN\", \"PREV_CHANNEL_TYPE_nan_MEAN\", \"PREV_NAME_SELLER_INDUSTRY_Autotechnology_MEAN\", \"PREV_NAME_SELLER_INDUSTRY_Clothing_MEAN\", \"PREV_NAME_SELLER_INDUSTRY_Connectivity_MEAN\", \"PREV_NAME_SELLER_INDUSTRY_Construction_MEAN\", \"PREV_NAME_SELLER_INDUSTRY_Consumerelectronics_MEAN\", \"PREV_NAME_SELLER_INDUSTRY_Furniture_MEAN\", \"PREV_NAME_SELLER_INDUSTRY_Industry_MEAN\", \"PREV_NAME_SELLER_INDUSTRY_Jewelry_MEAN\", \"PREV_NAME_SELLER_INDUSTRY_MLMpartners_MEAN\", \"PREV_NAME_SELLER_INDUSTRY_Tourism_MEAN\", \"PREV_NAME_SELLER_INDUSTRY_XNA_MEAN\", \"PREV_NAME_SELLER_INDUSTRY_nan_MEAN\", \"PREV_NAME_YIELD_GROUP_XNA_MEAN\", \"PREV_NAME_YIELD_GROUP_high_MEAN\", \"PREV_NAME_YIELD_GROUP_low_action_MEAN\", \"PREV_NAME_YIELD_GROUP_low_normal_MEAN\", \"PREV_NAME_YIELD_GROUP_middle_MEAN\", \"PREV_NAME_YIELD_GROUP_nan_MEAN\", \"PREV_PRODUCT_COMBINATION_CardStreet_MEAN\", \"PREV_PRODUCT_COMBINATION_CardXSell_MEAN\", \"PREV_PRODUCT_COMBINATION_Cash_MEAN\", \"PREV_PRODUCT_COMBINATION_CashStreethigh_MEAN\", \"PREV_PRODUCT_COMBINATION_CashStreetlow_MEAN\", \"PREV_PRODUCT_COMBINATION_CashStreetmiddle_MEAN\", \"PREV_PRODUCT_COMBINATION_CashXSellhigh_MEAN\", \"PREV_PRODUCT_COMBINATION_CashXSelllow_MEAN\", \"PREV_PRODUCT_COMBINATION_CashXSellmiddle_MEAN\", \"PREV_PRODUCT_COMBINATION_POShouseholdwithinterest_MEAN\", \"PREV_PRODUCT_COMBINATION_POShouseholdwithoutinterest_MEAN\", \"PREV_PRODUCT_COMBINATION_POSindustrywithinterest_MEAN\", \"PREV_PRODUCT_COMBINATION_POSindustrywithoutinterest_MEAN\", \"PREV_PRODUCT_COMBINATION_POSmobilewithinterest_MEAN\", \"PREV_PRODUCT_COMBINATION_POSmobilewithoutinterest_MEAN\", \"PREV_PRODUCT_COMBINATION_POSotherwithinterest_MEAN\", \"PREV_PRODUCT_COMBINATION_POSotherswithoutinterest_MEAN\", \"PREV_PRODUCT_COMBINATION_nan_MEAN\", \"APPROVED_AMT_ANNUITY_MIN\", \"APPROVED_AMT_ANNUITY_MAX\", \"APPROVED_AMT_ANNUITY_MEAN\", \"APPROVED_AMT_APPLICATION_MIN\", \"APPROVED_AMT_APPLICATION_MAX\", \"APPROVED_AMT_APPLICATION_MEAN\", \"APPROVED_AMT_CREDIT_MIN\", \"APPROVED_AMT_CREDIT_MAX\", \"APPROVED_AMT_CREDIT_MEAN\", \"APPROVED_APP_CREDIT_PERC_MIN\", \"APPROVED_APP_CREDIT_PERC_MAX\", \"APPROVED_APP_CREDIT_PERC_MEAN\", \"APPROVED_APP_CREDIT_PERC_VAR\", \"APPROVED_AMT_DOWN_PAYMENT_MIN\", \"APPROVED_AMT_DOWN_PAYMENT_MAX\", \"APPROVED_AMT_DOWN_PAYMENT_MEAN\", \"APPROVED_AMT_GOODS_PRICE_MIN\", \"APPROVED_AMT_GOODS_PRICE_MAX\", \"APPROVED_AMT_GOODS_PRICE_MEAN\", \"APPROVED_HOUR_APPR_PROCESS_START_MIN\", \"APPROVED_HOUR_APPR_PROCESS_START_MAX\", \"APPROVED_HOUR_APPR_PROCESS_START_MEAN\", \"APPROVED_RATE_DOWN_PAYMENT_MIN\", \"APPROVED_RATE_DOWN_PAYMENT_MAX\", \"APPROVED_RATE_DOWN_PAYMENT_MEAN\", \"APPROVED_DAYS_DECISION_MIN\", \"APPROVED_DAYS_DECISION_MAX\", \"APPROVED_DAYS_DECISION_MEAN\", \"APPROVED_CNT_PAYMENT_MEAN\", \"APPROVED_CNT_PAYMENT_SUM\", \"REFUSED_AMT_ANNUITY_MIN\", \"REFUSED_AMT_ANNUITY_MAX\", \"REFUSED_AMT_ANNUITY_MEAN\", \"REFUSED_AMT_APPLICATION_MIN\", \"REFUSED_AMT_APPLICATION_MAX\", \"REFUSED_AMT_APPLICATION_MEAN\", \"REFUSED_AMT_CREDIT_MIN\", \"REFUSED_AMT_CREDIT_MAX\", \"REFUSED_AMT_CREDIT_MEAN\", \"REFUSED_APP_CREDIT_PERC_MIN\", \"REFUSED_APP_CREDIT_PERC_MAX\", \"REFUSED_APP_CREDIT_PERC_MEAN\", \"REFUSED_APP_CREDIT_PERC_VAR\", \"REFUSED_AMT_DOWN_PAYMENT_MIN\", \"REFUSED_AMT_DOWN_PAYMENT_MAX\", \"REFUSED_AMT_DOWN_PAYMENT_MEAN\", \"REFUSED_AMT_GOODS_PRICE_MIN\", \"REFUSED_AMT_GOODS_PRICE_MAX\", \"REFUSED_AMT_GOODS_PRICE_MEAN\", \"REFUSED_HOUR_APPR_PROCESS_START_MIN\", \"REFUSED_HOUR_APPR_PROCESS_START_MAX\", \"REFUSED_HOUR_APPR_PROCESS_START_MEAN\", \"REFUSED_RATE_DOWN_PAYMENT_MIN\", \"REFUSED_RATE_DOWN_PAYMENT_MAX\", \"REFUSED_RATE_DOWN_PAYMENT_MEAN\", \"REFUSED_DAYS_DECISION_MIN\", \"REFUSED_DAYS_DECISION_MAX\", \"REFUSED_DAYS_DECISION_MEAN\", \"REFUSED_CNT_PAYMENT_MEAN\", \"REFUSED_CNT_PAYMENT_SUM\", \"POS_MONTHS_BALANCE_MAX\", \"POS_MONTHS_BALANCE_MEAN\", \"POS_MONTHS_BALANCE_SIZE\", \"POS_SK_DPD_MAX\", \"POS_SK_DPD_MEAN\", \"POS_SK_DPD_DEF_MAX\", \"POS_SK_DPD_DEF_MEAN\", \"POS_NAME_CONTRACT_STATUS_Active_MEAN\", \"POS_NAME_CONTRACT_STATUS_Amortizeddebt_MEAN\", \"POS_NAME_CONTRACT_STATUS_Approved_MEAN\", \"POS_NAME_CONTRACT_STATUS_Canceled_MEAN\", \"POS_NAME_CONTRACT_STATUS_Completed_MEAN\", \"POS_NAME_CONTRACT_STATUS_Demand_MEAN\", \"POS_NAME_CONTRACT_STATUS_Returnedtothestore_MEAN\", \"POS_NAME_CONTRACT_STATUS_Signed_MEAN\", \"POS_NAME_CONTRACT_STATUS_XNA_MEAN\", \"POS_NAME_CONTRACT_STATUS_nan_MEAN\", \"POS_COUNT\", \"INSTAL_NUM_INSTALMENT_VERSION_NUNIQUE\", \"INSTAL_DPD_MAX\", \"INSTAL_DPD_MEAN\", \"INSTAL_DPD_SUM\", \"INSTAL_DBD_MAX\", \"INSTAL_DBD_MEAN\", \"INSTAL_DBD_SUM\", \"INSTAL_PAYMENT_PERC_MAX\", \"INSTAL_PAYMENT_PERC_MEAN\", \"INSTAL_PAYMENT_PERC_SUM\", \"INSTAL_PAYMENT_PERC_VAR\", \"INSTAL_PAYMENT_DIFF_MAX\", \"INSTAL_PAYMENT_DIFF_MEAN\", \"INSTAL_PAYMENT_DIFF_SUM\", \"INSTAL_PAYMENT_DIFF_VAR\", \"INSTAL_AMT_INSTALMENT_MAX\", \"INSTAL_AMT_INSTALMENT_MEAN\", \"INSTAL_AMT_INSTALMENT_SUM\", \"INSTAL_AMT_PAYMENT_MIN\", \"INSTAL_AMT_PAYMENT_MAX\", \"INSTAL_AMT_PAYMENT_MEAN\", \"INSTAL_AMT_PAYMENT_SUM\", \"INSTAL_DAYS_ENTRY_PAYMENT_MAX\", \"INSTAL_DAYS_ENTRY_PAYMENT_MEAN\", \"INSTAL_DAYS_ENTRY_PAYMENT_SUM\", \"INSTAL_COUNT\", \"CC_MONTHS_BALANCE_MIN\", \"CC_MONTHS_BALANCE_MAX\", \"CC_MONTHS_BALANCE_MEAN\", \"CC_MONTHS_BALANCE_SUM\", \"CC_MONTHS_BALANCE_VAR\", \"CC_AMT_BALANCE_MIN\", \"CC_AMT_BALANCE_MAX\", \"CC_AMT_BALANCE_MEAN\", \"CC_AMT_BALANCE_SUM\", \"CC_AMT_BALANCE_VAR\", \"CC_AMT_CREDIT_LIMIT_ACTUAL_MIN\", \"CC_AMT_CREDIT_LIMIT_ACTUAL_MAX\", \"CC_AMT_CREDIT_LIMIT_ACTUAL_MEAN\", \"CC_AMT_CREDIT_LIMIT_ACTUAL_SUM\", \"CC_AMT_CREDIT_LIMIT_ACTUAL_VAR\", \"CC_AMT_DRAWINGS_ATM_CURRENT_MIN\", \"CC_AMT_DRAWINGS_ATM_CURRENT_MAX\", \"CC_AMT_DRAWINGS_ATM_CURRENT_MEAN\", \"CC_AMT_DRAWINGS_ATM_CURRENT_SUM\", \"CC_AMT_DRAWINGS_ATM_CURRENT_VAR\", \"CC_AMT_DRAWINGS_CURRENT_MIN\", \"CC_AMT_DRAWINGS_CURRENT_MAX\", \"CC_AMT_DRAWINGS_CURRENT_MEAN\", \"CC_AMT_DRAWINGS_CURRENT_SUM\", \"CC_AMT_DRAWINGS_CURRENT_VAR\", \"CC_AMT_DRAWINGS_OTHER_CURRENT_MIN\", \"CC_AMT_DRAWINGS_OTHER_CURRENT_MAX\", \"CC_AMT_DRAWINGS_OTHER_CURRENT_MEAN\", \"CC_AMT_DRAWINGS_OTHER_CURRENT_SUM\", \"CC_AMT_DRAWINGS_OTHER_CURRENT_VAR\", \"CC_AMT_DRAWINGS_POS_CURRENT_MIN\", \"CC_AMT_DRAWINGS_POS_CURRENT_MAX\", \"CC_AMT_DRAWINGS_POS_CURRENT_MEAN\", \"CC_AMT_DRAWINGS_POS_CURRENT_SUM\", \"CC_AMT_DRAWINGS_POS_CURRENT_VAR\", \"CC_AMT_INST_MIN_REGULARITY_MIN\", \"CC_AMT_INST_MIN_REGULARITY_MAX\", \"CC_AMT_INST_MIN_REGULARITY_MEAN\", \"CC_AMT_INST_MIN_REGULARITY_SUM\", \"CC_AMT_INST_MIN_REGULARITY_VAR\", \"CC_AMT_PAYMENT_CURRENT_MIN\", \"CC_AMT_PAYMENT_CURRENT_MAX\", \"CC_AMT_PAYMENT_CURRENT_MEAN\", \"CC_AMT_PAYMENT_CURRENT_SUM\", \"CC_AMT_PAYMENT_CURRENT_VAR\", \"CC_AMT_PAYMENT_TOTAL_CURRENT_MIN\", \"CC_AMT_PAYMENT_TOTAL_CURRENT_MAX\", \"CC_AMT_PAYMENT_TOTAL_CURRENT_MEAN\", \"CC_AMT_PAYMENT_TOTAL_CURRENT_SUM\", \"CC_AMT_PAYMENT_TOTAL_CURRENT_VAR\", \"CC_AMT_RECEIVABLE_PRINCIPAL_MIN\", \"CC_AMT_RECEIVABLE_PRINCIPAL_MAX\", \"CC_AMT_RECEIVABLE_PRINCIPAL_MEAN\", \"CC_AMT_RECEIVABLE_PRINCIPAL_SUM\", \"CC_AMT_RECEIVABLE_PRINCIPAL_VAR\", \"CC_AMT_RECIVABLE_MIN\", \"CC_AMT_RECIVABLE_MAX\", \"CC_AMT_RECIVABLE_MEAN\", \"CC_AMT_RECIVABLE_SUM\", \"CC_AMT_RECIVABLE_VAR\", \"CC_AMT_TOTAL_RECEIVABLE_MIN\", \"CC_AMT_TOTAL_RECEIVABLE_MAX\", \"CC_AMT_TOTAL_RECEIVABLE_MEAN\", \"CC_AMT_TOTAL_RECEIVABLE_SUM\", \"CC_AMT_TOTAL_RECEIVABLE_VAR\", \"CC_CNT_DRAWINGS_ATM_CURRENT_MIN\", \"CC_CNT_DRAWINGS_ATM_CURRENT_MAX\", \"CC_CNT_DRAWINGS_ATM_CURRENT_MEAN\", \"CC_CNT_DRAWINGS_ATM_CURRENT_SUM\", \"CC_CNT_DRAWINGS_ATM_CURRENT_VAR\", \"CC_CNT_DRAWINGS_CURRENT_MIN\", \"CC_CNT_DRAWINGS_CURRENT_MAX\", \"CC_CNT_DRAWINGS_CURRENT_MEAN\", \"CC_CNT_DRAWINGS_CURRENT_SUM\", \"CC_CNT_DRAWINGS_CURRENT_VAR\", \"CC_CNT_DRAWINGS_OTHER_CURRENT_MIN\", \"CC_CNT_DRAWINGS_OTHER_CURRENT_MAX\", \"CC_CNT_DRAWINGS_OTHER_CURRENT_MEAN\", \"CC_CNT_DRAWINGS_OTHER_CURRENT_SUM\", \"CC_CNT_DRAWINGS_OTHER_CURRENT_VAR\", \"CC_CNT_DRAWINGS_POS_CURRENT_MIN\", \"CC_CNT_DRAWINGS_POS_CURRENT_MAX\", \"CC_CNT_DRAWINGS_POS_CURRENT_MEAN\", \"CC_CNT_DRAWINGS_POS_CURRENT_SUM\", \"CC_CNT_DRAWINGS_POS_CURRENT_VAR\", \"CC_CNT_INSTALMENT_MATURE_CUM_MIN\", \"CC_CNT_INSTALMENT_MATURE_CUM_MAX\", \"CC_CNT_INSTALMENT_MATURE_CUM_MEAN\", \"CC_CNT_INSTALMENT_MATURE_CUM_SUM\", \"CC_CNT_INSTALMENT_MATURE_CUM_VAR\", \"CC_SK_DPD_MIN\", \"CC_SK_DPD_MAX\", \"CC_SK_DPD_MEAN\", \"CC_SK_DPD_SUM\", \"CC_SK_DPD_VAR\", \"CC_SK_DPD_DEF_MIN\", \"CC_SK_DPD_DEF_MAX\", \"CC_SK_DPD_DEF_MEAN\", \"CC_SK_DPD_DEF_SUM\", \"CC_SK_DPD_DEF_VAR\", \"CC_NAME_CONTRACT_STATUS_Active_MIN\", \"CC_NAME_CONTRACT_STATUS_Active_MAX\", \"CC_NAME_CONTRACT_STATUS_Active_MEAN\", \"CC_NAME_CONTRACT_STATUS_Active_SUM\", \"CC_NAME_CONTRACT_STATUS_Active_VAR\", \"CC_NAME_CONTRACT_STATUS_Approved_MIN\", \"CC_NAME_CONTRACT_STATUS_Approved_MAX\", \"CC_NAME_CONTRACT_STATUS_Approved_MEAN\", \"CC_NAME_CONTRACT_STATUS_Approved_SUM\", \"CC_NAME_CONTRACT_STATUS_Approved_VAR\", \"CC_NAME_CONTRACT_STATUS_Completed_MIN\", \"CC_NAME_CONTRACT_STATUS_Completed_MAX\", \"CC_NAME_CONTRACT_STATUS_Completed_MEAN\", \"CC_NAME_CONTRACT_STATUS_Completed_SUM\", \"CC_NAME_CONTRACT_STATUS_Completed_VAR\", \"CC_NAME_CONTRACT_STATUS_Demand_MIN\", \"CC_NAME_CONTRACT_STATUS_Demand_MAX\", \"CC_NAME_CONTRACT_STATUS_Demand_MEAN\", \"CC_NAME_CONTRACT_STATUS_Demand_SUM\", \"CC_NAME_CONTRACT_STATUS_Demand_VAR\", \"CC_NAME_CONTRACT_STATUS_Refused_MIN\", \"CC_NAME_CONTRACT_STATUS_Refused_MAX\", \"CC_NAME_CONTRACT_STATUS_Refused_MEAN\", \"CC_NAME_CONTRACT_STATUS_Refused_SUM\", \"CC_NAME_CONTRACT_STATUS_Refused_VAR\", \"CC_NAME_CONTRACT_STATUS_Sentproposal_MIN\", \"CC_NAME_CONTRACT_STATUS_Sentproposal_MAX\", \"CC_NAME_CONTRACT_STATUS_Sentproposal_MEAN\", \"CC_NAME_CONTRACT_STATUS_Sentproposal_SUM\", \"CC_NAME_CONTRACT_STATUS_Sentproposal_VAR\", \"CC_NAME_CONTRACT_STATUS_Signed_MIN\", \"CC_NAME_CONTRACT_STATUS_Signed_MAX\", \"CC_NAME_CONTRACT_STATUS_Signed_MEAN\", \"CC_NAME_CONTRACT_STATUS_Signed_SUM\", \"CC_NAME_CONTRACT_STATUS_Signed_VAR\", \"CC_NAME_CONTRACT_STATUS_nan_MIN\", \"CC_NAME_CONTRACT_STATUS_nan_MAX\", \"CC_NAME_CONTRACT_STATUS_nan_MEAN\", \"CC_NAME_CONTRACT_STATUS_nan_SUM\", \"CC_NAME_CONTRACT_STATUS_nan_VAR\", \"CC_COUNT\"], \"features\": {\"0\": {\"effect\": 0.11596657741096805, \"value\": 0.7184396566283656}, \"1\": {\"effect\": 0.0368097072347944, \"value\": 1.3944356664756106}, \"2\": {\"effect\": 0.018584737529454286, \"value\": 1.502431977612716}, \"3\": {\"effect\": -0.0065841642031227825, \"value\": 0.8092819581348242}, \"4\": {\"effect\": 0.0017582978308746534, \"value\": 0.12859627594926748}, \"5\": {\"effect\": -0.03270617998529133, \"value\": 0.18835987307544558}, \"6\": {\"effect\": 0.005415417321150926, \"value\": 1.114577969710736}, \"7\": {\"effect\": 0.12540021010843247, \"value\": 0.37015934069845796}, \"8\": {\"effect\": -0.007098216144754588, \"value\": -1.0607406181157533}, \"9\": {\"effect\": -0.21759301445908988, \"value\": 0.741091227419253}, \"10\": {\"effect\": 0.07850098425632268, \"value\": 0.4781571948788092}, \"11\": {\"effect\": 0.010778717353109962, \"value\": -1.652782812070718}, \"12\": {\"effect\": 0.027769826552403173, \"value\": -0.7978525645387872}, \"13\": {\"effect\": 0.009453551050610258, \"value\": -0.28696986532675034}, \"15\": {\"effect\": -0.03316545947126997, \"value\": 0.4681606444783384}, \"16\": {\"effect\": -0.01252774627695544, \"value\": -0.49943084168170965}, \"18\": {\"effect\": -0.02762274769738724, \"value\": -0.6252837043966951}, \"19\": {\"effect\": 0.00010624585978803224, \"value\": -0.2447447612549264}, \"20\": {\"effect\": -0.008248677873039014, \"value\": 0.9318159527213813}, \"21\": {\"effect\": 0.0011692655501246917, \"value\": -0.10317541554479248}, \"22\": {\"effect\": 0.007047456754845598, \"value\": -0.06296528266723679}, \"23\": {\"effect\": -0.001026422259078572, \"value\": 0.2877849118275683}, \"25\": {\"effect\": 0.00025568586090230383, \"value\": -0.23106019239828643}, \"26\": {\"effect\": 5.254021380096674e-06, \"value\": -0.20532891625384234}, \"27\": {\"effect\": -0.002794554940628586, \"value\": -0.2909800638936659}, \"28\": {\"effect\": 0.0018434590566903354, \"value\": -0.5479880660853103}, \"29\": {\"effect\": 0.0004703927004175057, \"value\": -0.4688144214064795}, \"30\": {\"effect\": 0.6267879264151179, \"value\": 0.012079073404692229}, \"31\": {\"effect\": 0.3504580480871586, \"value\": 0.04214235917563296}, \"32\": {\"effect\": 0.6848149628835859, \"value\": -0.41226909182126714}, \"33\": {\"effect\": 0.009467263341775833, \"value\": -1.1042167981376254}, \"34\": {\"effect\": 0.0029821227167190047, \"value\": -0.09338252354701901}, \"35\": {\"effect\": 0.002482613212105207, \"value\": -0.0588903918873022}, \"36\": {\"effect\": -0.00021506308934476692, \"value\": 0.014266586925568554}, \"37\": {\"effect\": -0.0006303344072512118, \"value\": -0.16548330642095627}, \"38\": {\"effect\": 0.00010729924964834936, \"value\": -0.36750694327146677}, \"39\": {\"effect\": 0.0019425038624103763, \"value\": -1.0542729803772113}, \"40\": {\"effect\": 0.002964454064167512, \"value\": -1.4512059879263237}, \"41\": {\"effect\": 0.00036802352718950715, \"value\": -0.08084693468483363}, \"42\": {\"effect\": 0.007031375112051137, \"value\": -0.6716004506879965}, \"43\": {\"effect\": 0.004979001155370497, \"value\": -0.1485705392603455}, \"44\": {\"effect\": 0.0008374698938223446, \"value\": -0.965992001176292}, \"45\": {\"effect\": 0.0002384575456380844, \"value\": -0.09979576113520489}, \"46\": {\"effect\": -0.006891598192987658, \"value\": -0.23028853602644375}, \"47\": {\"effect\": 0.022635517207854717, \"value\": -1.0674404438360903}, \"48\": {\"effect\": -0.002801384786816925, \"value\": -0.09660283775254203}, \"49\": {\"effect\": 0.011738201416205811, \"value\": -0.044335147825251574}, \"50\": {\"effect\": 0.0042003467874656055, \"value\": 0.027481279472484476}, \"51\": {\"effect\": 0.0013585361305740661, \"value\": -0.1683087334661891}, \"52\": {\"effect\": -3.1823098834138366e-05, \"value\": -0.3551311068949599}, \"53\": {\"effect\": -0.01310902329181772, \"value\": -1.01632359762386}, \"54\": {\"effect\": 0.0029717820161840793, \"value\": -1.447917194205695}, \"55\": {\"effect\": 0.00015303771971957757, \"value\": -0.06771674691166792}, \"56\": {\"effect\": 0.006832469589035099, \"value\": -0.6201797238077755}, \"57\": {\"effect\": 0.004536779626887437, \"value\": -0.15918816300474556}, \"58\": {\"effect\": -0.00333194493089195, \"value\": -0.9327093942583912}, \"60\": {\"effect\": -0.01826669923460031, \"value\": -0.23741433013633717}, \"61\": {\"effect\": 0.009597635107975294, \"value\": -1.09453136103812}, \"62\": {\"effect\": 0.0006865132856546552, \"value\": -0.09301686709314393}, \"63\": {\"effect\": 0.007000260306380141, \"value\": -0.0584526579966158}, \"64\": {\"effect\": 0.0015613496323567233, \"value\": 0.01460684565972475}, \"65\": {\"effect\": 0.001993403270316776, \"value\": -0.16685739219254622}, \"66\": {\"effect\": 0.0001789194162847707, \"value\": -0.36440429866208535}, \"67\": {\"effect\": 0.032390692682820375, \"value\": -1.0478791519270128}, \"68\": {\"effect\": 0.0015718359738093569, \"value\": -1.4463362027362263}, \"69\": {\"effect\": 0.0037154905186616814, \"value\": -0.07957664672412693}, \"70\": {\"effect\": 0.000671906668721931, \"value\": -0.6677495240385316}, \"71\": {\"effect\": -0.0003576114665702335, \"value\": -0.15075820583992597}, \"72\": {\"effect\": 0.026333373613979347, \"value\": -0.9571456997947678}, \"73\": {\"effect\": -5.469685769639909e-05, \"value\": -0.0985943622082295}, \"74\": {\"effect\": -0.03515238917796523, \"value\": -0.23162852691173735}, \"75\": {\"effect\": 0.0013081691774550564, \"value\": -0.9526346717655837}, \"76\": {\"effect\": 0.011852635355726306, \"value\": -0.17133933426213838}, \"77\": {\"effect\": 0.08553134575602599, \"value\": -0.318299421797989}, \"78\": {\"effect\": -0.006900152862335744, \"value\": -0.16585464128607236}, \"79\": {\"effect\": 0.05115775764943237, \"value\": -0.2738315353325301}, \"80\": {\"effect\": -0.010907490268648417, \"value\": -0.7304088259506238}, \"82\": {\"effect\": 0.07177139272298519, \"value\": 0.6375358863171836}, \"84\": {\"effect\": -4.14073457068298e-05, \"value\": -0.12391946090126782}, \"85\": {\"effect\": -0.010876499331316155, \"value\": -0.31038327343080874}, \"87\": {\"effect\": -0.0018898661832827202, \"value\": -0.29599085472807934}, \"97\": {\"effect\": 8.179762633517385e-05, \"value\": -0.09024221342258851}, \"103\": {\"effect\": 0.00013139160815626384, \"value\": -0.1554547590753059}, \"104\": {\"effect\": -5.3397638912429104e-05, \"value\": -0.2697127176783938}, \"105\": {\"effect\": 0.00957110133334936, \"value\": 2.2298485993233754}, \"106\": {\"effect\": 0.045690402080354034, \"value\": 1.256463588156998}, \"107\": {\"effect\": 0.003181527806868871, \"value\": 0.32433049240986467}, \"108\": {\"effect\": 0.00010333207188523375, \"value\": -0.32433049240986467}, \"110\": {\"effect\": -0.0038968542222573887, \"value\": -0.3882292835803505}, \"115\": {\"effect\": 0.014767464008118623, \"value\": 0.48767130635785627}, \"117\": {\"effect\": -0.04388880756888284, \"value\": -0.5514722494117197}, \"119\": {\"effect\": 0.01477703559667134, \"value\": -0.4680160908143716}, \"120\": {\"effect\": 0.0007060259174613748, \"value\": -0.2757187463930788}, \"123\": {\"effect\": 0.12159933514232762, \"value\": 0.967950338376292}, \"125\": {\"effect\": -0.07395639151833165, \"value\": 1.7640874593787994}, \"126\": {\"effect\": -0.0027806354600579653, \"value\": -0.18624852277077394}, \"128\": {\"effect\": 0.17625088164629232, \"value\": -1.5662253463675433}, \"129\": {\"effect\": -0.007873129869431068, \"value\": -0.3273022171657233}, \"130\": {\"effect\": -0.02056277132186942, \"value\": 0.751385188235486}, \"131\": {\"effect\": -0.0009804540041113796, \"value\": -0.2613431698920418}, \"132\": {\"effect\": 0.10260839281596418, \"value\": -0.41593638585674586}, \"134\": {\"effect\": -0.00012186508174636402, \"value\": -0.23577992176842907}, \"136\": {\"effect\": -0.0013859247617438086, \"value\": 0.3563059855080262}, \"137\": {\"effect\": -0.002004301640408812, \"value\": -0.19434674738515795}, \"140\": {\"effect\": -0.00021544386341702194, \"value\": -0.22475478322129405}, \"141\": {\"effect\": 0.0011128743179142475, \"value\": -0.18162517775181958}, \"142\": {\"effect\": -4.721521399915218e-06, \"value\": -0.12433364938925011}, \"144\": {\"effect\": 0.0008796831703511998, \"value\": 3.1877102118168783}, \"145\": {\"effect\": -0.005687651640982949, \"value\": -0.2528222788633882}, \"149\": {\"effect\": 0.02469462020389983, \"value\": -0.4662666786421708}, \"150\": {\"effect\": -1.2736159842461347e-05, \"value\": -0.08257684821934144}, \"151\": {\"effect\": -0.0010102408397142425, \"value\": -0.2731427760635512}, \"152\": {\"effect\": 0.0002750388473941712, \"value\": -0.1693916027383207}, \"155\": {\"effect\": -0.004160062001465121, \"value\": -0.34257191368170425}, \"157\": {\"effect\": -4.675934615079314e-06, \"value\": -0.1497430992129031}, \"159\": {\"effect\": -0.0030275069148501645, \"value\": -0.44298115819896033}, \"160\": {\"effect\": -0.0015004811922335647, \"value\": -0.44389825919671094}, \"161\": {\"effect\": 0.0007728362403577193, \"value\": -0.3511464332258529}, \"163\": {\"effect\": -0.0026104026291250194, \"value\": 2.254083459048594}, \"164\": {\"effect\": 0.00019629950644230122, \"value\": -0.4618502965560889}, \"165\": {\"effect\": -0.00628507620084747, \"value\": -0.4508642654814176}, \"169\": {\"effect\": -8.641601889394223e-06, \"value\": -0.14028222880584715}, \"170\": {\"effect\": -0.00036296423226303884, \"value\": -0.18883748837682338}, \"171\": {\"effect\": 0.11439554646390207, \"value\": -0.5330598965714259}, \"173\": {\"effect\": -0.008692915935175733, \"value\": -0.14889336558386337}, \"199\": {\"effect\": -0.0010873116151924479, \"value\": -0.23981012383076764}, \"205\": {\"effect\": 0.0002525075158337131, \"value\": -0.17317349204781265}, \"208\": {\"effect\": -0.03586706603426137, \"value\": -0.37785396063905274}, \"217\": {\"effect\": -8.549395606678446e-06, \"value\": -0.16145132373229876}, \"220\": {\"effect\": -0.0004739177064038813, \"value\": -0.06181837826312301}, \"221\": {\"effect\": -2.669058507308364e-05, \"value\": -0.13325799777511824}, \"223\": {\"effect\": -0.008861879264768504, \"value\": -0.46810557789536233}, \"226\": {\"effect\": 0.0035092808746048833, \"value\": -0.5616161841842163}, \"228\": {\"effect\": 0.007045005879435848, \"value\": -0.9781937323535308}, \"232\": {\"effect\": -2.0600294228643178e-05, \"value\": -0.08637740795157581}, \"235\": {\"effect\": 0.020124039107577117, \"value\": -0.5219995238524314}, \"236\": {\"effect\": 0.012230642021322638, \"value\": 1.9331808103742547}, \"238\": {\"effect\": -0.04585197960645018, \"value\": 0.9637992330629122}, \"240\": {\"effect\": 0.020496830878669242, \"value\": -0.4429274267958495}, \"241\": {\"effect\": -0.0026310923833352718, \"value\": -0.1804719080025677}, \"242\": {\"effect\": 0.02233431254115203, \"value\": -0.2364711692087163}, \"243\": {\"effect\": -0.0330199876109009, \"value\": 0.3444895479405308}, \"244\": {\"effect\": 0.061542182031460585, \"value\": 0.46506366994967546}, \"245\": {\"effect\": 0.03006396356085588, \"value\": 1.192271043104153}, \"246\": {\"effect\": -0.04106045148641144, \"value\": 0.8091033378010639}, \"247\": {\"effect\": 0.01064933967352772, \"value\": 1.1641624496625025}, \"248\": {\"effect\": -0.006919785275117647, \"value\": -0.8624625824303059}, \"249\": {\"effect\": 0.006796499367638944, \"value\": 0.3498639442791291}, \"250\": {\"effect\": 0.03834755161695739, \"value\": 3.120704337964921}, \"251\": {\"effect\": -0.0009013137802048732, \"value\": 1.9425580284509543}, \"252\": {\"effect\": 0.0018404748391546376, \"value\": 1.1349474633268024}, \"253\": {\"effect\": -2.0421639201231302e-05, \"value\": -0.04912439058109576}, \"255\": {\"effect\": 0.05652120569176986, \"value\": -0.012198689999649726}, \"256\": {\"effect\": 0.009457912917766861, \"value\": -0.41456584866379653}, \"257\": {\"effect\": -0.0019145866911327403, \"value\": -0.3997718520634634}, \"258\": {\"effect\": 0.008716943176568747, \"value\": -0.4521867634092672}, \"259\": {\"effect\": -0.01654423077458432, \"value\": -0.24242689074751025}, \"260\": {\"effect\": 0.0320793549474547, \"value\": -0.18839830563061064}, \"261\": {\"effect\": 0.013062634802045068, \"value\": -0.2345047503971466}, \"263\": {\"effect\": 0.03118720016991574, \"value\": -0.1707433849453705}, \"264\": {\"effect\": -0.005253586322469346, \"value\": -0.2200145568239134}, \"265\": {\"effect\": -0.00491960338285935, \"value\": -0.02100478367197621}, \"266\": {\"effect\": -0.013571623582938628, \"value\": -0.026452020765166555}, \"268\": {\"effect\": -0.005672446176558879, \"value\": -0.010050542047525694}, \"270\": {\"effect\": -0.003297285536173149, \"value\": -0.08747558797413475}, \"271\": {\"effect\": -0.01586491950462005, \"value\": -0.4206068855903226}, \"272\": {\"effect\": -0.01802317579518217, \"value\": 0.6750971407323771}, \"274\": {\"effect\": -0.02439701317424806, \"value\": -0.6622692247265063}, \"275\": {\"effect\": -8.545353310182691e-05, \"value\": -0.09388850666970301}, \"283\": {\"effect\": 0.0014618411406991073, \"value\": -0.19431166846848316}, \"285\": {\"effect\": -0.013106999578501472, \"value\": 0.29525774879250977}, \"286\": {\"effect\": 0.01571095453999078, \"value\": -0.14192908980346308}, \"292\": {\"effect\": -0.010664831950070947, \"value\": -0.08463129153573107}, \"294\": {\"effect\": 0.0024811110914015446, \"value\": -0.16193777888542343}, \"298\": {\"effect\": 0.0028388159332064333, \"value\": -0.04423777234592852}, \"299\": {\"effect\": 0.007462081718554146, \"value\": -0.1802165881191112}, \"304\": {\"effect\": -0.022163029352798277, \"value\": -0.04436483951712726}, \"305\": {\"effect\": 0.0038080811566032933, \"value\": -0.18983222279253154}, \"307\": {\"effect\": -0.005691991199881841, \"value\": 0.11018094205133279}, \"308\": {\"effect\": 0.045934844144035196, \"value\": 0.7816780546352553}, \"309\": {\"effect\": 0.00938676751903131, \"value\": 0.12924845071179453}, \"310\": {\"effect\": 0.009767507689775811, \"value\": -0.020539250514479825}, \"311\": {\"effect\": 0.021200944043650905, \"value\": -0.12650464348113}, \"312\": {\"effect\": -0.027669803301441788, \"value\": 3.481299210345291}, \"313\": {\"effect\": 0.03401945055323551, \"value\": 1.927345317053464}, \"314\": {\"effect\": -0.020776719188466897, \"value\": 0.3363681085363125}, \"316\": {\"effect\": -3.933334955945611e-06, \"value\": -0.03780250264464702}, \"317\": {\"effect\": 0.08192765042313113, \"value\": -0.1096110905298392}, \"318\": {\"effect\": -0.0005128046611116587, \"value\": -0.4204769591634866}, \"319\": {\"effect\": 0.0032254386862086903, \"value\": -0.4031386825844779}, \"320\": {\"effect\": -0.012219662060988411, \"value\": -0.4275371789258594}, \"321\": {\"effect\": 0.03881849489048363, \"value\": -0.28752748241236176}, \"322\": {\"effect\": 0.02459409593806754, \"value\": -0.28698878005751455}, \"323\": {\"effect\": -0.010060377703703126, \"value\": -0.27568142549567626}, \"325\": {\"effect\": -0.05453332386845432, \"value\": -0.18837580558187617}, \"326\": {\"effect\": -0.0012895550781104248, \"value\": -0.2108425217666558}, \"327\": {\"effect\": -0.006439130033577385, \"value\": -0.016999283356437928}, \"328\": {\"effect\": 0.01979195730274114, \"value\": -0.024180095388015667}, \"330\": {\"effect\": 0.00327557726046507, \"value\": 0.11863235117213351}, \"332\": {\"effect\": 0.0017290508746674149, \"value\": -0.11270030331784868}, \"333\": {\"effect\": -0.06153595153820788, \"value\": -0.38372640914831657}, \"334\": {\"effect\": 0.00040875192956264073, \"value\": 2.181564094063408}, \"335\": {\"effect\": -0.02545287260660416, \"value\": 1.068574350493622}, \"336\": {\"effect\": -0.0064748467954950685, \"value\": 2.01468713990518}, \"337\": {\"effect\": -0.013000767017390445, \"value\": -1.1264063610416413}, \"338\": {\"effect\": 0.0008023003386188065, \"value\": 0.8262535043390459}, \"339\": {\"effect\": -0.004449870868591006, \"value\": -0.13018497140777693}, \"340\": {\"effect\": -0.008188802432609919, \"value\": 0.32417782513502735}, \"341\": {\"effect\": 0.003951776006404231, \"value\": 1.4610104691431067}, \"344\": {\"effect\": -0.00452192992072014, \"value\": -0.009816901514803467}, \"345\": {\"effect\": -0.0126022766164715, \"value\": -0.37749453304277825}, \"346\": {\"effect\": -0.002602034188621474, \"value\": -0.37052213139793383}, \"347\": {\"effect\": 0.030733162445329754, \"value\": -0.39731087787076314}, \"349\": {\"effect\": -2.5682762498036028e-06, \"value\": -0.04980095061798049}, \"354\": {\"effect\": -0.022252974196599096, \"value\": -0.02043342632620221}, \"355\": {\"effect\": -0.03222728262151577, \"value\": -0.01949833964317499}, \"357\": {\"effect\": -0.015444147134803642, \"value\": -0.039646386191571605}, \"358\": {\"effect\": 0.00116839477146641, \"value\": 0.1548769197802463}, \"359\": {\"effect\": -0.00069640837037241, \"value\": -0.07628795490924563}, \"360\": {\"effect\": 0.011345315578328154, \"value\": -0.3874700058933755}, \"361\": {\"effect\": -0.005233672068684427, \"value\": 0.4319180843508091}, \"362\": {\"effect\": 0.007856835892259823, \"value\": 1.219389045335523}, \"363\": {\"effect\": 0.004382818736867193, \"value\": 1.4010679577679288}, \"364\": {\"effect\": 0.0680491039646131, \"value\": -0.47177301818904305}, \"365\": {\"effect\": 0.0006781606035656296, \"value\": -0.3086862408542024}, \"366\": {\"effect\": 0.0015596163787631667, \"value\": -0.3983531750085754}, \"367\": {\"effect\": 0.02615445486846511, \"value\": -0.503677400006027}, \"368\": {\"effect\": 0.004872767570785612, \"value\": 0.10144170166374268}, \"369\": {\"effect\": 0.008378487506615784, \"value\": -0.023967147560425447}, \"370\": {\"effect\": -0.01228275058975214, \"value\": -2.320453631188789}, \"371\": {\"effect\": 0.0233902673646503, \"value\": 1.5019155108836537}, \"372\": {\"effect\": -0.008389147235811833, \"value\": -0.845259496416162}, \"373\": {\"effect\": 0.009946708917923389, \"value\": 1.2240787316290902}, \"374\": {\"effect\": -0.0013528603581380594, \"value\": 1.362800867302712}, \"375\": {\"effect\": -0.015053246921852406, \"value\": 2.1142121035417514}, \"376\": {\"effect\": -0.0072867253181505024, \"value\": 2.2827203005355012}, \"377\": {\"effect\": 0.007830220830064717, \"value\": 0.5344422748332486}, \"378\": {\"effect\": 0.0016718635009237914, \"value\": -0.31080363318007564}, \"379\": {\"effect\": -0.002878568439383571, \"value\": -0.03386326710208798}, \"380\": {\"effect\": -0.0029026711448750576, \"value\": -0.22948765557086673}, \"381\": {\"effect\": 0.01618935225617861, \"value\": 0.07097087655103322}, \"382\": {\"effect\": 0.0036554062929644716, \"value\": -0.18533747697175873}, \"383\": {\"effect\": -0.011409713773508372, \"value\": 0.6940375048064764}, \"384\": {\"effect\": 0.014054849829801555, \"value\": 2.2426174920782476}, \"385\": {\"effect\": -0.022179877350308744, \"value\": 2.020962152871496}, \"386\": {\"effect\": 0.010866986346463818, \"value\": -1.3675366387213344}, \"387\": {\"effect\": -0.013043909823763897, \"value\": 0.83280346719188}, \"388\": {\"effect\": -0.002771187036923948, \"value\": -0.1128312764996315}, \"389\": {\"effect\": 0.05506655269963176, \"value\": -0.7193652926397236}, \"390\": {\"effect\": -0.006867675501530357, \"value\": -0.3539171247658535}, \"391\": {\"effect\": 0.0005712554768251721, \"value\": 0.5977950245715902}, \"392\": {\"effect\": -0.0014382700847636442, \"value\": -0.7225888214075603}, \"393\": {\"effect\": -0.004628784329124756, \"value\": 0.4436929174350187}, \"396\": {\"effect\": -0.014715725099584916, \"value\": -0.5991213200382479}, \"397\": {\"effect\": -0.020316412712236342, \"value\": -0.594270726431158}, \"398\": {\"effect\": 0.0010887718130919667, \"value\": 0.7606474800780809}, \"399\": {\"effect\": 0.0026406533873750957, \"value\": 1.030725215918395}, \"400\": {\"effect\": -0.014731733880208821, \"value\": -0.5935119974825218}, \"401\": {\"effect\": -0.008643093703205977, \"value\": -0.6000267375337209}, \"402\": {\"effect\": -0.01028030846906404, \"value\": 0.829512535811172}, \"423\": {\"effect\": -1.6222119447775186e-05, \"value\": -0.13263700602723555}, \"427\": {\"effect\": -3.30822731484659e-07, \"value\": -0.16006851330585703}, \"430\": {\"effect\": -0.00018562973382358906, \"value\": -0.5977950245715904}, \"431\": {\"effect\": -0.004628686524729347, \"value\": 0.7522297582012066}, \"433\": {\"effect\": 0.002595356542836349, \"value\": -0.3333657081572291}, \"434\": {\"effect\": 0.0001648038098210236, \"value\": 1.16686147092236}, \"435\": {\"effect\": -0.0039788458002931295, \"value\": -0.5791418136837462}, \"436\": {\"effect\": 0.00026828703586943446, \"value\": -0.2122161721940251}, \"438\": {\"effect\": -0.025054678092310496, \"value\": -0.6217351280106437}, \"441\": {\"effect\": 0.030356191007431334, \"value\": 0.6520490049199312}, \"443\": {\"effect\": -1.0335736442357302e-05, \"value\": -0.2122161721940251}, \"444\": {\"effect\": -0.0013206188293042943, \"value\": -0.43248760176158707}, \"445\": {\"effect\": -0.0034130993751205095, \"value\": -0.2649526256586026}, \"446\": {\"effect\": 0.001345755668444326, \"value\": -0.2256046852119137}, \"447\": {\"effect\": -0.0005521419262368, \"value\": -0.12634213347595472}, \"450\": {\"effect\": -0.0023482855028396444, \"value\": 0.6228087100733015}, \"453\": {\"effect\": -0.0004514899021887686, \"value\": -0.2098850856481179}, \"454\": {\"effect\": -0.0020629880482374574, \"value\": -0.569781931360391}, \"457\": {\"effect\": -7.245229899126571e-05, \"value\": -0.1597994572816477}, \"458\": {\"effect\": -0.0008275965151915443, \"value\": 1.99426155875539}, \"459\": {\"effect\": 0.010644578271876527, \"value\": -0.9775939345359684}, \"460\": {\"effect\": 0.026504661909816606, \"value\": 0.5798488470719918}, \"461\": {\"effect\": 0.032904582920255054, \"value\": -0.5352791620286758}, \"462\": {\"effect\": 0.001177850403246339, \"value\": 0.3477840973696972}, \"463\": {\"effect\": -0.005358644106049724, \"value\": 0.32359554280965314}, \"468\": {\"effect\": -0.002892847801970788, \"value\": 0.4973850638534396}, \"470\": {\"effect\": 0.0002168722279020585, \"value\": -0.18481240182030867}, \"471\": {\"effect\": -0.0018402005458847271, \"value\": -0.4066765423743364}, \"472\": {\"effect\": -0.0002124915670356131, \"value\": -0.1898215743904716}, \"473\": {\"effect\": -0.012752080142831801, \"value\": -0.4417781835399247}, \"477\": {\"effect\": 0.0011839452516869643, \"value\": 0.7923361772767882}, \"485\": {\"effect\": -0.0045163050534392825, \"value\": -0.6059891711171556}, \"488\": {\"effect\": 0.001780086541111814, \"value\": -0.19616049278691197}, \"493\": {\"effect\": -0.0060733973884021, \"value\": 0.7082490271109589}, \"495\": {\"effect\": -0.004453060404862299, \"value\": 0.6645100727073431}, \"497\": {\"effect\": 0.001469272561557773, \"value\": -0.14289181409774654}, \"498\": {\"effect\": -0.0004175410344487318, \"value\": -0.6694335761663534}, \"499\": {\"effect\": -0.0011273552575585199, \"value\": 0.9627362400718585}, \"501\": {\"effect\": -0.006321591735237462, \"value\": -0.17865576342041242}, \"502\": {\"effect\": -0.004133141603006152, \"value\": -0.4247482450423295}, \"503\": {\"effect\": -0.0077288690198111, \"value\": 0.5584334895830922}, \"505\": {\"effect\": -0.0017547426839882973, \"value\": -0.23299238411740467}, \"508\": {\"effect\": 0.00016114318720610753, \"value\": -0.3175516145314886}, \"509\": {\"effect\": -0.01681811826394721, \"value\": -0.09061718449680026}, \"510\": {\"effect\": -0.0023722032702698926, \"value\": 1.171268285136523}, \"511\": {\"effect\": -0.0010179334266578622, \"value\": -0.39660383550201983}, \"512\": {\"effect\": 0.014589525624351153, \"value\": -0.5853144793474507}, \"514\": {\"effect\": 0.0007427433838893193, \"value\": -0.08399955921505378}, \"515\": {\"effect\": 7.076533045619727e-05, \"value\": -0.18487019778479197}, \"516\": {\"effect\": -0.012057770672308834, \"value\": -0.6601747396417823}, \"517\": {\"effect\": -0.0002752271533245221, \"value\": -0.20647325737724362}, \"518\": {\"effect\": -0.00711519261094054, \"value\": -0.3957565721611236}, \"519\": {\"effect\": 0.00025034625112311913, \"value\": 0.74238652873293}, \"520\": {\"effect\": 2.8567254776135088e-05, \"value\": -0.16749705135336576}, \"524\": {\"effect\": -0.0009901518253900576, \"value\": 0.8956862344133463}, \"526\": {\"effect\": -0.003114815435492346, \"value\": 1.1522664694441958}, \"527\": {\"effect\": -0.04999333375403239, \"value\": -0.8139257707066273}, \"528\": {\"effect\": 0.006958349666447816, \"value\": -0.3612160950877126}, \"529\": {\"effect\": 0.004889870597576191, \"value\": -0.14113903875509606}, \"530\": {\"effect\": -0.03606295937193806, \"value\": 0.2853172815345725}, \"532\": {\"effect\": -0.0003878354798871442, \"value\": -0.41069135254316785}, \"533\": {\"effect\": -0.0005633692111541677, \"value\": 1.4196465891585792}, \"534\": {\"effect\": -0.07925438733258489, \"value\": 1.334051909731816}, \"535\": {\"effect\": -0.0005263911008660216, \"value\": -0.2617758195633638}, \"536\": {\"effect\": 0.008985331412086453, \"value\": -0.1821390328435443}, \"537\": {\"effect\": -0.0003172734085819684, \"value\": -0.1998422218792045}, \"538\": {\"effect\": -0.0006351559163886122, \"value\": -0.30101156344454455}, \"539\": {\"effect\": 0.01188828221810155, \"value\": -0.43710708790181196}, \"540\": {\"effect\": -0.0006967326655285433, \"value\": 0.820880629776183}, \"541\": {\"effect\": 0.0026624965210658045, \"value\": -0.10145048286802445}, \"542\": {\"effect\": -9.751406512805261e-05, \"value\": -0.3552202900720307}, \"543\": {\"effect\": 0.0032179683427966664, \"value\": 0.40307330817925485}, \"545\": {\"effect\": -0.0017614714245246432, \"value\": -0.5930504415657929}, \"546\": {\"effect\": -7.608870044350624e-05, \"value\": -0.18743870669531335}, \"547\": {\"effect\": 0.013177648794735432, \"value\": -0.18441798058656164}, \"550\": {\"effect\": -0.011563788572916565, \"value\": 0.3595310297573626}, \"551\": {\"effect\": -0.003980493190130687, \"value\": 1.4372286809603951}, \"552\": {\"effect\": 0.02263057869899967, \"value\": 1.4885677728861324}, \"553\": {\"effect\": -0.007179666272731993, \"value\": -0.6533849416173054}, \"554\": {\"effect\": -0.004187902208010002, \"value\": -0.18927272736535142}, \"555\": {\"effect\": 0.0004554688085590897, \"value\": -0.15689350560923712}, \"556\": {\"effect\": -0.0052835257595234, \"value\": 0.28754121167569086}, \"557\": {\"effect\": -0.0023945978090023344, \"value\": 0.30956482577417277}, \"558\": {\"effect\": 0.0035892242504723983, \"value\": 0.37889062840699905}, \"559\": {\"effect\": -0.00987756047064977, \"value\": -2.4614515919248334}, \"560\": {\"effect\": 0.0007288517486813362, \"value\": 1.658250572561629}, \"561\": {\"effect\": -0.00445875754318763, \"value\": -0.8278126250658279}, \"562\": {\"effect\": 0.0001929400490456601, \"value\": 0.9595984708761869}, \"563\": {\"effect\": -0.004211426268509513, \"value\": 1.330066508257131}, \"564\": {\"effect\": 0.013795140479023757, \"value\": 2.398950356837208}, \"565\": {\"effect\": 0.0016441460057694712, \"value\": 2.3370059962266962}, \"566\": {\"effect\": -0.0044036532618065395, \"value\": 0.45976828573186107}, \"567\": {\"effect\": -5.9743615231582226e-05, \"value\": -0.19113057758217689}, \"568\": {\"effect\": 0.0002071813244083387, \"value\": 0.08579137028962333}, \"569\": {\"effect\": -0.022131242659588678, \"value\": -0.0555005967048207}, \"570\": {\"effect\": -0.0015476021574477273, \"value\": 0.1849330310443639}, \"571\": {\"effect\": 0.003943791847286775, \"value\": 0.08626115508770002}, \"572\": {\"effect\": -0.003779976398045619, \"value\": 0.5966259353914043}, \"573\": {\"effect\": 0.028011500744869407, \"value\": 2.296326997042042}, \"574\": {\"effect\": 0.0005148434112199141, \"value\": 1.9116099823034647}, \"575\": {\"effect\": 0.001554412399868852, \"value\": -1.3841373660944123}, \"576\": {\"effect\": -0.007054126959706082, \"value\": -0.2160025128017672}, \"577\": {\"effect\": -0.003151662392938306, \"value\": -0.6860647726308059}, \"578\": {\"effect\": 0.10289943133140966, \"value\": -0.6832112177560751}, \"579\": {\"effect\": -0.01484598564411499, \"value\": -0.21536948740479941}, \"580\": {\"effect\": -0.001064247103422531, \"value\": -0.1550472820387639}, \"581\": {\"effect\": -0.00015872474883508404, \"value\": -0.15573881167352058}, \"582\": {\"effect\": -0.00052425013112952, \"value\": -0.15154017564464783}, \"583\": {\"effect\": 1.4796283924169984e-05, \"value\": -0.20063443220914323}, \"584\": {\"effect\": -0.000464913302766945, \"value\": -0.21091118559778418}, \"585\": {\"effect\": 0.0006959990894392831, \"value\": -0.20376105499965538}, \"586\": {\"effect\": -0.006304635268018046, \"value\": -0.19993546752328223}, \"587\": {\"effect\": -0.0014740322928173556, \"value\": -0.2180871549413078}, \"588\": {\"effect\": 0.0005660910662845708, \"value\": -0.20457820039099672}, \"589\": {\"effect\": -0.00023146562758483925, \"value\": 0.10757822562498841}, \"590\": {\"effect\": 0.0002662902972588199, \"value\": 0.047338368903675924}, \"591\": {\"effect\": -0.0008243714631680632, \"value\": 0.08563971826846904}, \"592\": {\"effect\": -0.0013164784012224117, \"value\": -0.02634645178898616}, \"594\": {\"effect\": -0.0002851453371113166, \"value\": -0.08772336456738615}, \"595\": {\"effect\": -7.630789186805486e-06, \"value\": -0.08735932513399303}, \"596\": {\"effect\": -0.0008525216335419827, \"value\": -0.18727109550622362}, \"597\": {\"effect\": 0.0010724212631612318, \"value\": -0.20768196994646715}, \"598\": {\"effect\": 0.0014846202191984047, \"value\": -0.2023454085973241}, \"599\": {\"effect\": -0.000302087772070081, \"value\": -0.10386546365902288}, \"600\": {\"effect\": 0.000413949019566644, \"value\": -0.04657886946682707}, \"601\": {\"effect\": 0.0011360873846933829, \"value\": -0.01667256382417382}, \"602\": {\"effect\": 0.0001161341285387607, \"value\": -0.19571132555027163}, \"605\": {\"effect\": -0.0010588427802366595, \"value\": 0.2217568714170658}, \"606\": {\"effect\": -0.004345778587794485, \"value\": 0.23811488526052793}, \"607\": {\"effect\": -1.0161200275433658e-05, \"value\": 0.21751565399367925}, \"608\": {\"effect\": 0.0022029256332189106, \"value\": -0.18702787353711645}, \"609\": {\"effect\": 0.0016119644011905621, \"value\": -0.17302769831721596}, \"610\": {\"effect\": -0.05255386722792423, \"value\": -0.490258964962874}, \"611\": {\"effect\": -0.00428599125951223, \"value\": -1.2441885143499085}, \"612\": {\"effect\": 0.04042068729294499, \"value\": -0.5960874696335174}, \"613\": {\"effect\": -2.4309379077749328e-05, \"value\": -0.09942509958974781}, \"614\": {\"effect\": -0.0035807113188457153, \"value\": -0.0705607862328663}, \"615\": {\"effect\": -0.00042570506886477236, \"value\": -0.04616367471777636}, \"616\": {\"effect\": -0.012710319689031167, \"value\": -0.01620020368714903}, \"617\": {\"effect\": -0.02491284658693701, \"value\": -0.5338800414982464}, \"621\": {\"effect\": -0.002171338959742428, \"value\": 0.820963829311326}, \"624\": {\"effect\": -0.0015568450818136625, \"value\": -0.31065895812910105}, \"627\": {\"effect\": 0.00955401334095768, \"value\": -0.5960874696335174}, \"628\": {\"effect\": -0.0017587210688179767, \"value\": 0.4152142700143081}, \"629\": {\"effect\": 0.08873793518621824, \"value\": -0.1626033533654842}, \"630\": {\"effect\": -0.21725179475323786, \"value\": -0.11213652323414332}, \"631\": {\"effect\": -0.01846065349592436, \"value\": -0.11631347516631177}, \"632\": {\"effect\": 0.010565138957285853, \"value\": -0.7194755076546256}, \"633\": {\"effect\": -0.008821386153533695, \"value\": -0.9119539834426372}, \"634\": {\"effect\": -0.012114178151587112, \"value\": -0.6876339632231258}, \"635\": {\"effect\": 0.0006613717895379523, \"value\": -0.013090389596186837}, \"636\": {\"effect\": 0.003042539226798908, \"value\": -0.012353080544512734}, \"637\": {\"effect\": 0.030103663991530992, \"value\": -0.02574248274719192}, \"638\": {\"effect\": 0.007305933115148946, \"value\": -0.004883978506810066}, \"639\": {\"effect\": -0.029016843884028275, \"value\": -0.42659211930145746}, \"640\": {\"effect\": -0.006321749658216049, \"value\": 0.0692144011919265}, \"641\": {\"effect\": -0.01152292661859974, \"value\": 0.035096221305917955}, \"642\": {\"effect\": -0.005317718788701313, \"value\": -0.09988994083280987}, \"643\": {\"effect\": -0.004525706061003803, \"value\": 0.18882565718866534}, \"644\": {\"effect\": -0.0012570329601066987, \"value\": 0.22171985989352466}, \"645\": {\"effect\": -0.003607249561185881, \"value\": -0.011188633459968072}, \"646\": {\"effect\": 0.022327054544268775, \"value\": -0.35370587153414296}, \"647\": {\"effect\": -0.0022505277949085214, \"value\": 0.17981293876507548}, \"648\": {\"effect\": -0.009881424395121172, \"value\": 0.1928339830053774}, \"649\": {\"effect\": 0.01164364911013763, \"value\": -0.016713965321453608}, \"650\": {\"effect\": -0.02810880039304969, \"value\": 0.5368692250699559}, \"651\": {\"effect\": 0.00044181483264083, \"value\": 0.16667689558359047}, \"652\": {\"effect\": 0.0306546230040658, \"value\": 0.32312368038042716}, \"653\": {\"effect\": 0.003412691554703997, \"value\": -0.27680980010391126}, \"654\": {\"effect\": -0.00015024085485492833, \"value\": 0.17706035746758816}, \"655\": {\"effect\": 0.0009932875535014318, \"value\": -1.9856217672493937}, \"656\": {\"effect\": 0.00037073698949825485, \"value\": 0.17012554813462555}, \"657\": {\"effect\": 0.00010181543402723036, \"value\": 0.26085311495546665}, \"658\": {\"effect\": 3.751410273252986e-05, \"value\": -0.28055929789948547}, \"659\": {\"effect\": -0.0032934051188931333, \"value\": -0.12467678152878206}, \"660\": {\"effect\": -0.0004374328817539208, \"value\": 1.022894261192726}, \"661\": {\"effect\": -0.0014082658079860267, \"value\": 0.050312731031489845}, \"662\": {\"effect\": -0.00035468220376060343, \"value\": -0.11361674195968678}, \"663\": {\"effect\": -0.00012855029897764324, \"value\": 0.21202036053695125}, \"664\": {\"effect\": 0.0006851372082383023, \"value\": 3.2095126461186445}, \"665\": {\"effect\": -0.0010048103530971276, \"value\": 2.232058353812515}, \"666\": {\"effect\": -0.000329660784641419, \"value\": 2.702137857357952}, \"667\": {\"effect\": 0.0011543428429649793, \"value\": 1.9056726537168485}, \"668\": {\"effect\": -0.000251887699632789, \"value\": -0.18920781672218417}, \"670\": {\"effect\": -0.0006997312751263963, \"value\": -1.4613374944118136}, \"671\": {\"effect\": -0.0008389666214497993, \"value\": -0.1607961609767185}, \"672\": {\"effect\": 0.020791233358213503, \"value\": -0.3604205830659142}, \"673\": {\"effect\": -7.282002549800381e-05, \"value\": -0.15109579212003543}, \"675\": {\"effect\": 9.514812321867794e-05, \"value\": -0.26324253748412196}, \"676\": {\"effect\": 0.0015289331942767604, \"value\": 0.22623588889037133}, \"677\": {\"effect\": -0.00015880945458775385, \"value\": 0.12819063373272915}, \"678\": {\"effect\": 0.006351781892844883, \"value\": -0.0969291394344906}, \"685\": {\"effect\": -8.64171159628313e-05, \"value\": 1.1797238093004263}, \"686\": {\"effect\": 0.001244442378228996, \"value\": 1.6890287539030473}, \"687\": {\"effect\": 8.712201874004677e-05, \"value\": 0.9331342367112845}, \"688\": {\"effect\": 0.0004803185130731436, \"value\": 0.1426931133435452}, \"690\": {\"effect\": -0.0006596329104650067, \"value\": 0.4016679462101828}, \"691\": {\"effect\": 0.00042498442395299207, \"value\": -0.1875295267204413}, \"692\": {\"effect\": -0.0002792559223235003, \"value\": -0.2455334471857898}, \"693\": {\"effect\": -0.0020838320040638793, \"value\": -0.012817734416494456}, \"694\": {\"effect\": -0.00021561181823926746, \"value\": -0.07964604561180152}, \"695\": {\"effect\": -0.0002923401607040432, \"value\": -0.9792395077456881}, \"696\": {\"effect\": 0.00021629893759381958, \"value\": -0.4989136936211938}, \"697\": {\"effect\": -0.012447321309828112, \"value\": -0.5843063510543824}, \"698\": {\"effect\": -3.36929126206087e-05, \"value\": -0.12112175710908668}, \"700\": {\"effect\": -0.0010794613642065088, \"value\": -0.43197215125507793}, \"701\": {\"effect\": -0.007791694599291077, \"value\": -0.356949471658742}, \"702\": {\"effect\": 0.0009023859504668507, \"value\": -0.5326373053688134}, \"703\": {\"effect\": 0.0002662524344123085, \"value\": -0.09679861861714313}, \"705\": {\"effect\": -0.000346043370955158, \"value\": 1.066289081072214}, \"706\": {\"effect\": -0.00183114408986512, \"value\": 0.055345771265202244}, \"707\": {\"effect\": 0.0001375125475533423, \"value\": -0.1100263308325285}, \"708\": {\"effect\": 0.0043517391469868015, \"value\": 0.20956481550703343}, \"709\": {\"effect\": -0.00010276482862536795, \"value\": -0.12175501670660234}, \"710\": {\"effect\": -0.0004469328028426389, \"value\": 1.0201637154551007}, \"711\": {\"effect\": -0.0017844015307491646, \"value\": 0.05036240740279646}, \"712\": {\"effect\": -9.285852276661899e-05, \"value\": -0.11318041791857654}, \"713\": {\"effect\": -0.0004171720415979507, \"value\": 0.20722369200888724}, \"714\": {\"effect\": -0.000214444652228849, \"value\": -0.1217557302095185}, \"715\": {\"effect\": -0.00020285839680582286, \"value\": 1.0198591462700821}, \"716\": {\"effect\": -0.0004519411206638324, \"value\": 0.05029000840775421}, \"717\": {\"effect\": -4.09447556376108e-05, \"value\": -0.11339638958279795}, \"718\": {\"effect\": -0.00046219504642067475, \"value\": 0.20709078775875406}, \"720\": {\"effect\": 0.002061515970854089, \"value\": -1.3062605775375913}, \"721\": {\"effect\": -0.007334162852894224, \"value\": -0.2590039282109469}, \"722\": {\"effect\": -0.0010677047399803997, \"value\": -0.3298342976885074}, \"723\": {\"effect\": -5.740552938732435e-05, \"value\": -0.20593914100585112}, \"725\": {\"effect\": -0.00037446319623995805, \"value\": -0.18298615731640538}, \"726\": {\"effect\": -0.0019142157330134068, \"value\": -0.044935856661398425}, \"727\": {\"effect\": 6.550499128934462e-06, \"value\": -0.0977478925419731}, \"728\": {\"effect\": -0.0034928022726307974, \"value\": -0.11156187600476049}, \"735\": {\"effect\": -0.0003430010431384289, \"value\": 0.16153603230242164}, \"736\": {\"effect\": 7.617973169544712e-06, \"value\": 0.2986543102668332}, \"737\": {\"effect\": -0.00023669589738346984, \"value\": 0.15706448154800073}, \"738\": {\"effect\": 9.72547602486884e-06, \"value\": -0.08384029839343612}, \"740\": {\"effect\": -3.1083236608537844e-05, \"value\": -0.13256244470961018}, \"741\": {\"effect\": 2.544243230659049e-05, \"value\": -0.5152669326564114}, \"742\": {\"effect\": -7.334856636589393e-06, \"value\": -0.2787065380997563}, \"743\": {\"effect\": -5.061305259005167e-05, \"value\": -0.19814289900405077}, \"745\": {\"effect\": -6.061709427740425e-07, \"value\": -0.0620550352205264}, \"746\": {\"effect\": -8.583999006077648e-06, \"value\": -0.04972963935864778}, \"748\": {\"effect\": -1.6837397415656595e-05, \"value\": -0.04665915447482638}, \"752\": {\"effect\": -1.4760284684598446e-05, \"value\": -0.005765293464941347}, \"754\": {\"effect\": 0.00013880565529689193, \"value\": 0.2242753407473412}, \"756\": {\"effect\": 0.0001354811925557442, \"value\": 0.15968075849718957}, \"757\": {\"effect\": 2.9609292614622972e-05, \"value\": -0.17156210197312874}, \"758\": {\"effect\": 0.00046967451824457383, \"value\": -0.1837286484492216}, \"794\": {\"effect\": 0.00030386151658603924, \"value\": -0.18393936465904911}}, \"plot_cmap\": \"RdBu\", \"labelMargin\": 20}),\n",
       "    document.getElementById('i9UHBAF7W70BAWYQXOPUT')\n",
       "  );\n",
       "</script>"
      ],
      "text/plain": [
       "<shap.plots._force.AdditiveForceVisualizer at 0x7fa10d8aeee0>"
      ]
     },
     "execution_count": 9,
     "metadata": {},
     "output_type": "execute_result"
    }
   ],
   "source": [
    "import shap\n",
    "\n",
    "curr_idx = 100002\n",
    "\n",
    "#SHAP explainer values (NumPy array)\n",
    "explainer = shap.TreeExplainer(clf, scaled_data_df)\n",
    "shap_values = explainer.shap_values(scaled_data_df.loc[curr_idx,:], check_additivity=False)\n",
    "\n",
    "shap_values_df = pd.DataFrame(shap_values, index=scaled_data_df.columns, columns=['feature'])\n",
    "shap_sorted_features = list(shap_values_df.abs().sort_values(by='feature', ascending=False).index)\n",
    "\n",
    "\n",
    "# Write shap explainer\n",
    "ex_filename = 'data/explainer.bz2'\n",
    "joblib.dump(explainer, filename=ex_filename, compress=('bz2', 9))\n",
    "            \n",
    "# plot the SHAP values for the output of the first instance\n",
    "shap.initjs()\n",
    "shap.force_plot(explainer.expected_value, \n",
    "                shap_values, \n",
    "                scaled_data_df.loc[curr_idx,:])"
   ]
  },
  {
   "cell_type": "code",
   "execution_count": null,
   "metadata": {},
   "outputs": [],
   "source": [
    "# the waterfall_plot shows how we get from shap_values.base_values to model.predict(X)[sample_ind]\n",
    "shap.plots._waterfall.waterfall_legacy(explainer.expected_value, \n",
    "                                       shap_values, \n",
    "                                       scaled_data_df.iloc[10,:])"
   ]
  },
  {
   "cell_type": "code",
   "execution_count": null,
   "metadata": {},
   "outputs": [],
   "source": []
  },
  {
   "cell_type": "code",
   "execution_count": null,
   "metadata": {},
   "outputs": [],
   "source": []
  },
  {
   "cell_type": "code",
   "execution_count": null,
   "metadata": {
    "ExecuteTime": {
     "end_time": "2022-07-26T15:51:04.157869Z",
     "start_time": "2022-07-26T15:50:21.603085Z"
    }
   },
   "outputs": [],
   "source": [
    "files_dict = {\n",
    "    'AT': 'data/application_train.csv',\n",
    "    'BU': 'data/bureau.csv',\n",
    "    'BB': 'data/bureau_balance.csv',\n",
    "    'PA': 'data/previous_application.csv',\n",
    "    'PCB': 'data/POS_CASH_balance.csv',\n",
    "    'IP': 'data/installments_payments.csv',\n",
    "    'CCB': 'data/credit_card_balance.csv'\n",
    "}\n",
    "\n",
    "dfs_dict = {}\n",
    "for name in files_dict.items():\n",
    "    dfs_dict[name[0]] = pd.read_csv(name[1])"
   ]
  },
  {
   "cell_type": "code",
   "execution_count": null,
   "metadata": {
    "ExecuteTime": {
     "end_time": "2022-07-26T16:25:40.776913Z",
     "start_time": "2022-07-26T16:25:39.913019Z"
    }
   },
   "outputs": [],
   "source": [
    "columns_description = pd.read_csv(\n",
    "    'data/HomeCredit_columns_description_improved.csv',\n",
    "    delimiter=';', index_col=[0])\n",
    "\n",
    "features_df = pd.DataFrame(index=data.columns, columns=['TableKey', 'Row', 'State'])\n",
    "for col in data.columns:\n",
    "    for df in dfs_dict.items():\n",
    "        for col2 in df[1].columns:\n",
    "            if col2 in col:\n",
    "                features_df.loc[col, 'TableKey'] = df[0]\n",
    "                features_df.loc[col, 'Row'] = col2\n",
    "\n",
    "for row in features_df.iterrows():\n",
    "    if pd.isnull(row[1][0]):\n",
    "        continue\n",
    "    description_row = columns_description.loc[\n",
    "        (columns_description['TableKey'] == row[1][0]) & (columns_description['Row'] == row[1][1])]\n",
    "    if len(description_row):\n",
    "        features_df.loc[row[0], 'State'] = description_row['State'].iloc[0]\n",
    "        \n",
    "features_df"
   ]
  },
  {
   "cell_type": "code",
   "execution_count": null,
   "metadata": {
    "ExecuteTime": {
     "end_time": "2022-07-26T16:02:25.270727Z",
     "start_time": "2022-07-26T16:02:25.270705Z"
    }
   },
   "outputs": [],
   "source": []
  },
  {
   "cell_type": "code",
   "execution_count": null,
   "metadata": {
    "ExecuteTime": {
     "end_time": "2022-07-26T13:53:58.244837Z",
     "start_time": "2022-07-26T13:53:57.848063Z"
    }
   },
   "outputs": [],
   "source": []
  },
  {
   "cell_type": "markdown",
   "metadata": {},
   "source": [
    "# Compare dataframe"
   ]
  },
  {
   "cell_type": "markdown",
   "metadata": {},
   "source": [
    "## Load global df data and data from dashboard and compare them"
   ]
  },
  {
   "cell_type": "code",
   "execution_count": null,
   "metadata": {
    "ExecuteTime": {
     "end_time": "2022-07-25T18:10:09.247644Z",
     "start_time": "2022-07-25T18:10:06.981323Z"
    }
   },
   "outputs": [],
   "source": [
    "import pandas as pd\n",
    "import joblib\n",
    "\n",
    "# Get global df data\n",
    "global_train_data = pd.read_pickle(data_file)\n",
    "global_train_data = global_train_data.drop(['TARGET', 'SK_ID_CURR'], axis=1)\n",
    "data_from_global = pd.DataFrame([global_train_data.loc[0,:]], columns=global_train_data.columns)\n",
    "\n",
    "# Get data from dashboard\n",
    "data_from_dashboard = pd.read_csv('data/data_for_classifier.csv')\n",
    "data_from_dashboard = data_from_dashboard.drop(['TARGET', 'SK_ID_CURR'], axis=1)\n",
    "\n",
    "# Compare them\n",
    "data_from_global.compare(data_from_dashboard).to_csv('data/compare_dataframe.csv')"
   ]
  },
  {
   "cell_type": "markdown",
   "metadata": {},
   "source": [
    "# Create model with MLflow"
   ]
  },
  {
   "cell_type": "code",
   "execution_count": null,
   "metadata": {
    "ExecuteTime": {
     "end_time": "2022-07-26T13:36:26.684843Z",
     "start_time": "2022-07-26T13:36:17.308849Z"
    }
   },
   "outputs": [],
   "source": [
    "from mlflow.models.signature import infer_signature\n",
    "import mlflow.sklearn\n",
    "\n",
    "data = pd.read_pickle(data_file)\n",
    "pipeline = joblib.load(pipeline_file)\n",
    "\n",
    "# Get X and y value from data\n",
    "X = data.drop(['TARGET', 'SK_ID_CURR'], axis=1)\n",
    "y = data['TARGET']\n",
    "\n",
    "# Extract signature from in-/out- data\n",
    "signature = infer_signature(X.astype('float64'), y.astype('float64'))\n",
    "\n",
    "# Save pipeline with signature\n",
    "mlflow.sklearn.save_model(pipeline, 'MLflow/mlflow_model', signature=signature)"
   ]
  },
  {
   "cell_type": "code",
   "execution_count": null,
   "metadata": {
    "ExecuteTime": {
     "end_time": "2022-07-26T13:36:56.543916Z",
     "start_time": "2022-07-26T13:36:27.542491Z"
    }
   },
   "outputs": [],
   "source": [
    "import mlflow.pyfunc\n",
    "from mlflow.models.signature import infer_signature\n",
    "import mlflow.sklearn\n",
    "\n",
    "class Pipeline_custom(mlflow.pyfunc.PythonModel):\n",
    "    \n",
    "    def __init__(self, model):\n",
    "        self.model = model\n",
    "        \n",
    "    def predict(self, model_input):\n",
    "        return self.model.predict_proba(model_input)\n",
    "\n",
    "data = pd.read_pickle(data_file)\n",
    "# Get X and y value from data\n",
    "X = data.drop(['TARGET', 'SK_ID_CURR'], axis=1)\n",
    "y = data['TARGET']\n",
    "\n",
    "#pipeline = mlflow.sklearn.load_model('MLflow/mlflow_model/')\n",
    "pipeline = joblib.load(pipeline_file)\n",
    "pipeline_custom = Pipeline_custom(pipeline)\n",
    "\n",
    "# Get X and y value from data\n",
    "X = data.drop(['TARGET', 'SK_ID_CURR'], axis=1)\n",
    "y = data['TARGET']\n",
    "\n",
    "# Extract signature from in-/out- data\n",
    "signature = infer_signature(X.astype('float64'), pipeline_custom.predict(X))\n",
    "\n",
    "# Save pipeline with signature\n",
    "mlflow.sklearn.save_model(pipeline_custom, 'MLflow/mlflow_model_custom', signature=signature)"
   ]
  },
  {
   "cell_type": "code",
   "execution_count": null,
   "metadata": {
    "ExecuteTime": {
     "end_time": "2022-07-25T16:49:02.936834Z",
     "start_time": "2022-07-25T16:48:57.879918Z"
    }
   },
   "outputs": [],
   "source": [
    "import mlflow\n",
    "\n",
    "data_from_dashboard = pd.read_csv('data/data_for_classifier.csv')\n",
    "data_from_dashboard = data_from_dashboard.drop(['TARGET', 'SK_ID_CURR'], axis=1)\n",
    "\n",
    "global_train_data = pd.read_pickle('data/global_train_data.pkl')\n",
    "global_train_data = global_train_data.drop(['TARGET', 'SK_ID_CURR'], axis=1)\n",
    "data_from_global = pd.DataFrame([global_train_data.loc[0,:]], columns=global_train_data.columns)\n",
    "\n",
    "mlflow_model_custom = mlflow.sklearn.load_model('MLflow/mlflow_model_custom/')\n",
    "print(mlflow_model_custom.predict(data_from_dashboard))\n",
    "print(mlflow_model_custom.predict(data_from_global))"
   ]
  },
  {
   "cell_type": "code",
   "execution_count": null,
   "metadata": {},
   "outputs": [],
   "source": [
    "# Command to launch server for API REST for terminal\n",
    "#mlflow models serve -m mlflow_model/"
   ]
  },
  {
   "cell_type": "markdown",
   "metadata": {},
   "source": [
    "# Some tests"
   ]
  },
  {
   "cell_type": "code",
   "execution_count": null,
   "metadata": {
    "ExecuteTime": {
     "end_time": "2022-07-07T13:55:02.797469Z",
     "start_time": "2022-07-07T13:54:56.213884Z"
    }
   },
   "outputs": [],
   "source": [
    "import pandas as pd\n",
    "import re\n",
    "import datetime\n",
    "\n",
    "data_file = '../data/global_train_data.pkl'\n",
    "\n",
    "def get_random_row():\n",
    "    # Read data\n",
    "    data = pd.read_pickle(data_file).sample(500)\n",
    "    data = data.rename(columns=lambda x: re.sub('[^A-Za-z0-9_]+', '', x))\n",
    "    data = data.replace([np.inf, -np.inf], np.nan)\n",
    "    # Get X and y value from data\n",
    "    X = data.drop(['TARGET', 'SK_ID_CURR'], axis=1)\n",
    "    \n",
    "    return X.sample()\n",
    "\n",
    "def main():\n",
    "        \n",
    "    row = get_random_row()\n",
    "    print(-row['DAYS_BIRTH'].values[0])\n",
    "    print(datetime.date.today() + datetime.timedelta(days=int(row['DAYS_BIRTH'].values[0])))\n",
    "    \n",
    "if __name__ == '__main__':\n",
    "    main()"
   ]
  },
  {
   "cell_type": "code",
   "execution_count": null,
   "metadata": {},
   "outputs": [],
   "source": []
  },
  {
   "cell_type": "code",
   "execution_count": null,
   "metadata": {},
   "outputs": [],
   "source": []
  }
 ],
 "metadata": {
  "kernelspec": {
   "display_name": "Python 3 (ipykernel)",
   "language": "python",
   "name": "python3"
  },
  "language_info": {
   "codemirror_mode": {
    "name": "ipython",
    "version": 3
   },
   "file_extension": ".py",
   "mimetype": "text/x-python",
   "name": "python",
   "nbconvert_exporter": "python",
   "pygments_lexer": "ipython3",
   "version": "3.9.12"
  },
  "toc": {
   "base_numbering": 1,
   "nav_menu": {},
   "number_sections": true,
   "sideBar": true,
   "skip_h1_title": false,
   "title_cell": "Table of Contents",
   "title_sidebar": "Contents",
   "toc_cell": false,
   "toc_position": {
    "height": "calc(100% - 180px)",
    "left": "10px",
    "top": "150px",
    "width": "336px"
   },
   "toc_section_display": true,
   "toc_window_display": true
  },
  "varInspector": {
   "cols": {
    "lenName": 16,
    "lenType": 16,
    "lenVar": 40
   },
   "kernels_config": {
    "python": {
     "delete_cmd_postfix": "",
     "delete_cmd_prefix": "del ",
     "library": "var_list.py",
     "varRefreshCmd": "print(var_dic_list())"
    },
    "r": {
     "delete_cmd_postfix": ") ",
     "delete_cmd_prefix": "rm(",
     "library": "var_list.r",
     "varRefreshCmd": "cat(var_dic_list()) "
    }
   },
   "position": {
    "height": "630px",
    "left": "1107px",
    "right": "20px",
    "top": "110px",
    "width": "556px"
   },
   "types_to_exclude": [
    "module",
    "function",
    "builtin_function_or_method",
    "instance",
    "_Feature"
   ],
   "window_display": false
  },
  "widgets": {
   "application/vnd.jupyter.widget-state+json": {
    "state": {},
    "version_major": 2,
    "version_minor": 0
   }
  }
 },
 "nbformat": 4,
 "nbformat_minor": 4
}
