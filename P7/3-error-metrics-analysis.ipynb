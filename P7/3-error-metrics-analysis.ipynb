{
 "cells": [
  {
   "cell_type": "markdown",
   "id": "55d90639",
   "metadata": {},
   "source": [
    "# Import the training data"
   ]
  },
  {
   "cell_type": "markdown",
   "id": "6aa8384d",
   "metadata": {},
   "source": [
    "## Read the training data"
   ]
  },
  {
   "cell_type": "code",
   "execution_count": null,
   "id": "ab3a4554",
   "metadata": {
    "ExecuteTime": {
     "end_time": "2022-07-13T15:21:57.613816Z",
     "start_time": "2022-07-13T15:20:12.615759Z"
    }
   },
   "outputs": [],
   "source": [
    "import pandas as pd\n",
    "from sklearn.model_selection import train_test_split\n",
    "from sklearn.preprocessing import StandardScaler\n",
    "from sklearn.impute import SimpleImputer\n",
    "from sklearn.pipeline import Pipeline\n",
    "\n",
    "train = pd.read_pickle('data/global_train_data.pkl')\n",
    "y = train['TARGET'].values\n",
    "X = train.drop(['TARGET', 'SK_ID_CURR'], axis=1)\n",
    "\n",
    "prepro = Pipeline(\n",
    "    steps=[\n",
    "        ('imputer', SimpleImputer(strategy='median')),\n",
    "        ('scaler', StandardScaler())\n",
    "    ]\n",
    ")\n",
    "\n",
    "prepro.fit(X)\n",
    "X = prepro.transform(X)\n",
    "\n",
    "X_train, X_test, y_train, y_test = train_test_split(X, y, stratify=y, test_size=0.25, random_state=1)\n",
    "\n",
    "print('Shape of X_train:', X_train.shape)\n",
    "print('Shape of X_test:', X_test.shape)"
   ]
  },
  {
   "cell_type": "markdown",
   "id": "f40c018c",
   "metadata": {},
   "source": [
    "# Baseline"
   ]
  },
  {
   "cell_type": "code",
   "execution_count": null,
   "id": "5152e7d7",
   "metadata": {
    "ExecuteTime": {
     "end_time": "2022-07-13T15:21:57.642835Z",
     "start_time": "2022-07-13T15:21:57.622359Z"
    }
   },
   "outputs": [],
   "source": [
    "results = pd.DataFrame(columns=['Method',\n",
    "                       'TN', 'FP', 'FN', 'TP', 'sensitivity', 'accuracy', 'score'])"
   ]
  },
  {
   "cell_type": "code",
   "execution_count": null,
   "id": "6abca912",
   "metadata": {
    "ExecuteTime": {
     "end_time": "2022-07-13T15:33:06.303993Z",
     "start_time": "2022-07-13T15:29:32.259158Z"
    }
   },
   "outputs": [],
   "source": [
    "from lightgbm import LGBMClassifier\n",
    "\n",
    "param = {\n",
    "    \"boosting_type\": 'gbdt',\n",
    "    \"objective\": \"binary\",\n",
    "    \"n_jobs\": -1,\n",
    "    \"verbosity\": 1,\n",
    "    'learning_rate': 0.02,\n",
    "    'n_estimators': 1600,\n",
    "    'subsample_for_bin': 50000,\n",
    "    'subsample': 0.8,\n",
    "    'subsample_freq': 10,\n",
    "    'colsample_bytree': 0.8,\n",
    "    'reg_lambda': 30,\n",
    "    'reg_alpha': 25,\n",
    "    'min_split_gain': 0.5,\n",
    "    'min_child_weight': 1,\n",
    "    'min_child_samples': 10,\n",
    "    'scale_pos_weight': 11.5,\n",
    "    'metrics': 'logloss',\n",
    "}\n",
    "\n",
    "classifier = LGBMClassifier(**param)\n",
    "# fitting model \n",
    "classifier.fit(\n",
    "    X_train,\n",
    "    y_train,\n",
    "    eval_set=[(X_test, y_test)],\n",
    ")\n",
    "\n",
    "y_pred = classifier.predict(X_test)"
   ]
  },
  {
   "cell_type": "code",
   "execution_count": null,
   "id": "a3b5cab1",
   "metadata": {
    "ExecuteTime": {
     "end_time": "2022-07-13T15:33:25.235725Z",
     "start_time": "2022-07-13T15:33:24.946716Z"
    }
   },
   "outputs": [],
   "source": [
    "from sklearn.metrics import make_scorer\n",
    "from sklearn.metrics import confusion_matrix\n",
    "\n",
    "def get_statistics(_y_test, _y_pred):\n",
    "    _y_pred = [round(num) for num in _y_pred]\n",
    "    TN, FP, FN, TP = confusion_matrix(\n",
    "        list(_y_test), list(_y_pred), labels=[0, 1]).ravel()\n",
    "    # Sensitivity, hit rate, recall, or true positive rate\n",
    "    sensitivity = TP/(TP+FN) if TP+FN != 0 else 0\n",
    "    # Specificity or true negative rate\n",
    "    specifity = TN/(TN+FP) if TN+FP != 0 else 0\n",
    "    # Precision or positive predictive value\n",
    "    precision = TP/(TP+FP) if TP+FP != 0 else 0\n",
    "    # Overall accuracy\n",
    "    accuracy = (TP+TN)/(TP+FP+FN+TN) if TP+FP+FN+TN != 0 else 0\n",
    "\n",
    "    return TN, FP, FN, TP, sensitivity, specifity, precision, accuracy\n",
    "\n",
    "def eval_error(_y_test, _y_pred):\n",
    "    _y_pred = [round(num) for num in _y_pred]\n",
    "    TN, FP, FN, TP = confusion_matrix(\n",
    "        list(_y_test), list(_y_pred), labels=[0, 1]).ravel()\n",
    "    # Sensitivity, hit rate, recall, or true positive rate\n",
    "    sensitivity = TP/(TP+FN) if TP+FN != 0 else 0\n",
    "    # Overall accuracy\n",
    "    accuracy = (TP+TN)/(TP+FP+FN+TN) if TP+FP+FN+TN != 0 else 0\n",
    "    value = sensitivity*accuracy\n",
    "    return \"error\", value, True\n",
    "\n",
    "TN, FP, FN, TP, sensitivity, specifity, precision, accuracy = get_statistics(\n",
    "    y_test, y_pred)\n",
    "result = pd.DataFrame({'Method': 'test',\n",
    "                       'TN': [TN],\n",
    "                       'FP': [FP],\n",
    "                       'FN': [FN],\n",
    "                       'TP': [TP],\n",
    "                       'sensitivity': [sensitivity],\n",
    "                       'accuracy': [accuracy],\n",
    "                       'score': [eval_error(y_test, y_pred)[1]]})\n",
    "    \n",
    "results = pd.concat([results, result], ignore_index=True)\n",
    "\n",
    "results"
   ]
  },
  {
   "cell_type": "code",
   "execution_count": null,
   "id": "cfcf65db",
   "metadata": {},
   "outputs": [],
   "source": []
  }
 ],
 "metadata": {
  "kernelspec": {
   "display_name": "Python 3 (ipykernel)",
   "language": "python",
   "name": "python3"
  },
  "language_info": {
   "codemirror_mode": {
    "name": "ipython",
    "version": 3
   },
   "file_extension": ".py",
   "mimetype": "text/x-python",
   "name": "python",
   "nbconvert_exporter": "python",
   "pygments_lexer": "ipython3",
   "version": "3.9.12"
  },
  "toc": {
   "base_numbering": 1,
   "nav_menu": {},
   "number_sections": true,
   "sideBar": true,
   "skip_h1_title": false,
   "title_cell": "Table of Contents",
   "title_sidebar": "Contents",
   "toc_cell": false,
   "toc_position": {},
   "toc_section_display": true,
   "toc_window_display": false
  },
  "varInspector": {
   "cols": {
    "lenName": 16,
    "lenType": 16,
    "lenVar": 40
   },
   "kernels_config": {
    "python": {
     "delete_cmd_postfix": "",
     "delete_cmd_prefix": "del ",
     "library": "var_list.py",
     "varRefreshCmd": "print(var_dic_list())"
    },
    "r": {
     "delete_cmd_postfix": ") ",
     "delete_cmd_prefix": "rm(",
     "library": "var_list.r",
     "varRefreshCmd": "cat(var_dic_list()) "
    }
   },
   "types_to_exclude": [
    "module",
    "function",
    "builtin_function_or_method",
    "instance",
    "_Feature"
   ],
   "window_display": false
  }
 },
 "nbformat": 4,
 "nbformat_minor": 5
}
