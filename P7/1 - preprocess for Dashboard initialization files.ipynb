{
 "cells": [
  {
   "cell_type": "markdown",
   "id": "50cce734",
   "metadata": {},
   "source": [
    "# Load global database"
   ]
  },
  {
   "cell_type": "code",
   "execution_count": 11,
   "id": "ae2fccdd",
   "metadata": {
    "ExecuteTime": {
     "end_time": "2022-07-27T12:28:31.264748Z",
     "start_time": "2022-07-27T12:28:31.148481Z"
    }
   },
   "outputs": [],
   "source": [
    "import pandas as pd\n",
    "\n",
    "data_file = 'data/global_train_data.csv'\n",
    "global_df = pd.read_csv(data_file, nrows=1)"
   ]
  },
  {
   "cell_type": "markdown",
   "id": "3239fed6",
   "metadata": {},
   "source": [
    "# Load files databases"
   ]
  },
  {
   "cell_type": "code",
   "execution_count": 13,
   "id": "f82827cb",
   "metadata": {
    "ExecuteTime": {
     "end_time": "2022-07-27T12:28:51.065757Z",
     "start_time": "2022-07-27T12:28:50.906000Z"
    }
   },
   "outputs": [],
   "source": [
    "files_dict = {\n",
    "    'application_train': 'data/application_train.csv',\n",
    "    'bureau': 'data/bureau.csv',\n",
    "    'bureau_balance': 'data/bureau_balance.csv',\n",
    "    'previous_application': 'data/previous_application.csv',\n",
    "    'POS_CASH_balance': 'data/POS_CASH_balance.csv',\n",
    "    'installments_payments': 'data/installments_payments.csv',\n",
    "    'credit_card_balance': 'data/credit_card_balance.csv'\n",
    "}\n",
    "\n",
    "dfs_dict = {}\n",
    "for name in files_dict.items():\n",
    "    dfs_dict[name[0]] = pd.read_csv(name[1], nrows=1)"
   ]
  },
  {
   "cell_type": "markdown",
   "id": "751fa309",
   "metadata": {},
   "source": [
    "# Create Look Up Table between global database features and files database features"
   ]
  },
  {
   "cell_type": "code",
   "execution_count": 15,
   "id": "49cf8d8a",
   "metadata": {
    "ExecuteTime": {
     "end_time": "2022-07-27T12:29:07.872712Z",
     "start_time": "2022-07-27T12:29:07.654890Z"
    }
   },
   "outputs": [],
   "source": [
    "# Create Look Up Table to have correspondance\n",
    "#  between features in database and feature in original dataframes\n",
    "features_lut = pd.DataFrame(index=global_df.columns, columns=[\n",
    "'TableName', 'Row'])\n",
    "for col in global_df.columns:\n",
    "    for df in dfs_dict.items():\n",
    "        for col2 in df[1].columns:\n",
    "            if col2 in col:\n",
    "                features_lut.loc[col, 'TableName'] = df[0]\n",
    "                features_lut.loc[col, 'Row'] = col2"
   ]
  },
  {
   "cell_type": "markdown",
   "id": "136ca377",
   "metadata": {},
   "source": [
    "# Save LUT"
   ]
  },
  {
   "cell_type": "code",
   "execution_count": 16,
   "id": "a529013c",
   "metadata": {
    "ExecuteTime": {
     "end_time": "2022-07-27T12:29:09.989222Z",
     "start_time": "2022-07-27T12:29:09.977746Z"
    }
   },
   "outputs": [],
   "source": [
    "features_lut.to_csv('data/features_lut.csv', index=[0])"
   ]
  },
  {
   "cell_type": "code",
   "execution_count": null,
   "id": "393f1a8f",
   "metadata": {},
   "outputs": [],
   "source": []
  }
 ],
 "metadata": {
  "kernelspec": {
   "display_name": "Python 3 (ipykernel)",
   "language": "python",
   "name": "python3"
  },
  "language_info": {
   "codemirror_mode": {
    "name": "ipython",
    "version": 3
   },
   "file_extension": ".py",
   "mimetype": "text/x-python",
   "name": "python",
   "nbconvert_exporter": "python",
   "pygments_lexer": "ipython3",
   "version": "3.9.12"
  },
  "toc": {
   "base_numbering": 1,
   "nav_menu": {},
   "number_sections": true,
   "sideBar": true,
   "skip_h1_title": false,
   "title_cell": "Table of Contents",
   "title_sidebar": "Contents",
   "toc_cell": false,
   "toc_position": {},
   "toc_section_display": true,
   "toc_window_display": false
  },
  "varInspector": {
   "cols": {
    "lenName": 16,
    "lenType": 16,
    "lenVar": 40
   },
   "kernels_config": {
    "python": {
     "delete_cmd_postfix": "",
     "delete_cmd_prefix": "del ",
     "library": "var_list.py",
     "varRefreshCmd": "print(var_dic_list())"
    },
    "r": {
     "delete_cmd_postfix": ") ",
     "delete_cmd_prefix": "rm(",
     "library": "var_list.r",
     "varRefreshCmd": "cat(var_dic_list()) "
    }
   },
   "types_to_exclude": [
    "module",
    "function",
    "builtin_function_or_method",
    "instance",
    "_Feature"
   ],
   "window_display": false
  }
 },
 "nbformat": 4,
 "nbformat_minor": 5
}
